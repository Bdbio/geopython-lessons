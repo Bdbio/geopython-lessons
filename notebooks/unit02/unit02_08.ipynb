{
 "cells": [
  {
   "cell_type": "markdown",
   "metadata": {},
   "source": [
    "This notebook was prepared by Cayetano Benavent, 2016."
   ]
  },
  {
   "cell_type": "markdown",
   "metadata": {},
   "source": [
    "# Functions"
   ]
  },
  {
   "cell_type": "markdown",
   "metadata": {},
   "source": [
    "Function definition:"
   ]
  },
  {
   "cell_type": "code",
   "execution_count": 20,
   "metadata": {
    "collapsed": true
   },
   "outputs": [],
   "source": [
    "import math\n",
    "\n",
    "def circlePerim(rad):\n",
    "    res = 2 * math.pi * rad\n",
    "    print(\"For radious {0}, circle perimeter is {1:.2f}\".format(rad, res))"
   ]
  },
  {
   "cell_type": "markdown",
   "metadata": {},
   "source": [
    "Function call:"
   ]
  },
  {
   "cell_type": "code",
   "execution_count": 21,
   "metadata": {
    "collapsed": false
   },
   "outputs": [
    {
     "name": "stdout",
     "output_type": "stream",
     "text": [
      "For radious 10, circle perimeter is 62.83\n"
     ]
    }
   ],
   "source": [
    "circlePerim(10)"
   ]
  },
  {
   "cell_type": "code",
   "execution_count": 22,
   "metadata": {
    "collapsed": false
   },
   "outputs": [
    {
     "name": "stdout",
     "output_type": "stream",
     "text": [
      "For radious 10, circle perimeter is 62.83\n"
     ]
    }
   ],
   "source": [
    "perim = circlePerim(10)"
   ]
  },
  {
   "cell_type": "code",
   "execution_count": 23,
   "metadata": {
    "collapsed": false
   },
   "outputs": [
    {
     "name": "stdout",
     "output_type": "stream",
     "text": [
      "None\n"
     ]
    }
   ],
   "source": [
    "print(perim)"
   ]
  },
  {
   "cell_type": "markdown",
   "metadata": {},
   "source": [
    "Previous function returns nothing. Below we define a function returning value:"
   ]
  },
  {
   "cell_type": "code",
   "execution_count": 24,
   "metadata": {
    "collapsed": true
   },
   "outputs": [],
   "source": [
    "def circlePerim(rad):\n",
    "    res = 2 * math.pi * rad\n",
    "    print(\"For radious {0}, circle perimeter is {1:.2f}\".format(rad, res))\n",
    "    return res"
   ]
  },
  {
   "cell_type": "code",
   "execution_count": 25,
   "metadata": {
    "collapsed": false
   },
   "outputs": [
    {
     "name": "stdout",
     "output_type": "stream",
     "text": [
      "For radious 5, circle perimeter is 31.42\n"
     ]
    }
   ],
   "source": [
    "perim = circlePerim(5)"
   ]
  },
  {
   "cell_type": "code",
   "execution_count": 26,
   "metadata": {
    "collapsed": false
   },
   "outputs": [
    {
     "name": "stdout",
     "output_type": "stream",
     "text": [
      "31.41592653589793\n"
     ]
    }
   ],
   "source": [
    "print(perim)"
   ]
  },
  {
   "cell_type": "markdown",
   "metadata": {},
   "source": [
    "We can write in a simple way previous function (we do not want a print inside the function!):"
   ]
  },
  {
   "cell_type": "code",
   "execution_count": 27,
   "metadata": {
    "collapsed": true
   },
   "outputs": [],
   "source": [
    "def circlePerim(rad):\n",
    "    return 2 * math.pi * rad"
   ]
  },
  {
   "cell_type": "code",
   "execution_count": 28,
   "metadata": {
    "collapsed": false
   },
   "outputs": [
    {
     "name": "stdout",
     "output_type": "stream",
     "text": [
      "For radious 2, circle perimeter is 12.57\n"
     ]
    }
   ],
   "source": [
    "x = 2\n",
    "perim = circlePerim(x)\n",
    "print(\"For radious {0}, circle perimeter is {1:.2f}\".format(x, perim))"
   ]
  },
  {
   "cell_type": "markdown",
   "metadata": {},
   "source": [
    "More complex function:"
   ]
  },
  {
   "cell_type": "code",
   "execution_count": 29,
   "metadata": {
    "collapsed": true
   },
   "outputs": [],
   "source": [
    "def extrWords(txt, wrd):\n",
    "    \"\"\"\n",
    "    A function to extract words with a string pattern\n",
    "    from a text and store in a list object\n",
    "    \"\"\"\n",
    "    np_cln = txt.lower().replace(',',' ').replace('.',' ')\n",
    "    np_list = np_cln.split()\n",
    "    \n",
    "    res_list = []\n",
    "    for i in np_list:\n",
    "        if i.find(wrd) != -1:\n",
    "            res_list.append(i)\n",
    "    return res_list"
   ]
  },
  {
   "cell_type": "code",
   "execution_count": 30,
   "metadata": {
    "collapsed": true
   },
   "outputs": [],
   "source": [
    "np_text = \"\"\"For import numpy, the filename that would be run is numpy.py and the contents of that file would be run in the namespace numpy. (This isn’t quite what happens for NumPy, because NumPy is technically a package of many files, not a module of a single file, but the principle is the same.) If all the module file does is define functions, variables, etc., then nothing will be out- put. But you have access to everything that is defined by typing the module name, a period, then the name of the module function, variable, etc. you want (hence, numpy.sin, etc.). Just as in a regular Python session you have access to all the variables, functions, etc. you define in that regular session, with an imported module, all the variables, functions, etc. that the module created and used are also sitting inside the module’s namespace, ready for you to access, using the syntax just mentioned.\"\"\""
   ]
  },
  {
   "cell_type": "code",
   "execution_count": 31,
   "metadata": {
    "collapsed": false
   },
   "outputs": [
    {
     "name": "stdout",
     "output_type": "stream",
     "text": [
      "For import numpy, the filename that would be run is numpy.py and the contents of that file would be run in the namespace numpy. (This isn’t quite what happens for NumPy, because NumPy is technically a package of many files, not a module of a single file, but the principle is the same.) If all the module file does is define functions, variables, etc., then nothing will be out- put. But you have access to everything that is defined by typing the module name, a period, then the name of the module function, variable, etc. you want (hence, numpy.sin, etc.). Just as in a regular Python session you have access to all the variables, functions, etc. you define in that regular session, with an imported module, all the variables, functions, etc. that the module created and used are also sitting inside the module’s namespace, ready for you to access, using the syntax just mentioned.\n"
     ]
    }
   ],
   "source": [
    "print(np_text)"
   ]
  },
  {
   "cell_type": "code",
   "execution_count": 32,
   "metadata": {
    "collapsed": false
   },
   "outputs": [
    {
     "name": "stdout",
     "output_type": "stream",
     "text": [
      "['numpy', 'numpy', 'numpy', 'numpy', 'numpy', 'numpy']\n"
     ]
    }
   ],
   "source": [
    "myres = extrWords(np_text, \"num\")\n",
    "print(myres)"
   ]
  },
  {
   "cell_type": "code",
   "execution_count": 33,
   "metadata": {
    "collapsed": false
   },
   "outputs": [
    {
     "name": "stdout",
     "output_type": "stream",
     "text": [
      "['filename', 'file', 'files', 'file', 'file', 'define', 'defined', 'define']\n"
     ]
    }
   ],
   "source": [
    "myres = extrWords(np_text, \"fi\")\n",
    "print(myres)"
   ]
  },
  {
   "cell_type": "markdown",
   "metadata": {},
   "source": [
    "Calling functions from other functions:"
   ]
  },
  {
   "cell_type": "code",
   "execution_count": 34,
   "metadata": {
    "collapsed": true
   },
   "outputs": [],
   "source": [
    "def getWordList(txt):\n",
    "    \"\"\"\n",
    "    This function returns a list from text\n",
    "    \"\"\"\n",
    "    np_cln = np_text.lower().replace(',',' ').replace('.',' ')\n",
    "    return np_cln.split()\n",
    "\n",
    "def extrWords(txt, wrd):\n",
    "    \"\"\"\n",
    "    A function to extract words with a string pattern\n",
    "    from a text and store in a list object\n",
    "    \"\"\"\n",
    "    np_list = getWordList(txt)\n",
    "    \n",
    "    res_list = []\n",
    "    for i in np_list:\n",
    "        if i.find(wrd) != -1:\n",
    "            res_list.append(i)\n",
    "    return res_list"
   ]
  },
  {
   "cell_type": "code",
   "execution_count": 35,
   "metadata": {
    "collapsed": false
   },
   "outputs": [
    {
     "name": "stdout",
     "output_type": "stream",
     "text": [
      "['filename', 'file', 'files', 'file', 'file', 'define', 'defined', 'define']\n"
     ]
    }
   ],
   "source": [
    "myres = extrWords(np_text, \"fi\")\n",
    "print(myres)"
   ]
  },
  {
   "cell_type": "markdown",
   "metadata": {},
   "source": [
    "Passing arguments by name:"
   ]
  },
  {
   "cell_type": "code",
   "execution_count": 36,
   "metadata": {
    "collapsed": true
   },
   "outputs": [],
   "source": [
    "def getWordList(txt):\n",
    "    \"\"\"\n",
    "    This function returns a list from text\n",
    "    \"\"\"\n",
    "    np_cln = np_text.lower().replace(',',' ').replace('.',' ')\n",
    "    return np_cln.split()\n",
    "\n",
    "def extrWords(txt, wrd=\"num\"):\n",
    "    \"\"\"\n",
    "    A function to extract words with a string pattern\n",
    "    from a text and store in a list object\n",
    "    \"\"\"\n",
    "    np_list = getWordList(txt)\n",
    "    \n",
    "    res_list = []\n",
    "    for i in np_list:\n",
    "        if i.find(wrd) != -1:\n",
    "            res_list.append(i)\n",
    "    return res_list"
   ]
  },
  {
   "cell_type": "code",
   "execution_count": 37,
   "metadata": {
    "collapsed": false
   },
   "outputs": [
    {
     "name": "stdout",
     "output_type": "stream",
     "text": [
      "['numpy', 'numpy', 'numpy', 'numpy', 'numpy', 'numpy']\n"
     ]
    }
   ],
   "source": [
    "#here we use default argument value\n",
    "myres = extrWords(np_text)\n",
    "print(myres)"
   ]
  },
  {
   "cell_type": "code",
   "execution_count": 38,
   "metadata": {
    "collapsed": false
   },
   "outputs": [
    {
     "name": "stdout",
     "output_type": "stream",
     "text": [
      "['filename', 'file', 'files', 'file', 'file', 'define', 'defined', 'define']\n"
     ]
    }
   ],
   "source": [
    "#here we do not use default argument value\n",
    "myres = extrWords(np_text, wrd=\"fi\")\n",
    "print(myres)"
   ]
  }
 ],
 "metadata": {
  "kernelspec": {
   "display_name": "Python 3",
   "language": "python",
   "name": "python3"
  },
  "language_info": {
   "codemirror_mode": {
    "name": "ipython",
    "version": 3
   },
   "file_extension": ".py",
   "mimetype": "text/x-python",
   "name": "python",
   "nbconvert_exporter": "python",
   "pygments_lexer": "ipython3",
   "version": "3.4.3"
  }
 },
 "nbformat": 4,
 "nbformat_minor": 0
}
