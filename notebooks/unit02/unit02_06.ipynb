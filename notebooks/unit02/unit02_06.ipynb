{
 "cells": [
  {
   "cell_type": "markdown",
   "metadata": {},
   "source": [
    "This notebook was prepared by Cayetano Benavent, 2016."
   ]
  },
  {
   "cell_type": "markdown",
   "metadata": {},
   "source": [
    "# Control of flow: conditionals"
   ]
  },
  {
   "cell_type": "markdown",
   "metadata": {},
   "source": [
    "## IF sentence"
   ]
  },
  {
   "cell_type": "markdown",
   "metadata": {},
   "source": [
    "Simple IF sentence:"
   ]
  },
  {
   "cell_type": "code",
   "execution_count": 23,
   "metadata": {
    "collapsed": true
   },
   "outputs": [],
   "source": [
    "a = 5"
   ]
  },
  {
   "cell_type": "code",
   "execution_count": 24,
   "metadata": {
    "collapsed": false
   },
   "outputs": [
    {
     "name": "stdout",
     "output_type": "stream",
     "text": [
      "Value of a: 5\n"
     ]
    }
   ],
   "source": [
    "if a == 5:\n",
    "    print(\"Value of a: {0}\".format(a))"
   ]
  },
  {
   "cell_type": "code",
   "execution_count": 25,
   "metadata": {
    "collapsed": true
   },
   "outputs": [],
   "source": [
    "a = 2"
   ]
  },
  {
   "cell_type": "code",
   "execution_count": 26,
   "metadata": {
    "collapsed": true
   },
   "outputs": [],
   "source": [
    "if a == 5:\n",
    "    print(\"Value of a: {0}\".format(a))"
   ]
  },
  {
   "cell_type": "markdown",
   "metadata": {},
   "source": [
    "IF + ELSE sentence:"
   ]
  },
  {
   "cell_type": "code",
   "execution_count": 27,
   "metadata": {
    "collapsed": false
   },
   "outputs": [
    {
     "name": "stdout",
     "output_type": "stream",
     "text": [
      "a is not 5... Value of a: 2\n"
     ]
    }
   ],
   "source": [
    "if a == 5:\n",
    "    print(\"Value of a: {0}\".format(a))\n",
    "else:\n",
    "    print(\"a is not 5... Value of a: {0}\".format(a))"
   ]
  },
  {
   "cell_type": "code",
   "execution_count": 28,
   "metadata": {
    "collapsed": false
   },
   "outputs": [
    {
     "name": "stdout",
     "output_type": "stream",
     "text": [
      "Value of a: 2\n"
     ]
    }
   ],
   "source": [
    "if a <= 5:\n",
    "    print(\"Value of a: {0}\".format(a))\n",
    "else:\n",
    "    print(\"a is not <= 5... Value of a: {0}\".format(a))"
   ]
  },
  {
   "cell_type": "code",
   "execution_count": 29,
   "metadata": {
    "collapsed": true
   },
   "outputs": [],
   "source": [
    "b = 15"
   ]
  },
  {
   "cell_type": "code",
   "execution_count": 30,
   "metadata": {
    "collapsed": false
   },
   "outputs": [
    {
     "name": "stdout",
     "output_type": "stream",
     "text": [
      "Value of a: 2\n",
      "Value of b: 15\n"
     ]
    }
   ],
   "source": [
    "if a <= 5 and b > 10:\n",
    "    print(\"Value of a: {0}\\nValue of b: {1}\".format(a,b))\n",
    "else:\n",
    "    print(\"Incorrect values.\\na: {0} b: {1}\".format(a,b))"
   ]
  },
  {
   "cell_type": "code",
   "execution_count": 31,
   "metadata": {
    "collapsed": true
   },
   "outputs": [],
   "source": [
    "a = 6"
   ]
  },
  {
   "cell_type": "code",
   "execution_count": 32,
   "metadata": {
    "collapsed": false
   },
   "outputs": [
    {
     "name": "stdout",
     "output_type": "stream",
     "text": [
      "Incorrect values.\n",
      "a: 6 b: 15\n"
     ]
    }
   ],
   "source": [
    "if a <= 5 and b > 10:\n",
    "    print(\"Value of a: {0}\\nValue of b: {1}\".format(a,b))\n",
    "else: \n",
    "    print(\"Incorrect values.\\na: {0} b: {1}\".format(a,b))"
   ]
  },
  {
   "cell_type": "markdown",
   "metadata": {},
   "source": [
    "IF + ELIF + ELSE sentence:"
   ]
  },
  {
   "cell_type": "code",
   "execution_count": 33,
   "metadata": {
    "collapsed": true
   },
   "outputs": [],
   "source": [
    "b = 1"
   ]
  },
  {
   "cell_type": "code",
   "execution_count": 34,
   "metadata": {
    "collapsed": false
   },
   "outputs": [
    {
     "name": "stdout",
     "output_type": "stream",
     "text": [
      "Value of b: 1\n",
      "Incorrect value of a: 6\n"
     ]
    }
   ],
   "source": [
    "if a <= 5 and b > 10:\n",
    "    print(\"Value of a: {0}\\nValue of b: {1}\".format(a,b))\n",
    "elif b < 2:\n",
    "    print(\"Value of b: {0}\\nIncorrect value of a: {1}\".format(b, a))\n",
    "else: \n",
    "    print(\"Incorrect values.\\na: {0} b: {1}\".format(a,b))"
   ]
  },
  {
   "cell_type": "markdown",
   "metadata": {},
   "source": [
    "Nested IF sentences:"
   ]
  },
  {
   "cell_type": "code",
   "execution_count": 38,
   "metadata": {
    "collapsed": false
   },
   "outputs": [],
   "source": [
    "a = None\n",
    "b = False"
   ]
  },
  {
   "cell_type": "code",
   "execution_count": 39,
   "metadata": {
    "collapsed": false
   },
   "outputs": [
    {
     "name": "stdout",
     "output_type": "stream",
     "text": [
      "We need a value!\n",
      "a: None b: False\n"
     ]
    }
   ],
   "source": [
    "if a or b:\n",
    "    if a <= 5 and b > 10:\n",
    "        print(\"Value of a: {0}\\nValue of b: {1}\".format(a,b))\n",
    "    elif b < 2:\n",
    "        print(\"Value of b: {0}\\nIncorrect value of a: {1}\".format(b, a))\n",
    "    else: \n",
    "        print(\"Incorrect values.\\na: {0} b: {1}\".format(a,b))\n",
    "else:\n",
    "    print(\"We need a value!\\na: {0} b: {1}\".format(a,b))"
   ]
  }
 ],
 "metadata": {
  "kernelspec": {
   "display_name": "Python 3",
   "language": "python",
   "name": "python3"
  },
  "language_info": {
   "codemirror_mode": {
    "name": "ipython",
    "version": 3
   },
   "file_extension": ".py",
   "mimetype": "text/x-python",
   "name": "python",
   "nbconvert_exporter": "python",
   "pygments_lexer": "ipython3",
   "version": "3.4.3"
  }
 },
 "nbformat": 4,
 "nbformat_minor": 0
}
