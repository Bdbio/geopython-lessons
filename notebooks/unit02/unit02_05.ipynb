{
 "cells": [
  {
   "cell_type": "markdown",
   "metadata": {},
   "source": [
    "This notebook was prepared by Cayetano Benavent, 2016."
   ]
  },
  {
   "cell_type": "markdown",
   "metadata": {},
   "source": [
    "# Dictionaries"
   ]
  },
  {
   "cell_type": "markdown",
   "metadata": {},
   "source": [
    "Building dicts:"
   ]
  },
  {
   "cell_type": "code",
   "execution_count": 1,
   "metadata": {
    "collapsed": true
   },
   "outputs": [],
   "source": [
    "mydict = {}"
   ]
  },
  {
   "cell_type": "code",
   "execution_count": 2,
   "metadata": {
    "collapsed": true
   },
   "outputs": [],
   "source": [
    "mydict = {\"key01\": \"value01\", \"key02\": \"value02\"}"
   ]
  },
  {
   "cell_type": "code",
   "execution_count": 3,
   "metadata": {
    "collapsed": false
   },
   "outputs": [
    {
     "data": {
      "text/plain": [
       "dict"
      ]
     },
     "execution_count": 3,
     "metadata": {},
     "output_type": "execute_result"
    }
   ],
   "source": [
    "type(mydict)"
   ]
  },
  {
   "cell_type": "code",
   "execution_count": 4,
   "metadata": {
    "collapsed": false
   },
   "outputs": [
    {
     "data": {
      "text/plain": [
       "2"
      ]
     },
     "execution_count": 4,
     "metadata": {},
     "output_type": "execute_result"
    }
   ],
   "source": [
    "len(mydict)"
   ]
  },
  {
   "cell_type": "code",
   "execution_count": 5,
   "metadata": {
    "collapsed": true
   },
   "outputs": [],
   "source": [
    "anotherdict = {}"
   ]
  },
  {
   "cell_type": "code",
   "execution_count": 6,
   "metadata": {
    "collapsed": true
   },
   "outputs": [],
   "source": [
    "anotherdict[\"country\"] = \"Spain\""
   ]
  },
  {
   "cell_type": "code",
   "execution_count": 7,
   "metadata": {
    "collapsed": true
   },
   "outputs": [],
   "source": [
    "anotherdict[\"area\"] = 504645"
   ]
  },
  {
   "cell_type": "code",
   "execution_count": 8,
   "metadata": {
    "collapsed": false
   },
   "outputs": [
    {
     "name": "stdout",
     "output_type": "stream",
     "text": [
      "{'area': 504645, 'country': 'Spain'}\n"
     ]
    }
   ],
   "source": [
    "print(anotherdict)"
   ]
  },
  {
   "cell_type": "code",
   "execution_count": 9,
   "metadata": {
    "collapsed": true
   },
   "outputs": [],
   "source": [
    "anotherdict[\"main_rivers\"] = [\"Ebro\", \"Duero\", \"Tajo\", \"Guadiana\", \"Gudalquivir\"]"
   ]
  },
  {
   "cell_type": "code",
   "execution_count": 10,
   "metadata": {
    "collapsed": false
   },
   "outputs": [
    {
     "name": "stdout",
     "output_type": "stream",
     "text": [
      "{'area': 504645, 'main_rivers': ['Ebro', 'Duero', 'Tajo', 'Guadiana', 'Gudalquivir'], 'country': 'Spain'}\n"
     ]
    }
   ],
   "source": [
    "print(anotherdict)"
   ]
  },
  {
   "cell_type": "code",
   "execution_count": 11,
   "metadata": {
    "collapsed": false
   },
   "outputs": [
    {
     "data": {
      "text/plain": [
       "504645"
      ]
     },
     "execution_count": 11,
     "metadata": {},
     "output_type": "execute_result"
    }
   ],
   "source": [
    "anotherdict[\"area\"]"
   ]
  },
  {
   "cell_type": "code",
   "execution_count": 12,
   "metadata": {
    "collapsed": false
   },
   "outputs": [
    {
     "data": {
      "text/plain": [
       "dict_keys(['area', 'main_rivers', 'country'])"
      ]
     },
     "execution_count": 12,
     "metadata": {},
     "output_type": "execute_result"
    }
   ],
   "source": [
    "anotherdict.keys()"
   ]
  },
  {
   "cell_type": "code",
   "execution_count": 13,
   "metadata": {
    "collapsed": false
   },
   "outputs": [
    {
     "data": {
      "text/plain": [
       "dict_values([504645, ['Ebro', 'Duero', 'Tajo', 'Guadiana', 'Gudalquivir'], 'Spain'])"
      ]
     },
     "execution_count": 13,
     "metadata": {},
     "output_type": "execute_result"
    }
   ],
   "source": [
    "anotherdict.values()"
   ]
  },
  {
   "cell_type": "code",
   "execution_count": 14,
   "metadata": {
    "collapsed": true
   },
   "outputs": [],
   "source": [
    "locations_list = [('waypoint_01', (38.4, -6.2)), \n",
    "                  ('waypoint_02', (38.3, -6.7)), \n",
    "                  ('waypoint_03', (37.9, -6.1)), \n",
    "                  ('waypoint_04', (38.5, -6.6))]"
   ]
  },
  {
   "cell_type": "markdown",
   "metadata": {},
   "source": [
    "Building dicts from other types:"
   ]
  },
  {
   "cell_type": "code",
   "execution_count": 15,
   "metadata": {
    "collapsed": false
   },
   "outputs": [],
   "source": [
    "locations_dict = dict(locations_list)"
   ]
  },
  {
   "cell_type": "code",
   "execution_count": 16,
   "metadata": {
    "collapsed": false
   },
   "outputs": [
    {
     "name": "stdout",
     "output_type": "stream",
     "text": [
      "{'waypoint_04': (38.5, -6.6), 'waypoint_03': (37.9, -6.1), 'waypoint_02': (38.3, -6.7), 'waypoint_01': (38.4, -6.2)}\n"
     ]
    }
   ],
   "source": [
    "print(locations_dict)"
   ]
  },
  {
   "cell_type": "code",
   "execution_count": 17,
   "metadata": {
    "collapsed": false
   },
   "outputs": [
    {
     "data": {
      "text/plain": [
       "(38.4, -6.2)"
      ]
     },
     "execution_count": 17,
     "metadata": {},
     "output_type": "execute_result"
    }
   ],
   "source": [
    "locations_dict[\"waypoint_01\"]"
   ]
  },
  {
   "cell_type": "markdown",
   "metadata": {},
   "source": [
    "Accessing items in a correct way (to avoid errors if it does not exist):"
   ]
  },
  {
   "cell_type": "code",
   "execution_count": 18,
   "metadata": {
    "collapsed": false
   },
   "outputs": [
    {
     "ename": "KeyError",
     "evalue": "'waypoint_05'",
     "output_type": "error",
     "traceback": [
      "\u001b[1;31m---------------------------------------------------------------------------\u001b[0m",
      "\u001b[1;31mKeyError\u001b[0m                                  Traceback (most recent call last)",
      "\u001b[1;32m<ipython-input-18-1d9edc7a00ca>\u001b[0m in \u001b[0;36m<module>\u001b[1;34m()\u001b[0m\n\u001b[1;32m----> 1\u001b[1;33m \u001b[0mlocations_dict\u001b[0m\u001b[1;33m[\u001b[0m\u001b[1;34m\"waypoint_05\"\u001b[0m\u001b[1;33m]\u001b[0m\u001b[1;33m\u001b[0m\u001b[0m\n\u001b[0m",
      "\u001b[1;31mKeyError\u001b[0m: 'waypoint_05'"
     ]
    }
   ],
   "source": [
    "locations_dict[\"waypoint_05\"]"
   ]
  },
  {
   "cell_type": "code",
   "execution_count": 19,
   "metadata": {
    "collapsed": false
   },
   "outputs": [
    {
     "data": {
      "text/plain": [
       "(38.4, -6.2)"
      ]
     },
     "execution_count": 19,
     "metadata": {},
     "output_type": "execute_result"
    }
   ],
   "source": [
    "locations_dict.get(\"waypoint_01\")"
   ]
  },
  {
   "cell_type": "code",
   "execution_count": 20,
   "metadata": {
    "collapsed": false
   },
   "outputs": [
    {
     "data": {
      "text/plain": [
       "'emptywaypoint'"
      ]
     },
     "execution_count": 20,
     "metadata": {},
     "output_type": "execute_result"
    }
   ],
   "source": [
    "locations_dict.get(\"waypoint_05\", \"emptywaypoint\")"
   ]
  },
  {
   "cell_type": "markdown",
   "metadata": {
    "collapsed": true
   },
   "source": [
    "# Sets"
   ]
  },
  {
   "cell_type": "markdown",
   "metadata": {},
   "source": [
    "To use sets, we'll prepare some data:"
   ]
  },
  {
   "cell_type": "code",
   "execution_count": 24,
   "metadata": {
    "collapsed": true
   },
   "outputs": [],
   "source": [
    "mytext = \"\"\"Earth's atmosphere and oceans formed by volcanic activity and outgassing that included water vapor. The origin of the world's oceans was condensation augmented by water and ice delivered by asteroids, protoplanets, and comets. In this model, atmospheric \"greenhouse gases\" kept the oceans from freezing when the newly forming Sun had only 70% of its current luminosity. By 3.5 Gya, Earth's magnetic field was established, which helped prevent the atmosphere from being stripped away by the solar wind. A crust formed when the molten outer layer of Earth cooled to form a solid as the accumulated water vapor began to act in the atmosphere. The two models that explain land mass propose either a steady growth to the present-day forms or, more likely, a rapid growth early in Earth history followed by a long-term steady continental area. Continents formed by plate tectonics, a process ultimately driven by the continuous loss of heat from Earth's interior. On time scales lasting hundreds of millions of years, the supercontinents have formed and broken up three times. Roughly 750 mya (million years ago), one of the earliest known supercontinents, Rodinia, began to break apart. The continents later recombined to form Pannotia, 600-540 mya, then finally Pangaea, which also broke apart 180 mya\"\"\""
   ]
  },
  {
   "cell_type": "code",
   "execution_count": 25,
   "metadata": {
    "collapsed": false
   },
   "outputs": [
    {
     "name": "stdout",
     "output_type": "stream",
     "text": [
      "Earth's atmosphere and oceans formed by volcanic activity and outgassing that included water vapor. The origin of the world's oceans was condensation augmented by water and ice delivered by asteroids, protoplanets, and comets. In this model, atmospheric \"greenhouse gases\" kept the oceans from freezing when the newly forming Sun had only 70% of its current luminosity. By 3.5 Gya, Earth's magnetic field was established, which helped prevent the atmosphere from being stripped away by the solar wind. A crust formed when the molten outer layer of Earth cooled to form a solid as the accumulated water vapor began to act in the atmosphere. The two models that explain land mass propose either a steady growth to the present-day forms or, more likely, a rapid growth early in Earth history followed by a long-term steady continental area. Continents formed by plate tectonics, a process ultimately driven by the continuous loss of heat from Earth's interior. On time scales lasting hundreds of millions of years, the supercontinents have formed and broken up three times. Roughly 750 mya (million years ago), one of the earliest known supercontinents, Rodinia, began to break apart. The continents later recombined to form Pannotia, 600-540 mya, then finally Pangaea, which also broke apart 180 mya\n"
     ]
    }
   ],
   "source": [
    "print(mytext)"
   ]
  },
  {
   "cell_type": "code",
   "execution_count": 26,
   "metadata": {
    "collapsed": false
   },
   "outputs": [],
   "source": [
    "mytext = mytext.translate(str.maketrans(',!.;%-1234567890()\"', ' '*19)).replace(\"'s\",'').lower()"
   ]
  },
  {
   "cell_type": "code",
   "execution_count": 27,
   "metadata": {
    "collapsed": false
   },
   "outputs": [
    {
     "name": "stdout",
     "output_type": "stream",
     "text": [
      "earth atmosphere and oceans formed by volcanic activity and outgassing that included water vapor  the origin of the world oceans was condensation augmented by water and ice delivered by asteroids  protoplanets  and comets  in this model  atmospheric  greenhouse gases  kept the oceans from freezing when the newly forming sun had only     of its current luminosity  by     gya  earth magnetic field was established  which helped prevent the atmosphere from being stripped away by the solar wind  a crust formed when the molten outer layer of earth cooled to form a solid as the accumulated water vapor began to act in the atmosphere  the two models that explain land mass propose either a steady growth to the present day forms or  more likely  a rapid growth early in earth history followed by a long term steady continental area  continents formed by plate tectonics  a process ultimately driven by the continuous loss of heat from earth interior  on time scales lasting hundreds of millions of years  the supercontinents have formed and broken up three times  roughly     mya  million years ago   one of the earliest known supercontinents  rodinia  began to break apart  the continents later recombined to form pannotia          mya  then finally pangaea  which also broke apart     mya\n"
     ]
    }
   ],
   "source": [
    "print(mytext)"
   ]
  },
  {
   "cell_type": "markdown",
   "metadata": {},
   "source": [
    "Convert a list of words in a set:"
   ]
  },
  {
   "cell_type": "code",
   "execution_count": 28,
   "metadata": {
    "collapsed": true
   },
   "outputs": [],
   "source": [
    "a = set(mytext.split())"
   ]
  },
  {
   "cell_type": "code",
   "execution_count": 29,
   "metadata": {
    "collapsed": false
   },
   "outputs": [
    {
     "data": {
      "text/plain": [
       "{'a',\n",
       " 'accumulated',\n",
       " 'act',\n",
       " 'activity',\n",
       " 'ago',\n",
       " 'also',\n",
       " 'and',\n",
       " 'apart',\n",
       " 'area',\n",
       " 'as',\n",
       " 'asteroids',\n",
       " 'atmosphere',\n",
       " 'atmospheric',\n",
       " 'augmented',\n",
       " 'away',\n",
       " 'began',\n",
       " 'being',\n",
       " 'break',\n",
       " 'broke',\n",
       " 'broken',\n",
       " 'by',\n",
       " 'comets',\n",
       " 'condensation',\n",
       " 'continental',\n",
       " 'continents',\n",
       " 'continuous',\n",
       " 'cooled',\n",
       " 'crust',\n",
       " 'current',\n",
       " 'day',\n",
       " 'delivered',\n",
       " 'driven',\n",
       " 'earliest',\n",
       " 'early',\n",
       " 'earth',\n",
       " 'either',\n",
       " 'established',\n",
       " 'explain',\n",
       " 'field',\n",
       " 'finally',\n",
       " 'followed',\n",
       " 'form',\n",
       " 'formed',\n",
       " 'forming',\n",
       " 'forms',\n",
       " 'freezing',\n",
       " 'from',\n",
       " 'gases',\n",
       " 'greenhouse',\n",
       " 'growth',\n",
       " 'gya',\n",
       " 'had',\n",
       " 'have',\n",
       " 'heat',\n",
       " 'helped',\n",
       " 'history',\n",
       " 'hundreds',\n",
       " 'ice',\n",
       " 'in',\n",
       " 'included',\n",
       " 'interior',\n",
       " 'its',\n",
       " 'kept',\n",
       " 'known',\n",
       " 'land',\n",
       " 'lasting',\n",
       " 'later',\n",
       " 'layer',\n",
       " 'likely',\n",
       " 'long',\n",
       " 'loss',\n",
       " 'luminosity',\n",
       " 'magnetic',\n",
       " 'mass',\n",
       " 'million',\n",
       " 'millions',\n",
       " 'model',\n",
       " 'models',\n",
       " 'molten',\n",
       " 'more',\n",
       " 'mya',\n",
       " 'newly',\n",
       " 'oceans',\n",
       " 'of',\n",
       " 'on',\n",
       " 'one',\n",
       " 'only',\n",
       " 'or',\n",
       " 'origin',\n",
       " 'outer',\n",
       " 'outgassing',\n",
       " 'pangaea',\n",
       " 'pannotia',\n",
       " 'plate',\n",
       " 'present',\n",
       " 'prevent',\n",
       " 'process',\n",
       " 'propose',\n",
       " 'protoplanets',\n",
       " 'rapid',\n",
       " 'recombined',\n",
       " 'rodinia',\n",
       " 'roughly',\n",
       " 'scales',\n",
       " 'solar',\n",
       " 'solid',\n",
       " 'steady',\n",
       " 'stripped',\n",
       " 'sun',\n",
       " 'supercontinents',\n",
       " 'tectonics',\n",
       " 'term',\n",
       " 'that',\n",
       " 'the',\n",
       " 'then',\n",
       " 'this',\n",
       " 'three',\n",
       " 'time',\n",
       " 'times',\n",
       " 'to',\n",
       " 'two',\n",
       " 'ultimately',\n",
       " 'up',\n",
       " 'vapor',\n",
       " 'volcanic',\n",
       " 'was',\n",
       " 'water',\n",
       " 'when',\n",
       " 'which',\n",
       " 'wind',\n",
       " 'world',\n",
       " 'years'}"
      ]
     },
     "execution_count": 29,
     "metadata": {},
     "output_type": "execute_result"
    }
   ],
   "source": [
    "a"
   ]
  },
  {
   "cell_type": "markdown",
   "metadata": {},
   "source": [
    "We use a difference function over \"a\" set (give a \"b\" set):"
   ]
  },
  {
   "cell_type": "code",
   "execution_count": 30,
   "metadata": {
    "collapsed": true
   },
   "outputs": [],
   "source": [
    "b = set(['a', 'an', 'as', 'another', 'any', 'by', 'certain', 'each', 'every', 'her', 'his','in', 'its', 'my', 'no', 'of', 'on', 'or', 'our', 'some', 'that', 'the', 'then', 'their', 'this', 'to', 'was'])"
   ]
  },
  {
   "cell_type": "code",
   "execution_count": 31,
   "metadata": {
    "collapsed": false
   },
   "outputs": [
    {
     "data": {
      "text/plain": [
       "{'a',\n",
       " 'an',\n",
       " 'another',\n",
       " 'any',\n",
       " 'as',\n",
       " 'by',\n",
       " 'certain',\n",
       " 'each',\n",
       " 'every',\n",
       " 'her',\n",
       " 'his',\n",
       " 'in',\n",
       " 'its',\n",
       " 'my',\n",
       " 'no',\n",
       " 'of',\n",
       " 'on',\n",
       " 'or',\n",
       " 'our',\n",
       " 'some',\n",
       " 'that',\n",
       " 'the',\n",
       " 'their',\n",
       " 'then',\n",
       " 'this',\n",
       " 'to',\n",
       " 'was'}"
      ]
     },
     "execution_count": 31,
     "metadata": {},
     "output_type": "execute_result"
    }
   ],
   "source": [
    "b"
   ]
  },
  {
   "cell_type": "code",
   "execution_count": 32,
   "metadata": {
    "collapsed": false
   },
   "outputs": [
    {
     "data": {
      "text/plain": [
       "{'accumulated',\n",
       " 'act',\n",
       " 'activity',\n",
       " 'ago',\n",
       " 'also',\n",
       " 'and',\n",
       " 'apart',\n",
       " 'area',\n",
       " 'asteroids',\n",
       " 'atmosphere',\n",
       " 'atmospheric',\n",
       " 'augmented',\n",
       " 'away',\n",
       " 'began',\n",
       " 'being',\n",
       " 'break',\n",
       " 'broke',\n",
       " 'broken',\n",
       " 'comets',\n",
       " 'condensation',\n",
       " 'continental',\n",
       " 'continents',\n",
       " 'continuous',\n",
       " 'cooled',\n",
       " 'crust',\n",
       " 'current',\n",
       " 'day',\n",
       " 'delivered',\n",
       " 'driven',\n",
       " 'earliest',\n",
       " 'early',\n",
       " 'earth',\n",
       " 'either',\n",
       " 'established',\n",
       " 'explain',\n",
       " 'field',\n",
       " 'finally',\n",
       " 'followed',\n",
       " 'form',\n",
       " 'formed',\n",
       " 'forming',\n",
       " 'forms',\n",
       " 'freezing',\n",
       " 'from',\n",
       " 'gases',\n",
       " 'greenhouse',\n",
       " 'growth',\n",
       " 'gya',\n",
       " 'had',\n",
       " 'have',\n",
       " 'heat',\n",
       " 'helped',\n",
       " 'history',\n",
       " 'hundreds',\n",
       " 'ice',\n",
       " 'included',\n",
       " 'interior',\n",
       " 'kept',\n",
       " 'known',\n",
       " 'land',\n",
       " 'lasting',\n",
       " 'later',\n",
       " 'layer',\n",
       " 'likely',\n",
       " 'long',\n",
       " 'loss',\n",
       " 'luminosity',\n",
       " 'magnetic',\n",
       " 'mass',\n",
       " 'million',\n",
       " 'millions',\n",
       " 'model',\n",
       " 'models',\n",
       " 'molten',\n",
       " 'more',\n",
       " 'mya',\n",
       " 'newly',\n",
       " 'oceans',\n",
       " 'one',\n",
       " 'only',\n",
       " 'origin',\n",
       " 'outer',\n",
       " 'outgassing',\n",
       " 'pangaea',\n",
       " 'pannotia',\n",
       " 'plate',\n",
       " 'present',\n",
       " 'prevent',\n",
       " 'process',\n",
       " 'propose',\n",
       " 'protoplanets',\n",
       " 'rapid',\n",
       " 'recombined',\n",
       " 'rodinia',\n",
       " 'roughly',\n",
       " 'scales',\n",
       " 'solar',\n",
       " 'solid',\n",
       " 'steady',\n",
       " 'stripped',\n",
       " 'sun',\n",
       " 'supercontinents',\n",
       " 'tectonics',\n",
       " 'term',\n",
       " 'three',\n",
       " 'time',\n",
       " 'times',\n",
       " 'two',\n",
       " 'ultimately',\n",
       " 'up',\n",
       " 'vapor',\n",
       " 'volcanic',\n",
       " 'water',\n",
       " 'when',\n",
       " 'which',\n",
       " 'wind',\n",
       " 'world',\n",
       " 'years'}"
      ]
     },
     "execution_count": 32,
     "metadata": {},
     "output_type": "execute_result"
    }
   ],
   "source": [
    "a.difference(b)"
   ]
  }
 ],
 "metadata": {
  "kernelspec": {
   "display_name": "Python 3",
   "language": "python",
   "name": "python3"
  },
  "language_info": {
   "codemirror_mode": {
    "name": "ipython",
    "version": 3
   },
   "file_extension": ".py",
   "mimetype": "text/x-python",
   "name": "python",
   "nbconvert_exporter": "python",
   "pygments_lexer": "ipython3",
   "version": "3.4.3"
  }
 },
 "nbformat": 4,
 "nbformat_minor": 0
}
