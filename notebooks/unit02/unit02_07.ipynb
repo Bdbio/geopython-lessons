{
 "cells": [
  {
   "cell_type": "markdown",
   "metadata": {},
   "source": [
    "# Control of flow: loops"
   ]
  },
  {
   "cell_type": "markdown",
   "metadata": {},
   "source": [
    "## WHILE loop"
   ]
  },
  {
   "cell_type": "code",
   "execution_count": 1,
   "metadata": {
    "collapsed": true
   },
   "outputs": [],
   "source": [
    "x = 0"
   ]
  },
  {
   "cell_type": "code",
   "execution_count": 4,
   "metadata": {
    "collapsed": false
   },
   "outputs": [
    {
     "name": "stdout",
     "output_type": "stream",
     "text": [
      "Value of x: 0\n",
      "Value of x: 1\n",
      "Value of x: 2\n",
      "Value of x: 3\n",
      "Value of x: 4\n",
      "Value of x: 5\n",
      "Value of x: 6\n",
      "Value of x: 7\n",
      "Value of x: 8\n",
      "Value of x: 9\n",
      "Value of x: 10\n",
      "Value of x: 11\n",
      "Value of x: 12\n",
      "Value of x: 13\n",
      "Value of x: 14\n",
      "Value of x: 15\n",
      "Value of x: 16\n",
      "Value of x: 17\n",
      "Value of x: 18\n",
      "Value of x: 19\n"
     ]
    }
   ],
   "source": [
    "while x < 20:\n",
    "    print(\"Value of x: {0}\".format(x))\n",
    "    x += 1"
   ]
  },
  {
   "cell_type": "markdown",
   "metadata": {},
   "source": [
    "Warning: WHILE loop can be infinite if condition always is True!!!!\n",
    "\n",
    "Example:\n",
    "\n",
    "```python\n",
    "while x:\n",
    "    print(\"Value of x: {0}\".format(x))```\n"
   ]
  },
  {
   "cell_type": "markdown",
   "metadata": {},
   "source": [
    "## FOR loop:"
   ]
  },
  {
   "cell_type": "code",
   "execution_count": 7,
   "metadata": {
    "collapsed": true
   },
   "outputs": [],
   "source": [
    "locations = [('waypoint_01', (38.4, -6.2)), ('waypoint_02', (38.3, -6.7)), ('waypoint_03', (37.9, -6.1)), ('waypoint_04', (38.5, -6.6))]"
   ]
  },
  {
   "cell_type": "code",
   "execution_count": 9,
   "metadata": {
    "collapsed": false
   },
   "outputs": [
    {
     "name": "stdout",
     "output_type": "stream",
     "text": [
      "Location: ('waypoint_01', (38.4, -6.2))\n",
      "Location: ('waypoint_02', (38.3, -6.7))\n",
      "Location: ('waypoint_03', (37.9, -6.1))\n",
      "Location: ('waypoint_04', (38.5, -6.6))\n"
     ]
    }
   ],
   "source": [
    "for i in locations:\n",
    "    print(\"Location: {0}\".format(i))"
   ]
  },
  {
   "cell_type": "code",
   "execution_count": 10,
   "metadata": {
    "collapsed": true
   },
   "outputs": [],
   "source": [
    "n = 0"
   ]
  },
  {
   "cell_type": "code",
   "execution_count": 11,
   "metadata": {
    "collapsed": false
   },
   "outputs": [
    {
     "name": "stdout",
     "output_type": "stream",
     "text": [
      "Location 0: ('waypoint_01', (38.4, -6.2))\n",
      "Location 1: ('waypoint_02', (38.3, -6.7))\n",
      "Location 2: ('waypoint_03', (37.9, -6.1))\n",
      "Location 3: ('waypoint_04', (38.5, -6.6))\n"
     ]
    }
   ],
   "source": [
    "for i in locations:\n",
    "    print(\"Location {0}: {1}\".format(n, i))\n",
    "    n += 1"
   ]
  },
  {
   "cell_type": "markdown",
   "metadata": {},
   "source": [
    "A Pythonic way to handle enumerations:"
   ]
  },
  {
   "cell_type": "code",
   "execution_count": 12,
   "metadata": {
    "collapsed": false
   },
   "outputs": [
    {
     "name": "stdout",
     "output_type": "stream",
     "text": [
      "Location 0: ('waypoint_01', (38.4, -6.2))\n",
      "Location 1: ('waypoint_02', (38.3, -6.7))\n",
      "Location 2: ('waypoint_03', (37.9, -6.1))\n",
      "Location 3: ('waypoint_04', (38.5, -6.6))\n"
     ]
    }
   ],
   "source": [
    "for idx, loc in enumerate(locations):\n",
    "    print(\"Location {0}: {1}\".format(idx, loc))"
   ]
  },
  {
   "cell_type": "markdown",
   "metadata": {},
   "source": [
    "Loops with ranges:"
   ]
  },
  {
   "cell_type": "code",
   "execution_count": 13,
   "metadata": {
    "collapsed": false
   },
   "outputs": [
    {
     "name": "stdout",
     "output_type": "stream",
     "text": [
      "0\n",
      "1\n",
      "2\n",
      "3\n",
      "4\n",
      "5\n",
      "6\n",
      "7\n",
      "8\n",
      "9\n"
     ]
    }
   ],
   "source": [
    "for i in range(10):\n",
    "    print(i)"
   ]
  },
  {
   "cell_type": "code",
   "execution_count": 14,
   "metadata": {
    "collapsed": true
   },
   "outputs": [],
   "source": [
    "rg = range(10)"
   ]
  },
  {
   "cell_type": "code",
   "execution_count": 15,
   "metadata": {
    "collapsed": false
   },
   "outputs": [
    {
     "data": {
      "text/plain": [
       "range"
      ]
     },
     "execution_count": 15,
     "metadata": {},
     "output_type": "execute_result"
    }
   ],
   "source": [
    "type(rg)"
   ]
  },
  {
   "cell_type": "markdown",
   "metadata": {},
   "source": [
    "Remark: In Python 2, with ```range()``` function we build a list object."
   ]
  },
  {
   "cell_type": "markdown",
   "metadata": {},
   "source": [
    "Looping a dictionary:"
   ]
  },
  {
   "cell_type": "code",
   "execution_count": 17,
   "metadata": {
    "collapsed": false
   },
   "outputs": [],
   "source": [
    "locations_dict = {'waypoint_01': (38.4, -6.2), 'waypoint_02': (38.3, -6.7), 'waypoint_04': (38.5, -6.6), 'waypoint_03': (37.9, -6.1)}"
   ]
  },
  {
   "cell_type": "code",
   "execution_count": 18,
   "metadata": {
    "collapsed": false
   },
   "outputs": [
    {
     "name": "stdout",
     "output_type": "stream",
     "text": [
      "(38.5, -6.6)\n",
      "(38.3, -6.7)\n",
      "(38.4, -6.2)\n",
      "(37.9, -6.1)\n"
     ]
    }
   ],
   "source": [
    "for k in locations_dict:\n",
    "    print(locations_dict.get(k))"
   ]
  },
  {
   "cell_type": "code",
   "execution_count": 19,
   "metadata": {
    "collapsed": false
   },
   "outputs": [
    {
     "name": "stdout",
     "output_type": "stream",
     "text": [
      "waypoint_04: (38.5, -6.6)\n",
      "waypoint_02: (38.3, -6.7)\n",
      "waypoint_01: (38.4, -6.2)\n",
      "waypoint_03: (37.9, -6.1)\n"
     ]
    }
   ],
   "source": [
    "for k in locations_dict:\n",
    "    val = locations_dict.get(k)\n",
    "    print(\"{0}: {1}\".format(k, val))"
   ]
  },
  {
   "cell_type": "markdown",
   "metadata": {},
   "source": [
    "Looping several lists:"
   ]
  },
  {
   "cell_type": "code",
   "execution_count": 21,
   "metadata": {
    "collapsed": false
   },
   "outputs": [],
   "source": [
    "locations2 = [('pk01', 34.5), ('pk02', 35.9), ('pk03', 42.1), ('pk04', 45.3)]"
   ]
  },
  {
   "cell_type": "code",
   "execution_count": 27,
   "metadata": {
    "collapsed": false
   },
   "outputs": [
    {
     "name": "stdout",
     "output_type": "stream",
     "text": [
      "Location1: ('waypoint_01', (38.4, -6.2))\n",
      "Location2: ('pk01', 34.5)\n",
      "\n",
      "Location1: ('waypoint_02', (38.3, -6.7))\n",
      "Location2: ('pk02', 35.9)\n",
      "\n",
      "Location1: ('waypoint_03', (37.9, -6.1))\n",
      "Location2: ('pk03', 42.1)\n",
      "\n",
      "Location1: ('waypoint_04', (38.5, -6.6))\n",
      "Location2: ('pk04', 45.3)\n",
      "\n"
     ]
    }
   ],
   "source": [
    "for loc1,loc2 in zip(locations, locations2):\n",
    "    print(\"Location1: {0}\".format(loc1))\n",
    "    print(\"Location2: {0}\\n\".format(loc2))"
   ]
  },
  {
   "cell_type": "code",
   "execution_count": null,
   "metadata": {
    "collapsed": true
   },
   "outputs": [],
   "source": []
  }
 ],
 "metadata": {
  "kernelspec": {
   "display_name": "Python 3",
   "language": "python",
   "name": "python3"
  },
  "language_info": {
   "codemirror_mode": {
    "name": "ipython",
    "version": 3
   },
   "file_extension": ".py",
   "mimetype": "text/x-python",
   "name": "python",
   "nbconvert_exporter": "python",
   "pygments_lexer": "ipython3",
   "version": "3.4.4"
  }
 },
 "nbformat": 4,
 "nbformat_minor": 0
}
