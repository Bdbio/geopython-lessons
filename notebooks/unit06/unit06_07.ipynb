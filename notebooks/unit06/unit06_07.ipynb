{
 "cells": [
  {
   "cell_type": "markdown",
   "metadata": {},
   "source": [
    "This notebook was prepared by Cayetano Benavent, 2016."
   ]
  },
  {
   "cell_type": "markdown",
   "metadata": {},
   "source": [
    "# Reprojecting raster data with Rasterio"
   ]
  },
  {
   "cell_type": "code",
   "execution_count": 3,
   "metadata": {
    "collapsed": true
   },
   "outputs": [],
   "source": [
    "import rasterio\n",
    "from rasterio.warp import calculate_default_transform, reproject, RESAMPLING"
   ]
  },
  {
   "cell_type": "code",
   "execution_count": 4,
   "metadata": {
    "collapsed": true
   },
   "outputs": [],
   "source": [
    "my_file = '../../data/mde/h10_1050_2-2/h10_1050_2-2.tif'\n",
    "dst_file = '/tmp/mde_reprojected.tif'"
   ]
  },
  {
   "cell_type": "markdown",
   "metadata": {},
   "source": [
    "Define destiny CRS:"
   ]
  },
  {
   "cell_type": "code",
   "execution_count": 5,
   "metadata": {
    "collapsed": true
   },
   "outputs": [],
   "source": [
    "dst_crs = 'EPSG:25829'"
   ]
  },
  {
   "cell_type": "markdown",
   "metadata": {},
   "source": [
    "Explore source dataset:"
   ]
  },
  {
   "cell_type": "code",
   "execution_count": 6,
   "metadata": {
    "collapsed": false
   },
   "outputs": [
    {
     "name": "stdout",
     "output_type": "stream",
     "text": [
      "{'affine': Affine(10.614757961540635, 0.0, 817664.7315271514,\n",
      "       0.0, -10.614757961540635, 4078270.070665097), 'transform': Affine(10.614757961540635, 0.0, 817664.7315271514,\n",
      "       0.0, -10.614757961540635, 4078270.070665097), 'width': 761, 'height': 520, 'count': 1, 'nodata': None, 'driver': 'GTiff', 'dtype': 'float32', 'crs': 'EPSG:25829'}\n",
      "{'height': 503, 'count': 1, 'nodata': None, 'affine': Affine(10.0, 0.0, 282285.0,\n",
      "       0.0, -10.0, 4074645.0), 'driver': 'GTiff', 'dtype': 'float32', 'transform': (282285.0, 10.0, 0.0, 4074645.0, 0.0, -10.0), 'width': 777, 'crs': {'init': 'epsg:3042'}}\n"
     ]
    }
   ],
   "source": [
    "with rasterio.open(my_file) as src:\n",
    "\n",
    "    affine, width, height = calculate_default_transform(\n",
    "        src.crs, dst_crs, src.width, src.height, *src.bounds)\n",
    "    kwargs = src.meta.copy()\n",
    "    kwargs.update({\n",
    "        'crs': dst_crs,\n",
    "        'transform': affine,\n",
    "        'affine': affine,\n",
    "        'width': width,\n",
    "        'height': height\n",
    "    })\n",
    "    print(kwargs)\n",
    "    print(src.meta)"
   ]
  },
  {
   "cell_type": "markdown",
   "metadata": {},
   "source": [
    "Run reprojection:"
   ]
  },
  {
   "cell_type": "code",
   "execution_count": 7,
   "metadata": {
    "collapsed": false
   },
   "outputs": [],
   "source": [
    "with rasterio.open(my_file) as src:\n",
    "\n",
    "    affine, width, height = calculate_default_transform(\n",
    "        src.crs, dst_crs, src.width, src.height,*src.bounds)\n",
    "    kwargs = src.meta.copy()\n",
    "    kwargs.update({\n",
    "        'crs': dst_crs,\n",
    "        'transform': affine,\n",
    "        'affine': affine,\n",
    "        'width': width,\n",
    "        'height': height\n",
    "    })\n",
    "\n",
    "    with rasterio.open(dst_file, 'w', **kwargs) as dst:\n",
    "        reproject(\n",
    "            source=rasterio.band(src, 1),\n",
    "            destination=rasterio.band(dst, 1),\n",
    "            src_transform=src.affine,\n",
    "            src_crs=src.crs,\n",
    "            dst_transform=affine,\n",
    "            dst_crs=dst_crs,\n",
    "            resampling=RESAMPLING.nearest)"
   ]
  },
  {
   "cell_type": "markdown",
   "metadata": {},
   "source": [
    "Explore new dataset:"
   ]
  },
  {
   "cell_type": "code",
   "execution_count": 8,
   "metadata": {
    "collapsed": false
   },
   "outputs": [
    {
     "name": "stdout",
     "output_type": "stream",
     "text": [
      "{'affine': Affine(10.61489795756186, 0.0, 817664.7315271514,\n",
      "       0.0, -10.61489795756186, 4078270.25), 'transform': Affine(10.61489795756186, 0.0, 817664.7315271514,\n",
      "       0.0, -10.61489795756186, 4078270.25), 'width': 761, 'height': 521, 'count': 1, 'nodata': None, 'driver': 'GTiff', 'dtype': 'float32', 'crs': 'EPSG:25829'}\n",
      "{'height': 520, 'count': 1, 'nodata': None, 'affine': Affine(10.614757961540635, 0.0, 817664.7315271514,\n",
      "       0.0, -10.614757961540635, 4078270.070665097), 'driver': 'GTiff', 'dtype': 'float32', 'transform': (817664.7315271514, 10.614757961540635, 0.0, 4078270.070665097, 0.0, -10.614757961540635), 'width': 761, 'crs': {'init': 'epsg:25829'}}\n"
     ]
    }
   ],
   "source": [
    "with rasterio.open(dst_file) as src:\n",
    "\n",
    "    affine, width, height = calculate_default_transform(\n",
    "        src.crs, dst_crs, src.width, src.height, *src.bounds)\n",
    "    kwargs = src.meta.copy()\n",
    "    kwargs.update({\n",
    "        'crs': dst_crs,\n",
    "        'transform': affine,\n",
    "        'affine': affine,\n",
    "        'width': width,\n",
    "        'height': height\n",
    "    })\n",
    "    print(kwargs)\n",
    "    print(src.meta)"
   ]
  }
 ],
 "metadata": {
  "kernelspec": {
   "display_name": "Python 3",
   "language": "python",
   "name": "python3"
  },
  "language_info": {
   "codemirror_mode": {
    "name": "ipython",
    "version": 3
   },
   "file_extension": ".py",
   "mimetype": "text/x-python",
   "name": "python",
   "nbconvert_exporter": "python",
   "pygments_lexer": "ipython3",
   "version": "3.4.3"
  }
 },
 "nbformat": 4,
 "nbformat_minor": 0
}
