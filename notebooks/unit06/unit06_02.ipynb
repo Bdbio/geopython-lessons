{
 "cells": [
  {
   "cell_type": "markdown",
   "metadata": {},
   "source": [
    "This notebook was prepared by Cayetano Benavent, 2016."
   ]
  },
  {
   "cell_type": "markdown",
   "metadata": {},
   "source": [
    "# Vector data CRS transform with Fiona"
   ]
  },
  {
   "cell_type": "markdown",
   "metadata": {},
   "source": [
    "In this example we are going to reproject vector dataset.\n",
    "\n",
    "From EPSG:25830 to EPSG:25829"
   ]
  },
  {
   "cell_type": "code",
   "execution_count": 3,
   "metadata": {
    "collapsed": true
   },
   "outputs": [],
   "source": [
    "import fiona\n",
    "from fiona import transform"
   ]
  },
  {
   "cell_type": "markdown",
   "metadata": {},
   "source": [
    "Open ESRI Shapefile file and export to GeoJSON (after reprojection):"
   ]
  },
  {
   "cell_type": "code",
   "execution_count": 6,
   "metadata": {
    "collapsed": false
   },
   "outputs": [],
   "source": [
    "with fiona.open(\"../../data/clima/mf06_clima.shp\", 'r') as in_ds:\n",
    "    in_crs = in_ds.crs\n",
    "    out_crs={'init': 'epsg:25829'}\n",
    "    in_sch = in_ds.schema\n",
    "    \n",
    "    with fiona.open(\"/tmp/clima_continental_utm29.geojson\", 'w', \n",
    "                driver=\"GeoJSON\",\n",
    "                crs=out_crs,\n",
    "                schema=in_sch) as out_ds:\n",
    "        for ft in in_ds:\n",
    "            if ft['properties'].get('TIPO_CLIM') == 'Mediterráneo Continental':\n",
    "                geom_in = ft.get('geometry')\n",
    "                geom_out = transform.transform_geom(in_crs, out_crs, geom_in)\n",
    "                ft['geometry'] = geom_out\n",
    "                out_ds.write(ft)"
   ]
  }
 ],
 "metadata": {
  "kernelspec": {
   "display_name": "Python 3",
   "language": "python",
   "name": "python3"
  },
  "language_info": {
   "codemirror_mode": {
    "name": "ipython",
    "version": 3
   },
   "file_extension": ".py",
   "mimetype": "text/x-python",
   "name": "python",
   "nbconvert_exporter": "python",
   "pygments_lexer": "ipython3",
   "version": "3.4.3"
  }
 },
 "nbformat": 4,
 "nbformat_minor": 0
}
