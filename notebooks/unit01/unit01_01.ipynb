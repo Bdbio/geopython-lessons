{
 "cells": [
  {
   "cell_type": "markdown",
   "metadata": {},
   "source": [
    "This notebook was prepared by Cayetano Benavent, 2016."
   ]
  },
  {
   "cell_type": "markdown",
   "metadata": {},
   "source": [
    "# Git + GitHub + Jupyter Notebooks"
   ]
  },
  {
   "cell_type": "markdown",
   "metadata": {},
   "source": [
    "First, we go to this GitHub repository:\n",
    "\n",
    "https://github.com/GeographicaGS/geopython-lessons"
   ]
  },
  {
   "cell_type": "markdown",
   "metadata": {},
   "source": [
    "Copy to clipboard git URL from GitHub toolbar (see screenshot):\n",
    "\n",
    "   https://github.com/GeographicaGS/geopython-lessons.git https://github.com/cayetanobv/geopython-lessons.git\n",
    "\n",
    "![Github](img/github.png)"
   ]
  },
  {
   "cell_type": "markdown",
   "metadata": {},
   "source": [
    "Go to command line and type (go to the folder where you want to store notebooks):\n",
    "\n",
    "```bash\n",
    "$ cd /mylocalfolder\n",
    "$ git clone https://github.com/GeographicaGS/geopython-lessons.git\n",
    "```"
   ]
  },
  {
   "cell_type": "markdown",
   "metadata": {},
   "source": [
    "And now type in command line to run jupyter-notebook:\n",
    "```bash\n",
    "$ cd geopython-lessons/notebooks\n",
    "$ jupyter-notebook\n",
    "```"
   ]
  }
 ],
 "metadata": {
  "kernelspec": {
   "display_name": "Python 3",
   "language": "python",
   "name": "python3"
  },
  "language_info": {
   "codemirror_mode": {
    "name": "ipython",
    "version": 3
   },
   "file_extension": ".py",
   "mimetype": "text/x-python",
   "name": "python",
   "nbconvert_exporter": "python",
   "pygments_lexer": "ipython3",
   "version": "3.4.3"
  }
 },
 "nbformat": 4,
 "nbformat_minor": 0
}
