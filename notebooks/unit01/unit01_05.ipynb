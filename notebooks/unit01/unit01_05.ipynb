{
 "cells": [
  {
   "cell_type": "markdown",
   "metadata": {},
   "source": [
    "This notebook was prepared by Cayetano Benavent, 2016."
   ]
  },
  {
   "cell_type": "markdown",
   "metadata": {},
   "source": [
    "# Create a Git repository and upload to GitHub"
   ]
  },
  {
   "cell_type": "markdown",
   "metadata": {},
   "source": [
    "Go to GitHub website and create an account:\n",
    "\n",
    "https://github.com\n",
    "    \n",
    "After this we must create a new repository (see green button \"New\") with the name \"python-ebd-2016\". We can also enter a description.\n",
    "\n",
    "![Github](img/github2.png)"
   ]
  },
  {
   "cell_type": "markdown",
   "metadata": {},
   "source": [
    "Go now to folder where file helloworld.py was stored. \n",
    "\n",
    "This folder with our first Python script will be our first Git repository."
   ]
  },
  {
   "cell_type": "markdown",
   "metadata": {},
   "source": [
    "To init Git repository we must type in command line:\n",
    "```bash\n",
    "$ cd /ourrepository\n",
    "$ git init\n",
    "```"
   ]
  },
  {
   "cell_type": "markdown",
   "metadata": {},
   "source": [
    "Check status:\n",
    "```bash\n",
    "$ git status\n",
    "```"
   ]
  },
  {
   "cell_type": "markdown",
   "metadata": {},
   "source": [
    "Configure Git (change myusername y name@myemail.com):\n",
    "```bash\n",
    "$ git config --global user.name \"myusername\"\n",
    "$ git config --global user.email name@myemail.com\n",
    "```"
   ]
  },
  {
   "cell_type": "markdown",
   "metadata": {},
   "source": [
    "Now we are going to add our file:\n",
    "```bash\n",
    "$ git add helloworld.py\n",
    "$ git status\n",
    "```"
   ]
  },
  {
   "cell_type": "markdown",
   "metadata": {},
   "source": [
    "Commit this change:\n",
    "```bash\n",
    "$ git commit -m 'first commit'\n",
    "$ git status\n",
    "```"
   ]
  },
  {
   "cell_type": "markdown",
   "metadata": {},
   "source": [
    "Check log:\n",
    "```bash\n",
    "$ git log\n",
    "```"
   ]
  },
  {
   "cell_type": "markdown",
   "metadata": {},
   "source": []
  },
  {
   "cell_type": "markdown",
   "metadata": {
    "collapsed": true
   },
   "source": [
    "Link local repository to GitHub:\n",
    "```bash\n",
    "$ git remote add origin https://github.com/myusernamehere/python-ebd-2016.git\n",
    "$ git pull origin master\n",
    "$ git push origin master\n",
    "$ git status\n",
    "```"
   ]
  },
  {
   "cell_type": "markdown",
   "metadata": {},
   "source": [
    "Check your branch (you are in branch master):\n",
    "```bash\n",
    "$ git branch\n",
    "```\n",
    "\n",
    "Create a new branch (change 'myname' with your name or whatever you want):\n",
    "```bash\n",
    "$ git checkout -b dev-myname\n",
    "$ git branch\n",
    "```"
   ]
  },
  {
   "cell_type": "markdown",
   "metadata": {},
   "source": [
    "Create new document file with name README.md and write in  this file:\n",
    "\n",
    "```# Python EBD lessons 2016\n",
    "Learning Python and more...\n",
    "```"
   ]
  },
  {
   "cell_type": "markdown",
   "metadata": {},
   "source": [
    "Type in command line:\n",
    "```bash\n",
    "$ git add README.md\n",
    "$ git status\n",
    "$ git commit -m 'add readme file'\n",
    "$ git status\n",
    "$ git push origin dev-myname\n",
    "$ git status\n",
    "```"
   ]
  },
  {
   "cell_type": "markdown",
   "metadata": {},
   "source": [
    "To merge this branch with master:\n",
    "```bash\n",
    "$ git checkout master\n",
    "$ git merge dev-myname\n",
    "```"
   ]
  },
  {
   "cell_type": "markdown",
   "metadata": {},
   "source": [
    "Upload to GitHub master last changes (git pull is only to check there aren't updates at remotes):\n",
    "```bash\n",
    "$ git pull origin master\n",
    "$ git push origin master\n",
    "```"
   ]
  },
  {
   "cell_type": "markdown",
   "metadata": {},
   "source": [
    "Go to GitHub website and check there all the work done."
   ]
  }
 ],
 "metadata": {
  "kernelspec": {
   "display_name": "Python 3",
   "language": "python",
   "name": "python3"
  },
  "language_info": {
   "codemirror_mode": {
    "name": "ipython",
    "version": 3
   },
   "file_extension": ".py",
   "mimetype": "text/x-python",
   "name": "python",
   "nbconvert_exporter": "python",
   "pygments_lexer": "ipython3",
   "version": "3.4.3"
  }
 },
 "nbformat": 4,
 "nbformat_minor": 0
}
