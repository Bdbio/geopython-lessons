{
 "cells": [
  {
   "cell_type": "markdown",
   "metadata": {},
   "source": [
    "This notebook was prepared by Cayetano Benavent, 2016."
   ]
  },
  {
   "cell_type": "markdown",
   "metadata": {},
   "source": [
    "# Executing Python scripts from the command line"
   ]
  },
  {
   "cell_type": "markdown",
   "metadata": {},
   "source": [
    "Open a text editor and type:"
   ]
  },
  {
   "cell_type": "markdown",
   "metadata": {},
   "source": [
    "```python\n",
    "print(\"Hello, world!\")\n",
    "```"
   ]
  },
  {
   "cell_type": "markdown",
   "metadata": {},
   "source": [
    "Save file to disk with this name: \n",
    "\n",
    "    helloworld.py\n",
    "    \n",
    "*Remark: If we are in a Unix-like OS, we can put a shebang line as first line of the script:\n",
    "\n",
    "```#! /usr/bin/env python```"
   ]
  },
  {
   "cell_type": "markdown",
   "metadata": {},
   "source": [
    "Open again the command line interface and type:\n",
    "    \n",
    "```\n",
    "$ python helloworld.py\n",
    "```\n",
    "\n",
    "You must see something like this:\n",
    "\n",
    "![Python cli](img/pythoncli.png)\n",
    "\n",
    "\n",
    "To run with Python 3 on Unix-like environments, you must type:\n",
    "\n",
    "```\n",
    "$ python helloworld.py\n",
    "```"
   ]
  }
 ],
 "metadata": {
  "kernelspec": {
   "display_name": "Python 3",
   "language": "python",
   "name": "python3"
  },
  "language_info": {
   "codemirror_mode": {
    "name": "ipython",
    "version": 3
   },
   "file_extension": ".py",
   "mimetype": "text/x-python",
   "name": "python",
   "nbconvert_exporter": "python",
   "pygments_lexer": "ipython3",
   "version": "3.4.3"
  }
 },
 "nbformat": 4,
 "nbformat_minor": 0
}
