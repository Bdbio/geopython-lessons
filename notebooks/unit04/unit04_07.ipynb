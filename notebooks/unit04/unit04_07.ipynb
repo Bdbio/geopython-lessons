{
 "cells": [
  {
   "cell_type": "markdown",
   "metadata": {},
   "source": [
    "This notebook was prepared by Cayetano Benavent, 2016."
   ]
  },
  {
   "cell_type": "markdown",
   "metadata": {},
   "source": [
    "# Pandas 02"
   ]
  },
  {
   "cell_type": "code",
   "execution_count": 72,
   "metadata": {
    "collapsed": true
   },
   "outputs": [],
   "source": [
    "import pandas as pd"
   ]
  },
  {
   "cell_type": "markdown",
   "metadata": {},
   "source": [
    "## Reading data"
   ]
  },
  {
   "cell_type": "code",
   "execution_count": 73,
   "metadata": {
    "collapsed": true
   },
   "outputs": [],
   "source": [
    "data = \"../../data/undata_emisspcap.csv\""
   ]
  },
  {
   "cell_type": "markdown",
   "metadata": {},
   "source": [
    "World CO<sub>2</sub> emissions data.\n",
    "\n",
    "Data source: United Nations, 2016."
   ]
  },
  {
   "cell_type": "markdown",
   "metadata": {},
   "source": [
    "Reading a CSV (comma separated values) file:"
   ]
  },
  {
   "cell_type": "code",
   "execution_count": 74,
   "metadata": {
    "collapsed": false
   },
   "outputs": [],
   "source": [
    "df = pd.read_csv(data)"
   ]
  },
  {
   "cell_type": "code",
   "execution_count": 75,
   "metadata": {
    "collapsed": false
   },
   "outputs": [
    {
     "data": {
      "text/plain": [
       "pandas.core.frame.DataFrame"
      ]
     },
     "execution_count": 75,
     "metadata": {},
     "output_type": "execute_result"
    }
   ],
   "source": [
    "type(df)"
   ]
  },
  {
   "cell_type": "markdown",
   "metadata": {},
   "source": [
    "## Exploring data"
   ]
  },
  {
   "cell_type": "markdown",
   "metadata": {},
   "source": [
    "Read and print only first rows with ```head``` (it is a big file with thousands of rows):"
   ]
  },
  {
   "cell_type": "code",
   "execution_count": 76,
   "metadata": {
    "collapsed": false
   },
   "outputs": [
    {
     "data": {
      "text/html": [
       "<div>\n",
       "<table border=\"1\" class=\"dataframe\">\n",
       "  <thead>\n",
       "    <tr style=\"text-align: right;\">\n",
       "      <th></th>\n",
       "      <th>Indicator Code</th>\n",
       "      <th>Country or Area Code</th>\n",
       "      <th>Country or Area</th>\n",
       "      <th>Time Code</th>\n",
       "      <th>Year</th>\n",
       "      <th>Value</th>\n",
       "      <th>Value Footnotes</th>\n",
       "    </tr>\n",
       "  </thead>\n",
       "  <tbody>\n",
       "    <tr>\n",
       "      <th>0</th>\n",
       "      <td>EN.ATM.CO2E.PC</td>\n",
       "      <td>AFG</td>\n",
       "      <td>Afghanistan</td>\n",
       "      <td>YR2011</td>\n",
       "      <td>2011</td>\n",
       "      <td>0.425262</td>\n",
       "      <td>NaN</td>\n",
       "    </tr>\n",
       "    <tr>\n",
       "      <th>1</th>\n",
       "      <td>EN.ATM.CO2E.PC</td>\n",
       "      <td>AFG</td>\n",
       "      <td>Afghanistan</td>\n",
       "      <td>YR2010</td>\n",
       "      <td>2010</td>\n",
       "      <td>0.302936</td>\n",
       "      <td>NaN</td>\n",
       "    </tr>\n",
       "    <tr>\n",
       "      <th>2</th>\n",
       "      <td>EN.ATM.CO2E.PC</td>\n",
       "      <td>AFG</td>\n",
       "      <td>Afghanistan</td>\n",
       "      <td>YR2009</td>\n",
       "      <td>2009</td>\n",
       "      <td>0.249074</td>\n",
       "      <td>NaN</td>\n",
       "    </tr>\n",
       "    <tr>\n",
       "      <th>3</th>\n",
       "      <td>EN.ATM.CO2E.PC</td>\n",
       "      <td>AFG</td>\n",
       "      <td>Afghanistan</td>\n",
       "      <td>YR2008</td>\n",
       "      <td>2008</td>\n",
       "      <td>0.158962</td>\n",
       "      <td>NaN</td>\n",
       "    </tr>\n",
       "    <tr>\n",
       "      <th>4</th>\n",
       "      <td>EN.ATM.CO2E.PC</td>\n",
       "      <td>AFG</td>\n",
       "      <td>Afghanistan</td>\n",
       "      <td>YR2007</td>\n",
       "      <td>2007</td>\n",
       "      <td>0.088141</td>\n",
       "      <td>NaN</td>\n",
       "    </tr>\n",
       "  </tbody>\n",
       "</table>\n",
       "</div>"
      ],
      "text/plain": [
       "   Indicator Code Country or Area Code Country or Area Time Code  Year  \\\n",
       "0  EN.ATM.CO2E.PC                  AFG     Afghanistan    YR2011  2011   \n",
       "1  EN.ATM.CO2E.PC                  AFG     Afghanistan    YR2010  2010   \n",
       "2  EN.ATM.CO2E.PC                  AFG     Afghanistan    YR2009  2009   \n",
       "3  EN.ATM.CO2E.PC                  AFG     Afghanistan    YR2008  2008   \n",
       "4  EN.ATM.CO2E.PC                  AFG     Afghanistan    YR2007  2007   \n",
       "\n",
       "      Value  Value Footnotes  \n",
       "0  0.425262              NaN  \n",
       "1  0.302936              NaN  \n",
       "2  0.249074              NaN  \n",
       "3  0.158962              NaN  \n",
       "4  0.088141              NaN  "
      ]
     },
     "execution_count": 76,
     "metadata": {},
     "output_type": "execute_result"
    }
   ],
   "source": [
    "df.head()"
   ]
  },
  {
   "cell_type": "markdown",
   "metadata": {},
   "source": [
    "Print only last rows with ```tail``` :"
   ]
  },
  {
   "cell_type": "code",
   "execution_count": 77,
   "metadata": {
    "collapsed": false
   },
   "outputs": [
    {
     "data": {
      "text/html": [
       "<div>\n",
       "<table border=\"1\" class=\"dataframe\">\n",
       "  <thead>\n",
       "    <tr style=\"text-align: right;\">\n",
       "      <th></th>\n",
       "      <th>Indicator Code</th>\n",
       "      <th>Country or Area Code</th>\n",
       "      <th>Country or Area</th>\n",
       "      <th>Time Code</th>\n",
       "      <th>Year</th>\n",
       "      <th>Value</th>\n",
       "      <th>Value Footnotes</th>\n",
       "    </tr>\n",
       "  </thead>\n",
       "  <tbody>\n",
       "    <tr>\n",
       "      <th>10566</th>\n",
       "      <td>EN.ATM.CO2E.PC</td>\n",
       "      <td>ZWE</td>\n",
       "      <td>Zimbabwe</td>\n",
       "      <td>YR1968</td>\n",
       "      <td>1968</td>\n",
       "      <td>1.309827</td>\n",
       "      <td>NaN</td>\n",
       "    </tr>\n",
       "    <tr>\n",
       "      <th>10567</th>\n",
       "      <td>EN.ATM.CO2E.PC</td>\n",
       "      <td>ZWE</td>\n",
       "      <td>Zimbabwe</td>\n",
       "      <td>YR1967</td>\n",
       "      <td>1967</td>\n",
       "      <td>1.122961</td>\n",
       "      <td>NaN</td>\n",
       "    </tr>\n",
       "    <tr>\n",
       "      <th>10568</th>\n",
       "      <td>EN.ATM.CO2E.PC</td>\n",
       "      <td>ZWE</td>\n",
       "      <td>Zimbabwe</td>\n",
       "      <td>YR1966</td>\n",
       "      <td>1966</td>\n",
       "      <td>1.323656</td>\n",
       "      <td>NaN</td>\n",
       "    </tr>\n",
       "    <tr>\n",
       "      <th>10569</th>\n",
       "      <td>EN.ATM.CO2E.PC</td>\n",
       "      <td>ZWE</td>\n",
       "      <td>Zimbabwe</td>\n",
       "      <td>YR1965</td>\n",
       "      <td>1965</td>\n",
       "      <td>1.179176</td>\n",
       "      <td>NaN</td>\n",
       "    </tr>\n",
       "    <tr>\n",
       "      <th>10570</th>\n",
       "      <td>EN.ATM.CO2E.PC</td>\n",
       "      <td>ZWE</td>\n",
       "      <td>Zimbabwe</td>\n",
       "      <td>YR1964</td>\n",
       "      <td>1964</td>\n",
       "      <td>1.045374</td>\n",
       "      <td>NaN</td>\n",
       "    </tr>\n",
       "  </tbody>\n",
       "</table>\n",
       "</div>"
      ],
      "text/plain": [
       "       Indicator Code Country or Area Code Country or Area Time Code  Year  \\\n",
       "10566  EN.ATM.CO2E.PC                  ZWE        Zimbabwe    YR1968  1968   \n",
       "10567  EN.ATM.CO2E.PC                  ZWE        Zimbabwe    YR1967  1967   \n",
       "10568  EN.ATM.CO2E.PC                  ZWE        Zimbabwe    YR1966  1966   \n",
       "10569  EN.ATM.CO2E.PC                  ZWE        Zimbabwe    YR1965  1965   \n",
       "10570  EN.ATM.CO2E.PC                  ZWE        Zimbabwe    YR1964  1964   \n",
       "\n",
       "          Value  Value Footnotes  \n",
       "10566  1.309827              NaN  \n",
       "10567  1.122961              NaN  \n",
       "10568  1.323656              NaN  \n",
       "10569  1.179176              NaN  \n",
       "10570  1.045374              NaN  "
      ]
     },
     "execution_count": 77,
     "metadata": {},
     "output_type": "execute_result"
    }
   ],
   "source": [
    "df.tail()"
   ]
  },
  {
   "cell_type": "markdown",
   "metadata": {},
   "source": [
    "Counting rows:"
   ]
  },
  {
   "cell_type": "code",
   "execution_count": 78,
   "metadata": {
    "collapsed": false
   },
   "outputs": [
    {
     "data": {
      "text/plain": [
       "Indicator Code          10571\n",
       "Country or Area Code    10571\n",
       "Country or Area         10571\n",
       "Time Code               10571\n",
       "Year                    10571\n",
       "Value                   10571\n",
       "Value Footnotes             0\n",
       "dtype: int64"
      ]
     },
     "execution_count": 78,
     "metadata": {},
     "output_type": "execute_result"
    }
   ],
   "source": [
    "df.count()"
   ]
  },
  {
   "cell_type": "code",
   "execution_count": 79,
   "metadata": {
    "collapsed": false
   },
   "outputs": [
    {
     "data": {
      "text/plain": [
       "Index(['Indicator Code', 'Country or Area Code', 'Country or Area',\n",
       "       'Time Code', 'Year', 'Value', 'Value Footnotes'],\n",
       "      dtype='object')"
      ]
     },
     "execution_count": 79,
     "metadata": {},
     "output_type": "execute_result"
    }
   ],
   "source": [
    "df.keys()"
   ]
  },
  {
   "cell_type": "markdown",
   "metadata": {},
   "source": [
    "Generating various summary statistics, excluding NaN values:"
   ]
  },
  {
   "cell_type": "code",
   "execution_count": 80,
   "metadata": {
    "collapsed": false
   },
   "outputs": [
    {
     "data": {
      "text/html": [
       "<div>\n",
       "<table border=\"1\" class=\"dataframe\">\n",
       "  <thead>\n",
       "    <tr style=\"text-align: right;\">\n",
       "      <th></th>\n",
       "      <th>Year</th>\n",
       "      <th>Value</th>\n",
       "      <th>Value Footnotes</th>\n",
       "    </tr>\n",
       "  </thead>\n",
       "  <tbody>\n",
       "    <tr>\n",
       "      <th>count</th>\n",
       "      <td>10571.000000</td>\n",
       "      <td>10571.000000</td>\n",
       "      <td>0</td>\n",
       "    </tr>\n",
       "    <tr>\n",
       "      <th>mean</th>\n",
       "      <td>1986.746949</td>\n",
       "      <td>4.311682</td>\n",
       "      <td>NaN</td>\n",
       "    </tr>\n",
       "    <tr>\n",
       "      <th>std</th>\n",
       "      <td>15.053139</td>\n",
       "      <td>7.193311</td>\n",
       "      <td>NaN</td>\n",
       "    </tr>\n",
       "    <tr>\n",
       "      <th>min</th>\n",
       "      <td>1960.000000</td>\n",
       "      <td>0.000580</td>\n",
       "      <td>NaN</td>\n",
       "    </tr>\n",
       "    <tr>\n",
       "      <th>25%</th>\n",
       "      <td>1974.000000</td>\n",
       "      <td>0.411164</td>\n",
       "      <td>NaN</td>\n",
       "    </tr>\n",
       "    <tr>\n",
       "      <th>50%</th>\n",
       "      <td>1988.000000</td>\n",
       "      <td>1.590776</td>\n",
       "      <td>NaN</td>\n",
       "    </tr>\n",
       "    <tr>\n",
       "      <th>75%</th>\n",
       "      <td>2000.000000</td>\n",
       "      <td>5.977060</td>\n",
       "      <td>NaN</td>\n",
       "    </tr>\n",
       "    <tr>\n",
       "      <th>max</th>\n",
       "      <td>2011.000000</td>\n",
       "      <td>99.840439</td>\n",
       "      <td>NaN</td>\n",
       "    </tr>\n",
       "  </tbody>\n",
       "</table>\n",
       "</div>"
      ],
      "text/plain": [
       "               Year         Value  Value Footnotes\n",
       "count  10571.000000  10571.000000                0\n",
       "mean    1986.746949      4.311682              NaN\n",
       "std       15.053139      7.193311              NaN\n",
       "min     1960.000000      0.000580              NaN\n",
       "25%     1974.000000      0.411164              NaN\n",
       "50%     1988.000000      1.590776              NaN\n",
       "75%     2000.000000      5.977060              NaN\n",
       "max     2011.000000     99.840439              NaN"
      ]
     },
     "execution_count": 80,
     "metadata": {},
     "output_type": "execute_result"
    }
   ],
   "source": [
    "df.describe()"
   ]
  },
  {
   "cell_type": "code",
   "execution_count": 81,
   "metadata": {
    "collapsed": true
   },
   "outputs": [],
   "source": [
    "df.describe?"
   ]
  },
  {
   "cell_type": "markdown",
   "metadata": {},
   "source": [
    "## Accessing data"
   ]
  },
  {
   "cell_type": "code",
   "execution_count": 82,
   "metadata": {
    "collapsed": false
   },
   "outputs": [
    {
     "data": {
      "text/plain": [
       "0    0.425262\n",
       "1    0.302936\n",
       "2    0.249074\n",
       "3    0.158962\n",
       "4    0.088141\n",
       "Name: Value, dtype: float64"
      ]
     },
     "execution_count": 82,
     "metadata": {},
     "output_type": "execute_result"
    }
   ],
   "source": [
    "df['Value'].head()"
   ]
  },
  {
   "cell_type": "code",
   "execution_count": 83,
   "metadata": {
    "collapsed": false
   },
   "outputs": [
    {
     "data": {
      "text/plain": [
       "False    10571\n",
       "Name: Value, dtype: int64"
      ]
     },
     "execution_count": 83,
     "metadata": {},
     "output_type": "execute_result"
    }
   ],
   "source": [
    "df['Value'].isnull().value_counts()"
   ]
  },
  {
   "cell_type": "code",
   "execution_count": 84,
   "metadata": {
    "collapsed": false
   },
   "outputs": [
    {
     "data": {
      "text/plain": [
       "False    10571\n",
       "Name: Year, dtype: int64"
      ]
     },
     "execution_count": 84,
     "metadata": {},
     "output_type": "execute_result"
    }
   ],
   "source": [
    "df['Year'].isnull().value_counts()"
   ]
  },
  {
   "cell_type": "code",
   "execution_count": 85,
   "metadata": {
    "collapsed": false
   },
   "outputs": [
    {
     "data": {
      "text/plain": [
       "True    10571\n",
       "Name: Value Footnotes, dtype: int64"
      ]
     },
     "execution_count": 85,
     "metadata": {},
     "output_type": "execute_result"
    }
   ],
   "source": [
    "df['Value Footnotes'].isnull().value_counts()"
   ]
  },
  {
   "cell_type": "code",
   "execution_count": 86,
   "metadata": {
    "collapsed": false
   },
   "outputs": [
    {
     "data": {
      "text/plain": [
       "0.42526210494041705"
      ]
     },
     "execution_count": 86,
     "metadata": {},
     "output_type": "execute_result"
    }
   ],
   "source": [
    "df['Value'][0]"
   ]
  },
  {
   "cell_type": "markdown",
   "metadata": {},
   "source": [
    "Rename columns:"
   ]
  },
  {
   "cell_type": "code",
   "execution_count": 87,
   "metadata": {
    "collapsed": true
   },
   "outputs": [],
   "source": [
    "df.rename(columns={'Value': 'emissions'}, inplace=True)"
   ]
  },
  {
   "cell_type": "code",
   "execution_count": 88,
   "metadata": {
    "collapsed": false
   },
   "outputs": [
    {
     "data": {
      "text/html": [
       "<div>\n",
       "<table border=\"1\" class=\"dataframe\">\n",
       "  <thead>\n",
       "    <tr style=\"text-align: right;\">\n",
       "      <th></th>\n",
       "      <th>Indicator Code</th>\n",
       "      <th>Country or Area Code</th>\n",
       "      <th>Country or Area</th>\n",
       "      <th>Time Code</th>\n",
       "      <th>Year</th>\n",
       "      <th>emissions</th>\n",
       "      <th>Value Footnotes</th>\n",
       "    </tr>\n",
       "  </thead>\n",
       "  <tbody>\n",
       "    <tr>\n",
       "      <th>0</th>\n",
       "      <td>EN.ATM.CO2E.PC</td>\n",
       "      <td>AFG</td>\n",
       "      <td>Afghanistan</td>\n",
       "      <td>YR2011</td>\n",
       "      <td>2011</td>\n",
       "      <td>0.425262</td>\n",
       "      <td>NaN</td>\n",
       "    </tr>\n",
       "    <tr>\n",
       "      <th>1</th>\n",
       "      <td>EN.ATM.CO2E.PC</td>\n",
       "      <td>AFG</td>\n",
       "      <td>Afghanistan</td>\n",
       "      <td>YR2010</td>\n",
       "      <td>2010</td>\n",
       "      <td>0.302936</td>\n",
       "      <td>NaN</td>\n",
       "    </tr>\n",
       "    <tr>\n",
       "      <th>2</th>\n",
       "      <td>EN.ATM.CO2E.PC</td>\n",
       "      <td>AFG</td>\n",
       "      <td>Afghanistan</td>\n",
       "      <td>YR2009</td>\n",
       "      <td>2009</td>\n",
       "      <td>0.249074</td>\n",
       "      <td>NaN</td>\n",
       "    </tr>\n",
       "    <tr>\n",
       "      <th>3</th>\n",
       "      <td>EN.ATM.CO2E.PC</td>\n",
       "      <td>AFG</td>\n",
       "      <td>Afghanistan</td>\n",
       "      <td>YR2008</td>\n",
       "      <td>2008</td>\n",
       "      <td>0.158962</td>\n",
       "      <td>NaN</td>\n",
       "    </tr>\n",
       "    <tr>\n",
       "      <th>4</th>\n",
       "      <td>EN.ATM.CO2E.PC</td>\n",
       "      <td>AFG</td>\n",
       "      <td>Afghanistan</td>\n",
       "      <td>YR2007</td>\n",
       "      <td>2007</td>\n",
       "      <td>0.088141</td>\n",
       "      <td>NaN</td>\n",
       "    </tr>\n",
       "  </tbody>\n",
       "</table>\n",
       "</div>"
      ],
      "text/plain": [
       "   Indicator Code Country or Area Code Country or Area Time Code  Year  \\\n",
       "0  EN.ATM.CO2E.PC                  AFG     Afghanistan    YR2011  2011   \n",
       "1  EN.ATM.CO2E.PC                  AFG     Afghanistan    YR2010  2010   \n",
       "2  EN.ATM.CO2E.PC                  AFG     Afghanistan    YR2009  2009   \n",
       "3  EN.ATM.CO2E.PC                  AFG     Afghanistan    YR2008  2008   \n",
       "4  EN.ATM.CO2E.PC                  AFG     Afghanistan    YR2007  2007   \n",
       "\n",
       "   emissions  Value Footnotes  \n",
       "0   0.425262              NaN  \n",
       "1   0.302936              NaN  \n",
       "2   0.249074              NaN  \n",
       "3   0.158962              NaN  \n",
       "4   0.088141              NaN  "
      ]
     },
     "execution_count": 88,
     "metadata": {},
     "output_type": "execute_result"
    }
   ],
   "source": [
    "df.head()"
   ]
  },
  {
   "cell_type": "markdown",
   "metadata": {},
   "source": [
    "Accessing data by attribute (China emissions):"
   ]
  },
  {
   "cell_type": "code",
   "execution_count": 89,
   "metadata": {
    "collapsed": true
   },
   "outputs": [],
   "source": [
    "chn = df[df['Country or Area Code'] == 'CHN']"
   ]
  },
  {
   "cell_type": "code",
   "execution_count": 90,
   "metadata": {
    "collapsed": false
   },
   "outputs": [
    {
     "data": {
      "text/html": [
       "<div>\n",
       "<table border=\"1\" class=\"dataframe\">\n",
       "  <thead>\n",
       "    <tr style=\"text-align: right;\">\n",
       "      <th></th>\n",
       "      <th>Indicator Code</th>\n",
       "      <th>Country or Area Code</th>\n",
       "      <th>Country or Area</th>\n",
       "      <th>Time Code</th>\n",
       "      <th>Year</th>\n",
       "      <th>emissions</th>\n",
       "      <th>Value Footnotes</th>\n",
       "    </tr>\n",
       "  </thead>\n",
       "  <tbody>\n",
       "    <tr>\n",
       "      <th>1855</th>\n",
       "      <td>EN.ATM.CO2E.PC</td>\n",
       "      <td>CHN</td>\n",
       "      <td>China</td>\n",
       "      <td>YR2011</td>\n",
       "      <td>2011</td>\n",
       "      <td>6.710302</td>\n",
       "      <td>NaN</td>\n",
       "    </tr>\n",
       "    <tr>\n",
       "      <th>1856</th>\n",
       "      <td>EN.ATM.CO2E.PC</td>\n",
       "      <td>CHN</td>\n",
       "      <td>China</td>\n",
       "      <td>YR2010</td>\n",
       "      <td>2010</td>\n",
       "      <td>6.172489</td>\n",
       "      <td>NaN</td>\n",
       "    </tr>\n",
       "    <tr>\n",
       "      <th>1857</th>\n",
       "      <td>EN.ATM.CO2E.PC</td>\n",
       "      <td>CHN</td>\n",
       "      <td>China</td>\n",
       "      <td>YR2009</td>\n",
       "      <td>2009</td>\n",
       "      <td>5.778143</td>\n",
       "      <td>NaN</td>\n",
       "    </tr>\n",
       "    <tr>\n",
       "      <th>1858</th>\n",
       "      <td>EN.ATM.CO2E.PC</td>\n",
       "      <td>CHN</td>\n",
       "      <td>China</td>\n",
       "      <td>YR2008</td>\n",
       "      <td>2008</td>\n",
       "      <td>5.311152</td>\n",
       "      <td>NaN</td>\n",
       "    </tr>\n",
       "    <tr>\n",
       "      <th>1859</th>\n",
       "      <td>EN.ATM.CO2E.PC</td>\n",
       "      <td>CHN</td>\n",
       "      <td>China</td>\n",
       "      <td>YR2007</td>\n",
       "      <td>2007</td>\n",
       "      <td>5.153564</td>\n",
       "      <td>NaN</td>\n",
       "    </tr>\n",
       "  </tbody>\n",
       "</table>\n",
       "</div>"
      ],
      "text/plain": [
       "      Indicator Code Country or Area Code Country or Area Time Code  Year  \\\n",
       "1855  EN.ATM.CO2E.PC                  CHN           China    YR2011  2011   \n",
       "1856  EN.ATM.CO2E.PC                  CHN           China    YR2010  2010   \n",
       "1857  EN.ATM.CO2E.PC                  CHN           China    YR2009  2009   \n",
       "1858  EN.ATM.CO2E.PC                  CHN           China    YR2008  2008   \n",
       "1859  EN.ATM.CO2E.PC                  CHN           China    YR2007  2007   \n",
       "\n",
       "      emissions  Value Footnotes  \n",
       "1855   6.710302              NaN  \n",
       "1856   6.172489              NaN  \n",
       "1857   5.778143              NaN  \n",
       "1858   5.311152              NaN  \n",
       "1859   5.153564              NaN  "
      ]
     },
     "execution_count": 90,
     "metadata": {},
     "output_type": "execute_result"
    }
   ],
   "source": [
    "chn.head()"
   ]
  },
  {
   "cell_type": "code",
   "execution_count": 91,
   "metadata": {
    "collapsed": false
   },
   "outputs": [],
   "source": [
    "x_ch = chn['Year']\n",
    "y_ch = chn['emissions']"
   ]
  },
  {
   "cell_type": "code",
   "execution_count": 92,
   "metadata": {
    "collapsed": false
   },
   "outputs": [
    {
     "data": {
      "text/plain": [
       "1855    2011\n",
       "1856    2010\n",
       "1857    2009\n",
       "1858    2008\n",
       "1859    2007\n",
       "Name: Year, dtype: int64"
      ]
     },
     "execution_count": 92,
     "metadata": {},
     "output_type": "execute_result"
    }
   ],
   "source": [
    "x_ch.head()"
   ]
  },
  {
   "cell_type": "code",
   "execution_count": 93,
   "metadata": {
    "collapsed": false
   },
   "outputs": [
    {
     "data": {
      "text/plain": [
       "1902    1964\n",
       "1903    1963\n",
       "1904    1962\n",
       "1905    1961\n",
       "1906    1960\n",
       "Name: Year, dtype: int64"
      ]
     },
     "execution_count": 93,
     "metadata": {},
     "output_type": "execute_result"
    }
   ],
   "source": [
    "x_ch.tail()"
   ]
  },
  {
   "cell_type": "code",
   "execution_count": 94,
   "metadata": {
    "collapsed": false
   },
   "outputs": [
    {
     "data": {
      "text/plain": [
       "1855    6.710302\n",
       "1856    6.172489\n",
       "1857    5.778143\n",
       "1858    5.311152\n",
       "1859    5.153564\n",
       "Name: emissions, dtype: float64"
      ]
     },
     "execution_count": 94,
     "metadata": {},
     "output_type": "execute_result"
    }
   ],
   "source": [
    "y_ch.head()"
   ]
  },
  {
   "cell_type": "code",
   "execution_count": 95,
   "metadata": {
    "collapsed": false
   },
   "outputs": [
    {
     "data": {
      "text/plain": [
       "1902    0.625646\n",
       "1903    0.640002\n",
       "1904    0.661428\n",
       "1905    0.836047\n",
       "1906    1.170381\n",
       "Name: emissions, dtype: float64"
      ]
     },
     "execution_count": 95,
     "metadata": {},
     "output_type": "execute_result"
    }
   ],
   "source": [
    "y_ch.tail()"
   ]
  },
  {
   "cell_type": "markdown",
   "metadata": {},
   "source": [
    "## Pandas and Matplotlib"
   ]
  },
  {
   "cell_type": "code",
   "execution_count": 96,
   "metadata": {
    "collapsed": true
   },
   "outputs": [],
   "source": [
    "%matplotlib inline\n",
    "import matplotlib.pyplot as plt"
   ]
  },
  {
   "cell_type": "code",
   "execution_count": 97,
   "metadata": {
    "collapsed": false
   },
   "outputs": [
    {
     "data": {
      "text/plain": [
       "(1960, 2011)"
      ]
     },
     "execution_count": 97,
     "metadata": {},
     "output_type": "execute_result"
    },
    {
     "data": {
      "image/png": "[encoded data removed]",
      "text/plain": [
       "<matplotlib.figure.Figure at 0x7f28cf7bb940>"
      ]
     },
     "metadata": {},
     "output_type": "display_data"
    }
   ],
   "source": [
    "plt.figure(figsize=(10,5))\n",
    "plt.bar(x_ch,y_ch, alpha=0.5, linewidth=0)\n",
    "plt.grid(True)\n",
    "plt.title(\"China emissions - $CO_2$\")\n",
    "plt.xlabel(\"year\")\n",
    "plt.ylabel(\"metric tons per capita\")\n",
    "plt.xlim([x_ch.min(), x_ch.max()])"
   ]
  },
  {
   "cell_type": "code",
   "execution_count": 98,
   "metadata": {
    "collapsed": true
   },
   "outputs": [],
   "source": [
    "esp = df[df['Country or Area Code'] == 'ESP']"
   ]
  },
  {
   "cell_type": "code",
   "execution_count": 99,
   "metadata": {
    "collapsed": true
   },
   "outputs": [],
   "source": [
    "x_es = esp['Year']\n",
    "y_es = esp['emissions']"
   ]
  },
  {
   "cell_type": "code",
   "execution_count": 100,
   "metadata": {
    "collapsed": false
   },
   "outputs": [
    {
     "data": {
      "text/plain": [
       "<matplotlib.legend.Legend at 0x7f28cf657da0>"
      ]
     },
     "execution_count": 100,
     "metadata": {},
     "output_type": "execute_result"
    },
    {
     "data": {
      "image/png": "[encoded data removed]",
      "text/plain": [
       "<matplotlib.figure.Figure at 0x7f28cf6f06d8>"
      ]
     },
     "metadata": {},
     "output_type": "display_data"
    }
   ],
   "source": [
    "plt.figure(figsize=(10,5))\n",
    "plt.plot(x_ch,y_ch, alpha=0.8, linewidth=2, label=\"China\")\n",
    "plt.plot(x_es,y_es, alpha=0.8, linewidth=2, color='red', label=\"Spain\")\n",
    "plt.grid(True)\n",
    "plt.title(\"$CO_2$ emissions\")\n",
    "plt.xlabel(\"year\")\n",
    "plt.ylabel(\"metric tons per capita\")\n",
    "plt.xlim([x_ch.min(), x_ch.max()])\n",
    "plt.legend(loc=4, )"
   ]
  },
  {
   "cell_type": "markdown",
   "metadata": {},
   "source": [
    "## More data wrangling"
   ]
  },
  {
   "cell_type": "code",
   "execution_count": 101,
   "metadata": {
    "collapsed": false
   },
   "outputs": [
    {
     "data": {
      "text/html": [
       "<div>\n",
       "<table border=\"1\" class=\"dataframe\">\n",
       "  <thead>\n",
       "    <tr style=\"text-align: right;\">\n",
       "      <th></th>\n",
       "      <th>Indicator Code</th>\n",
       "      <th>Country or Area Code</th>\n",
       "      <th>Country or Area</th>\n",
       "      <th>Time Code</th>\n",
       "      <th>Year</th>\n",
       "      <th>emissions</th>\n",
       "      <th>Value Footnotes</th>\n",
       "    </tr>\n",
       "  </thead>\n",
       "  <tbody>\n",
       "    <tr>\n",
       "      <th>0</th>\n",
       "      <td>EN.ATM.CO2E.PC</td>\n",
       "      <td>AFG</td>\n",
       "      <td>Afghanistan</td>\n",
       "      <td>YR2011</td>\n",
       "      <td>2011</td>\n",
       "      <td>0.425262</td>\n",
       "      <td>NaN</td>\n",
       "    </tr>\n",
       "    <tr>\n",
       "      <th>52</th>\n",
       "      <td>EN.ATM.CO2E.PC</td>\n",
       "      <td>ALB</td>\n",
       "      <td>Albania</td>\n",
       "      <td>YR2011</td>\n",
       "      <td>2011</td>\n",
       "      <td>1.607038</td>\n",
       "      <td>NaN</td>\n",
       "    </tr>\n",
       "    <tr>\n",
       "      <th>104</th>\n",
       "      <td>EN.ATM.CO2E.PC</td>\n",
       "      <td>DZA</td>\n",
       "      <td>Algeria</td>\n",
       "      <td>YR2011</td>\n",
       "      <td>2011</td>\n",
       "      <td>3.316038</td>\n",
       "      <td>NaN</td>\n",
       "    </tr>\n",
       "    <tr>\n",
       "      <th>156</th>\n",
       "      <td>EN.ATM.CO2E.PC</td>\n",
       "      <td>ADO</td>\n",
       "      <td>Andorra</td>\n",
       "      <td>YR2011</td>\n",
       "      <td>2011</td>\n",
       "      <td>5.968685</td>\n",
       "      <td>NaN</td>\n",
       "    </tr>\n",
       "    <tr>\n",
       "      <th>173</th>\n",
       "      <td>EN.ATM.CO2E.PC</td>\n",
       "      <td>AGO</td>\n",
       "      <td>Angola</td>\n",
       "      <td>YR2011</td>\n",
       "      <td>2011</td>\n",
       "      <td>1.354008</td>\n",
       "      <td>NaN</td>\n",
       "    </tr>\n",
       "  </tbody>\n",
       "</table>\n",
       "</div>"
      ],
      "text/plain": [
       "     Indicator Code Country or Area Code Country or Area Time Code  Year  \\\n",
       "0    EN.ATM.CO2E.PC                  AFG     Afghanistan    YR2011  2011   \n",
       "52   EN.ATM.CO2E.PC                  ALB         Albania    YR2011  2011   \n",
       "104  EN.ATM.CO2E.PC                  DZA         Algeria    YR2011  2011   \n",
       "156  EN.ATM.CO2E.PC                  ADO         Andorra    YR2011  2011   \n",
       "173  EN.ATM.CO2E.PC                  AGO          Angola    YR2011  2011   \n",
       "\n",
       "     emissions  Value Footnotes  \n",
       "0     0.425262              NaN  \n",
       "52    1.607038              NaN  \n",
       "104   3.316038              NaN  \n",
       "156   5.968685              NaN  \n",
       "173   1.354008              NaN  "
      ]
     },
     "execution_count": 101,
     "metadata": {},
     "output_type": "execute_result"
    }
   ],
   "source": [
    "df[df.Year == df.Year.max()].head()"
   ]
  },
  {
   "cell_type": "code",
   "execution_count": 102,
   "metadata": {
    "collapsed": false
   },
   "outputs": [
    {
     "data": {
      "text/html": [
       "<div>\n",
       "<table border=\"1\" class=\"dataframe\">\n",
       "  <thead>\n",
       "    <tr style=\"text-align: right;\">\n",
       "      <th></th>\n",
       "      <th>Year</th>\n",
       "      <th>emissions</th>\n",
       "      <th>Time Code</th>\n",
       "      <th>Country or Area</th>\n",
       "    </tr>\n",
       "  </thead>\n",
       "  <tbody>\n",
       "    <tr>\n",
       "      <th>8745</th>\n",
       "      <td>2011</td>\n",
       "      <td>5.790764</td>\n",
       "      <td>YR2011</td>\n",
       "      <td>Spain</td>\n",
       "    </tr>\n",
       "    <tr>\n",
       "      <th>8746</th>\n",
       "      <td>2010</td>\n",
       "      <td>5.815787</td>\n",
       "      <td>YR2010</td>\n",
       "      <td>Spain</td>\n",
       "    </tr>\n",
       "    <tr>\n",
       "      <th>8747</th>\n",
       "      <td>2009</td>\n",
       "      <td>6.216973</td>\n",
       "      <td>YR2009</td>\n",
       "      <td>Spain</td>\n",
       "    </tr>\n",
       "    <tr>\n",
       "      <th>8748</th>\n",
       "      <td>2008</td>\n",
       "      <td>7.165452</td>\n",
       "      <td>YR2008</td>\n",
       "      <td>Spain</td>\n",
       "    </tr>\n",
       "    <tr>\n",
       "      <th>8749</th>\n",
       "      <td>2007</td>\n",
       "      <td>7.920891</td>\n",
       "      <td>YR2007</td>\n",
       "      <td>Spain</td>\n",
       "    </tr>\n",
       "    <tr>\n",
       "      <th>8750</th>\n",
       "      <td>2006</td>\n",
       "      <td>7.884196</td>\n",
       "      <td>YR2006</td>\n",
       "      <td>Spain</td>\n",
       "    </tr>\n",
       "    <tr>\n",
       "      <th>8751</th>\n",
       "      <td>2005</td>\n",
       "      <td>8.097058</td>\n",
       "      <td>YR2005</td>\n",
       "      <td>Spain</td>\n",
       "    </tr>\n",
       "    <tr>\n",
       "      <th>8752</th>\n",
       "      <td>2004</td>\n",
       "      <td>7.908051</td>\n",
       "      <td>YR2004</td>\n",
       "      <td>Spain</td>\n",
       "    </tr>\n",
       "    <tr>\n",
       "      <th>8753</th>\n",
       "      <td>2003</td>\n",
       "      <td>7.611166</td>\n",
       "      <td>YR2003</td>\n",
       "      <td>Spain</td>\n",
       "    </tr>\n",
       "    <tr>\n",
       "      <th>8754</th>\n",
       "      <td>2002</td>\n",
       "      <td>7.591281</td>\n",
       "      <td>YR2002</td>\n",
       "      <td>Spain</td>\n",
       "    </tr>\n",
       "    <tr>\n",
       "      <th>8755</th>\n",
       "      <td>2001</td>\n",
       "      <td>7.307637</td>\n",
       "      <td>YR2001</td>\n",
       "      <td>Spain</td>\n",
       "    </tr>\n",
       "    <tr>\n",
       "      <th>8756</th>\n",
       "      <td>2000</td>\n",
       "      <td>7.312740</td>\n",
       "      <td>YR2000</td>\n",
       "      <td>Spain</td>\n",
       "    </tr>\n",
       "  </tbody>\n",
       "</table>\n",
       "</div>"
      ],
      "text/plain": [
       "      Year  emissions Time Code Country or Area\n",
       "8745  2011   5.790764    YR2011           Spain\n",
       "8746  2010   5.815787    YR2010           Spain\n",
       "8747  2009   6.216973    YR2009           Spain\n",
       "8748  2008   7.165452    YR2008           Spain\n",
       "8749  2007   7.920891    YR2007           Spain\n",
       "8750  2006   7.884196    YR2006           Spain\n",
       "8751  2005   8.097058    YR2005           Spain\n",
       "8752  2004   7.908051    YR2004           Spain\n",
       "8753  2003   7.611166    YR2003           Spain\n",
       "8754  2002   7.591281    YR2002           Spain\n",
       "8755  2001   7.307637    YR2001           Spain\n",
       "8756  2000   7.312740    YR2000           Spain"
      ]
     },
     "execution_count": 102,
     "metadata": {},
     "output_type": "execute_result"
    }
   ],
   "source": [
    "esp[esp['Year'] >= 2000][['Year', 'emissions', 'Time Code', 'Country or Area']]"
   ]
  },
  {
   "cell_type": "code",
   "execution_count": 103,
   "metadata": {
    "collapsed": false
   },
   "outputs": [
    {
     "data": {
      "text/html": [
       "<div>\n",
       "<table border=\"1\" class=\"dataframe\">\n",
       "  <thead>\n",
       "    <tr style=\"text-align: right;\">\n",
       "      <th></th>\n",
       "      <th>Year</th>\n",
       "      <th>emissions</th>\n",
       "    </tr>\n",
       "  </thead>\n",
       "  <tbody>\n",
       "    <tr>\n",
       "      <th>8749</th>\n",
       "      <td>2007</td>\n",
       "      <td>7.920891</td>\n",
       "    </tr>\n",
       "    <tr>\n",
       "      <th>8750</th>\n",
       "      <td>2006</td>\n",
       "      <td>7.884196</td>\n",
       "    </tr>\n",
       "    <tr>\n",
       "      <th>8751</th>\n",
       "      <td>2005</td>\n",
       "      <td>8.097058</td>\n",
       "    </tr>\n",
       "    <tr>\n",
       "      <th>8752</th>\n",
       "      <td>2004</td>\n",
       "      <td>7.908051</td>\n",
       "    </tr>\n",
       "    <tr>\n",
       "      <th>8753</th>\n",
       "      <td>2003</td>\n",
       "      <td>7.611166</td>\n",
       "    </tr>\n",
       "    <tr>\n",
       "      <th>8754</th>\n",
       "      <td>2002</td>\n",
       "      <td>7.591281</td>\n",
       "    </tr>\n",
       "  </tbody>\n",
       "</table>\n",
       "</div>"
      ],
      "text/plain": [
       "      Year  emissions\n",
       "8749  2007   7.920891\n",
       "8750  2006   7.884196\n",
       "8751  2005   8.097058\n",
       "8752  2004   7.908051\n",
       "8753  2003   7.611166\n",
       "8754  2002   7.591281"
      ]
     },
     "execution_count": 103,
     "metadata": {},
     "output_type": "execute_result"
    }
   ],
   "source": [
    "esp[(esp['Year'] >= 1970) & (esp['emissions'] > 7.5) ][['Year', 'emissions']]"
   ]
  },
  {
   "cell_type": "markdown",
   "metadata": {},
   "source": [
    "Pivot tables:"
   ]
  },
  {
   "cell_type": "code",
   "execution_count": 104,
   "metadata": {
    "collapsed": false
   },
   "outputs": [
    {
     "data": {
      "text/html": [
       "<div>\n",
       "<table border=\"1\" class=\"dataframe\">\n",
       "  <thead>\n",
       "    <tr style=\"text-align: right;\">\n",
       "      <th></th>\n",
       "      <th>Indicator Code</th>\n",
       "      <th>Country or Area Code</th>\n",
       "      <th>Country or Area</th>\n",
       "      <th>Time Code</th>\n",
       "      <th>Year</th>\n",
       "      <th>emissions</th>\n",
       "      <th>Value Footnotes</th>\n",
       "    </tr>\n",
       "  </thead>\n",
       "  <tbody>\n",
       "    <tr>\n",
       "      <th>0</th>\n",
       "      <td>EN.ATM.CO2E.PC</td>\n",
       "      <td>AFG</td>\n",
       "      <td>Afghanistan</td>\n",
       "      <td>YR2011</td>\n",
       "      <td>2011</td>\n",
       "      <td>0.425262</td>\n",
       "      <td>NaN</td>\n",
       "    </tr>\n",
       "    <tr>\n",
       "      <th>1</th>\n",
       "      <td>EN.ATM.CO2E.PC</td>\n",
       "      <td>AFG</td>\n",
       "      <td>Afghanistan</td>\n",
       "      <td>YR2010</td>\n",
       "      <td>2010</td>\n",
       "      <td>0.302936</td>\n",
       "      <td>NaN</td>\n",
       "    </tr>\n",
       "    <tr>\n",
       "      <th>2</th>\n",
       "      <td>EN.ATM.CO2E.PC</td>\n",
       "      <td>AFG</td>\n",
       "      <td>Afghanistan</td>\n",
       "      <td>YR2009</td>\n",
       "      <td>2009</td>\n",
       "      <td>0.249074</td>\n",
       "      <td>NaN</td>\n",
       "    </tr>\n",
       "    <tr>\n",
       "      <th>3</th>\n",
       "      <td>EN.ATM.CO2E.PC</td>\n",
       "      <td>AFG</td>\n",
       "      <td>Afghanistan</td>\n",
       "      <td>YR2008</td>\n",
       "      <td>2008</td>\n",
       "      <td>0.158962</td>\n",
       "      <td>NaN</td>\n",
       "    </tr>\n",
       "    <tr>\n",
       "      <th>4</th>\n",
       "      <td>EN.ATM.CO2E.PC</td>\n",
       "      <td>AFG</td>\n",
       "      <td>Afghanistan</td>\n",
       "      <td>YR2007</td>\n",
       "      <td>2007</td>\n",
       "      <td>0.088141</td>\n",
       "      <td>NaN</td>\n",
       "    </tr>\n",
       "  </tbody>\n",
       "</table>\n",
       "</div>"
      ],
      "text/plain": [
       "   Indicator Code Country or Area Code Country or Area Time Code  Year  \\\n",
       "0  EN.ATM.CO2E.PC                  AFG     Afghanistan    YR2011  2011   \n",
       "1  EN.ATM.CO2E.PC                  AFG     Afghanistan    YR2010  2010   \n",
       "2  EN.ATM.CO2E.PC                  AFG     Afghanistan    YR2009  2009   \n",
       "3  EN.ATM.CO2E.PC                  AFG     Afghanistan    YR2008  2008   \n",
       "4  EN.ATM.CO2E.PC                  AFG     Afghanistan    YR2007  2007   \n",
       "\n",
       "   emissions  Value Footnotes  \n",
       "0   0.425262              NaN  \n",
       "1   0.302936              NaN  \n",
       "2   0.249074              NaN  \n",
       "3   0.158962              NaN  \n",
       "4   0.088141              NaN  "
      ]
     },
     "execution_count": 104,
     "metadata": {},
     "output_type": "execute_result"
    }
   ],
   "source": [
    "df.head()"
   ]
  },
  {
   "cell_type": "code",
   "execution_count": 105,
   "metadata": {
    "collapsed": false
   },
   "outputs": [],
   "source": [
    "wld = df.pivot(index='Country or Area',columns='Year', values='emissions')"
   ]
  },
  {
   "cell_type": "code",
   "execution_count": 106,
   "metadata": {
    "collapsed": false
   },
   "outputs": [
    {
     "data": {
      "text/html": [
       "<div>\n",
       "<table border=\"1\" class=\"dataframe\">\n",
       "  <thead>\n",
       "    <tr style=\"text-align: right;\">\n",
       "      <th>Year</th>\n",
       "      <th>1960</th>\n",
       "      <th>1961</th>\n",
       "      <th>1962</th>\n",
       "      <th>1963</th>\n",
       "      <th>1964</th>\n",
       "      <th>1965</th>\n",
       "      <th>1966</th>\n",
       "      <th>1967</th>\n",
       "      <th>1968</th>\n",
       "      <th>1969</th>\n",
       "      <th>...</th>\n",
       "      <th>2002</th>\n",
       "      <th>2003</th>\n",
       "      <th>2004</th>\n",
       "      <th>2005</th>\n",
       "      <th>2006</th>\n",
       "      <th>2007</th>\n",
       "      <th>2008</th>\n",
       "      <th>2009</th>\n",
       "      <th>2010</th>\n",
       "      <th>2011</th>\n",
       "    </tr>\n",
       "    <tr>\n",
       "      <th>Country or Area</th>\n",
       "      <th></th>\n",
       "      <th></th>\n",
       "      <th></th>\n",
       "      <th></th>\n",
       "      <th></th>\n",
       "      <th></th>\n",
       "      <th></th>\n",
       "      <th></th>\n",
       "      <th></th>\n",
       "      <th></th>\n",
       "      <th></th>\n",
       "      <th></th>\n",
       "      <th></th>\n",
       "      <th></th>\n",
       "      <th></th>\n",
       "      <th></th>\n",
       "      <th></th>\n",
       "      <th></th>\n",
       "      <th></th>\n",
       "      <th></th>\n",
       "      <th></th>\n",
       "    </tr>\n",
       "  </thead>\n",
       "  <tbody>\n",
       "    <tr>\n",
       "      <th>Afghanistan</th>\n",
       "      <td>0.046068</td>\n",
       "      <td>0.053615</td>\n",
       "      <td>0.073781</td>\n",
       "      <td>0.074251</td>\n",
       "      <td>0.086317</td>\n",
       "      <td>0.101499</td>\n",
       "      <td>0.107674</td>\n",
       "      <td>0.123782</td>\n",
       "      <td>0.115547</td>\n",
       "      <td>0.086863</td>\n",
       "      <td>...</td>\n",
       "      <td>0.041641</td>\n",
       "      <td>0.046108</td>\n",
       "      <td>0.040727</td>\n",
       "      <td>0.054855</td>\n",
       "      <td>0.065816</td>\n",
       "      <td>0.088141</td>\n",
       "      <td>0.158962</td>\n",
       "      <td>0.249074</td>\n",
       "      <td>0.302936</td>\n",
       "      <td>0.425262</td>\n",
       "    </tr>\n",
       "    <tr>\n",
       "      <th>Albania</th>\n",
       "      <td>1.258195</td>\n",
       "      <td>1.374186</td>\n",
       "      <td>1.439956</td>\n",
       "      <td>1.181681</td>\n",
       "      <td>1.111742</td>\n",
       "      <td>1.166099</td>\n",
       "      <td>1.333055</td>\n",
       "      <td>1.363746</td>\n",
       "      <td>1.519551</td>\n",
       "      <td>1.558968</td>\n",
       "      <td>...</td>\n",
       "      <td>1.229541</td>\n",
       "      <td>1.412697</td>\n",
       "      <td>1.376213</td>\n",
       "      <td>1.412498</td>\n",
       "      <td>1.291548</td>\n",
       "      <td>1.507536</td>\n",
       "      <td>1.580113</td>\n",
       "      <td>1.533178</td>\n",
       "      <td>1.515632</td>\n",
       "      <td>1.607038</td>\n",
       "    </tr>\n",
       "    <tr>\n",
       "      <th>Algeria</th>\n",
       "      <td>0.553764</td>\n",
       "      <td>0.531810</td>\n",
       "      <td>0.484954</td>\n",
       "      <td>0.452824</td>\n",
       "      <td>0.459569</td>\n",
       "      <td>0.522449</td>\n",
       "      <td>0.649481</td>\n",
       "      <td>0.632118</td>\n",
       "      <td>0.659263</td>\n",
       "      <td>0.797206</td>\n",
       "      <td>...</td>\n",
       "      <td>2.840028</td>\n",
       "      <td>2.856410</td>\n",
       "      <td>2.727017</td>\n",
       "      <td>3.220155</td>\n",
       "      <td>2.990267</td>\n",
       "      <td>3.189978</td>\n",
       "      <td>3.205183</td>\n",
       "      <td>3.428472</td>\n",
       "      <td>3.309912</td>\n",
       "      <td>3.316038</td>\n",
       "    </tr>\n",
       "    <tr>\n",
       "      <th>Andorra</th>\n",
       "      <td>NaN</td>\n",
       "      <td>NaN</td>\n",
       "      <td>NaN</td>\n",
       "      <td>NaN</td>\n",
       "      <td>NaN</td>\n",
       "      <td>NaN</td>\n",
       "      <td>NaN</td>\n",
       "      <td>NaN</td>\n",
       "      <td>NaN</td>\n",
       "      <td>NaN</td>\n",
       "      <td>...</td>\n",
       "      <td>7.484095</td>\n",
       "      <td>7.159140</td>\n",
       "      <td>7.208829</td>\n",
       "      <td>7.088128</td>\n",
       "      <td>6.553477</td>\n",
       "      <td>6.350868</td>\n",
       "      <td>6.296125</td>\n",
       "      <td>6.049173</td>\n",
       "      <td>6.124770</td>\n",
       "      <td>5.968685</td>\n",
       "    </tr>\n",
       "    <tr>\n",
       "      <th>Angola</th>\n",
       "      <td>0.104357</td>\n",
       "      <td>0.084718</td>\n",
       "      <td>0.216025</td>\n",
       "      <td>0.206877</td>\n",
       "      <td>0.216174</td>\n",
       "      <td>0.206089</td>\n",
       "      <td>0.265164</td>\n",
       "      <td>0.166659</td>\n",
       "      <td>0.275655</td>\n",
       "      <td>0.451126</td>\n",
       "      <td>...</td>\n",
       "      <td>0.786223</td>\n",
       "      <td>0.543084</td>\n",
       "      <td>1.086605</td>\n",
       "      <td>1.069417</td>\n",
       "      <td>1.200877</td>\n",
       "      <td>1.311096</td>\n",
       "      <td>1.369425</td>\n",
       "      <td>1.430873</td>\n",
       "      <td>1.401654</td>\n",
       "      <td>1.354008</td>\n",
       "    </tr>\n",
       "  </tbody>\n",
       "</table>\n",
       "<p>5 rows × 52 columns</p>\n",
       "</div>"
      ],
      "text/plain": [
       "Year                 1960      1961      1962      1963      1964      1965  \\\n",
       "Country or Area                                                               \n",
       "Afghanistan      0.046068  0.053615  0.073781  0.074251  0.086317  0.101499   \n",
       "Albania          1.258195  1.374186  1.439956  1.181681  1.111742  1.166099   \n",
       "Algeria          0.553764  0.531810  0.484954  0.452824  0.459569  0.522449   \n",
       "Andorra               NaN       NaN       NaN       NaN       NaN       NaN   \n",
       "Angola           0.104357  0.084718  0.216025  0.206877  0.216174  0.206089   \n",
       "\n",
       "Year                 1966      1967      1968      1969    ...         2002  \\\n",
       "Country or Area                                            ...                \n",
       "Afghanistan      0.107674  0.123782  0.115547  0.086863    ...     0.041641   \n",
       "Albania          1.333055  1.363746  1.519551  1.558968    ...     1.229541   \n",
       "Algeria          0.649481  0.632118  0.659263  0.797206    ...     2.840028   \n",
       "Andorra               NaN       NaN       NaN       NaN    ...     7.484095   \n",
       "Angola           0.265164  0.166659  0.275655  0.451126    ...     0.786223   \n",
       "\n",
       "Year                 2003      2004      2005      2006      2007      2008  \\\n",
       "Country or Area                                                               \n",
       "Afghanistan      0.046108  0.040727  0.054855  0.065816  0.088141  0.158962   \n",
       "Albania          1.412697  1.376213  1.412498  1.291548  1.507536  1.580113   \n",
       "Algeria          2.856410  2.727017  3.220155  2.990267  3.189978  3.205183   \n",
       "Andorra          7.159140  7.208829  7.088128  6.553477  6.350868  6.296125   \n",
       "Angola           0.543084  1.086605  1.069417  1.200877  1.311096  1.369425   \n",
       "\n",
       "Year                 2009      2010      2011  \n",
       "Country or Area                                \n",
       "Afghanistan      0.249074  0.302936  0.425262  \n",
       "Albania          1.533178  1.515632  1.607038  \n",
       "Algeria          3.428472  3.309912  3.316038  \n",
       "Andorra          6.049173  6.124770  5.968685  \n",
       "Angola           1.430873  1.401654  1.354008  \n",
       "\n",
       "[5 rows x 52 columns]"
      ]
     },
     "execution_count": 106,
     "metadata": {},
     "output_type": "execute_result"
    }
   ],
   "source": [
    "wld.head()"
   ]
  },
  {
   "cell_type": "markdown",
   "metadata": {},
   "source": [
    "Transpose data:"
   ]
  },
  {
   "cell_type": "code",
   "execution_count": 107,
   "metadata": {
    "collapsed": false
   },
   "outputs": [
    {
     "data": {
      "text/html": [
       "<div>\n",
       "<table border=\"1\" class=\"dataframe\">\n",
       "  <thead>\n",
       "    <tr style=\"text-align: right;\">\n",
       "      <th>Country or Area</th>\n",
       "      <th>Afghanistan</th>\n",
       "      <th>Albania</th>\n",
       "      <th>Algeria</th>\n",
       "      <th>Andorra</th>\n",
       "      <th>Angola</th>\n",
       "      <th>Antigua and Barbuda</th>\n",
       "      <th>Arab World</th>\n",
       "      <th>Argentina</th>\n",
       "      <th>Armenia</th>\n",
       "      <th>Aruba</th>\n",
       "      <th>...</th>\n",
       "      <th>Uruguay</th>\n",
       "      <th>Uzbekistan</th>\n",
       "      <th>Vanuatu</th>\n",
       "      <th>Venezuela, RB</th>\n",
       "      <th>Vietnam</th>\n",
       "      <th>West Bank and Gaza</th>\n",
       "      <th>World</th>\n",
       "      <th>Yemen, Rep.</th>\n",
       "      <th>Zambia</th>\n",
       "      <th>Zimbabwe</th>\n",
       "    </tr>\n",
       "    <tr>\n",
       "      <th>Year</th>\n",
       "      <th></th>\n",
       "      <th></th>\n",
       "      <th></th>\n",
       "      <th></th>\n",
       "      <th></th>\n",
       "      <th></th>\n",
       "      <th></th>\n",
       "      <th></th>\n",
       "      <th></th>\n",
       "      <th></th>\n",
       "      <th></th>\n",
       "      <th></th>\n",
       "      <th></th>\n",
       "      <th></th>\n",
       "      <th></th>\n",
       "      <th></th>\n",
       "      <th></th>\n",
       "      <th></th>\n",
       "      <th></th>\n",
       "      <th></th>\n",
       "      <th></th>\n",
       "    </tr>\n",
       "  </thead>\n",
       "  <tbody>\n",
       "    <tr>\n",
       "      <th>1960</th>\n",
       "      <td>0.046068</td>\n",
       "      <td>1.258195</td>\n",
       "      <td>0.553764</td>\n",
       "      <td>NaN</td>\n",
       "      <td>0.104357</td>\n",
       "      <td>0.670617</td>\n",
       "      <td>0.643964</td>\n",
       "      <td>2.367473</td>\n",
       "      <td>NaN</td>\n",
       "      <td>NaN</td>\n",
       "      <td>...</td>\n",
       "      <td>1.701583</td>\n",
       "      <td>NaN</td>\n",
       "      <td>NaN</td>\n",
       "      <td>7.005107</td>\n",
       "      <td>0.215631</td>\n",
       "      <td>NaN</td>\n",
       "      <td>3.096144</td>\n",
       "      <td>0.703403</td>\n",
       "      <td>NaN</td>\n",
       "      <td>NaN</td>\n",
       "    </tr>\n",
       "    <tr>\n",
       "      <th>1961</th>\n",
       "      <td>0.053615</td>\n",
       "      <td>1.374186</td>\n",
       "      <td>0.531810</td>\n",
       "      <td>NaN</td>\n",
       "      <td>0.084718</td>\n",
       "      <td>0.860441</td>\n",
       "      <td>0.685501</td>\n",
       "      <td>2.442616</td>\n",
       "      <td>NaN</td>\n",
       "      <td>NaN</td>\n",
       "      <td>...</td>\n",
       "      <td>1.602723</td>\n",
       "      <td>NaN</td>\n",
       "      <td>NaN</td>\n",
       "      <td>6.136886</td>\n",
       "      <td>0.225435</td>\n",
       "      <td>NaN</td>\n",
       "      <td>3.067062</td>\n",
       "      <td>0.507631</td>\n",
       "      <td>NaN</td>\n",
       "      <td>NaN</td>\n",
       "    </tr>\n",
       "    <tr>\n",
       "      <th>1962</th>\n",
       "      <td>0.073781</td>\n",
       "      <td>1.439956</td>\n",
       "      <td>0.484954</td>\n",
       "      <td>NaN</td>\n",
       "      <td>0.216025</td>\n",
       "      <td>1.823374</td>\n",
       "      <td>0.761148</td>\n",
       "      <td>2.522392</td>\n",
       "      <td>NaN</td>\n",
       "      <td>NaN</td>\n",
       "      <td>...</td>\n",
       "      <td>1.540657</td>\n",
       "      <td>NaN</td>\n",
       "      <td>0.594888</td>\n",
       "      <td>6.155057</td>\n",
       "      <td>0.258760</td>\n",
       "      <td>NaN</td>\n",
       "      <td>3.138020</td>\n",
       "      <td>0.728004</td>\n",
       "      <td>NaN</td>\n",
       "      <td>NaN</td>\n",
       "    </tr>\n",
       "    <tr>\n",
       "      <th>1963</th>\n",
       "      <td>0.074251</td>\n",
       "      <td>1.181681</td>\n",
       "      <td>0.452824</td>\n",
       "      <td>NaN</td>\n",
       "      <td>0.206877</td>\n",
       "      <td>1.470175</td>\n",
       "      <td>0.875124</td>\n",
       "      <td>2.316356</td>\n",
       "      <td>NaN</td>\n",
       "      <td>NaN</td>\n",
       "      <td>...</td>\n",
       "      <td>1.639285</td>\n",
       "      <td>NaN</td>\n",
       "      <td>0.471728</td>\n",
       "      <td>6.155748</td>\n",
       "      <td>0.247579</td>\n",
       "      <td>NaN</td>\n",
       "      <td>3.242364</td>\n",
       "      <td>0.537606</td>\n",
       "      <td>NaN</td>\n",
       "      <td>NaN</td>\n",
       "    </tr>\n",
       "    <tr>\n",
       "      <th>1964</th>\n",
       "      <td>0.086317</td>\n",
       "      <td>1.111742</td>\n",
       "      <td>0.459569</td>\n",
       "      <td>NaN</td>\n",
       "      <td>0.216174</td>\n",
       "      <td>1.567094</td>\n",
       "      <td>0.999248</td>\n",
       "      <td>2.538380</td>\n",
       "      <td>NaN</td>\n",
       "      <td>NaN</td>\n",
       "      <td>...</td>\n",
       "      <td>1.710101</td>\n",
       "      <td>NaN</td>\n",
       "      <td>0.864247</td>\n",
       "      <td>5.973226</td>\n",
       "      <td>0.314058</td>\n",
       "      <td>NaN</td>\n",
       "      <td>3.358696</td>\n",
       "      <td>0.658012</td>\n",
       "      <td>0.950434</td>\n",
       "      <td>1.045374</td>\n",
       "    </tr>\n",
       "  </tbody>\n",
       "</table>\n",
       "<p>5 rows × 230 columns</p>\n",
       "</div>"
      ],
      "text/plain": [
       "Country or Area  Afghanistan   Albania   Algeria  Andorra    Angola  \\\n",
       "Year                                                                  \n",
       "1960                0.046068  1.258195  0.553764      NaN  0.104357   \n",
       "1961                0.053615  1.374186  0.531810      NaN  0.084718   \n",
       "1962                0.073781  1.439956  0.484954      NaN  0.216025   \n",
       "1963                0.074251  1.181681  0.452824      NaN  0.206877   \n",
       "1964                0.086317  1.111742  0.459569      NaN  0.216174   \n",
       "\n",
       "Country or Area  Antigua and Barbuda  Arab World  Argentina  Armenia  Aruba  \\\n",
       "Year                                                                          \n",
       "1960                        0.670617    0.643964   2.367473      NaN    NaN   \n",
       "1961                        0.860441    0.685501   2.442616      NaN    NaN   \n",
       "1962                        1.823374    0.761148   2.522392      NaN    NaN   \n",
       "1963                        1.470175    0.875124   2.316356      NaN    NaN   \n",
       "1964                        1.567094    0.999248   2.538380      NaN    NaN   \n",
       "\n",
       "Country or Area    ...      Uruguay  Uzbekistan   Vanuatu  Venezuela, RB  \\\n",
       "Year               ...                                                     \n",
       "1960               ...     1.701583         NaN       NaN       7.005107   \n",
       "1961               ...     1.602723         NaN       NaN       6.136886   \n",
       "1962               ...     1.540657         NaN  0.594888       6.155057   \n",
       "1963               ...     1.639285         NaN  0.471728       6.155748   \n",
       "1964               ...     1.710101         NaN  0.864247       5.973226   \n",
       "\n",
       "Country or Area   Vietnam  West Bank and Gaza     World  Yemen, Rep.  \\\n",
       "Year                                                                   \n",
       "1960             0.215631                 NaN  3.096144     0.703403   \n",
       "1961             0.225435                 NaN  3.067062     0.507631   \n",
       "1962             0.258760                 NaN  3.138020     0.728004   \n",
       "1963             0.247579                 NaN  3.242364     0.537606   \n",
       "1964             0.314058                 NaN  3.358696     0.658012   \n",
       "\n",
       "Country or Area    Zambia  Zimbabwe  \n",
       "Year                                 \n",
       "1960                  NaN       NaN  \n",
       "1961                  NaN       NaN  \n",
       "1962                  NaN       NaN  \n",
       "1963                  NaN       NaN  \n",
       "1964             0.950434  1.045374  \n",
       "\n",
       "[5 rows x 230 columns]"
      ]
     },
     "execution_count": 107,
     "metadata": {},
     "output_type": "execute_result"
    }
   ],
   "source": [
    "wld.T.head()"
   ]
  },
  {
   "cell_type": "markdown",
   "metadata": {},
   "source": [
    "## Exporting data"
   ]
  },
  {
   "cell_type": "markdown",
   "metadata": {},
   "source": [
    "Exporting data to CSV file:"
   ]
  },
  {
   "cell_type": "code",
   "execution_count": 108,
   "metadata": {
    "collapsed": true
   },
   "outputs": [],
   "source": [
    "wld.to_csv(\"../../data/world_emissions.csv\")"
   ]
  },
  {
   "cell_type": "markdown",
   "metadata": {},
   "source": [
    "Exporting data to excel file (XLSX):"
   ]
  },
  {
   "cell_type": "code",
   "execution_count": 109,
   "metadata": {
    "collapsed": false
   },
   "outputs": [],
   "source": [
    "writer = pd.ExcelWriter(\"../../data/co2_emissions.xlsx\")"
   ]
  },
  {
   "cell_type": "code",
   "execution_count": 110,
   "metadata": {
    "collapsed": false
   },
   "outputs": [],
   "source": [
    "esp.to_excel(writer, sheet_name='Spain')\n",
    "chn.to_excel(writer, sheet_name='China')"
   ]
  },
  {
   "cell_type": "code",
   "execution_count": 111,
   "metadata": {
    "collapsed": true
   },
   "outputs": [],
   "source": [
    "writer.save()"
   ]
  }
 ],
 "metadata": {
  "kernelspec": {
   "display_name": "Python 3",
   "language": "python",
   "name": "python3"
  },
  "language_info": {
   "codemirror_mode": {
    "name": "ipython",
    "version": 3
   },
   "file_extension": ".py",
   "mimetype": "text/x-python",
   "name": "python",
   "nbconvert_exporter": "python",
   "pygments_lexer": "ipython3",
   "version": "3.4.3"
  }
 },
 "nbformat": 4,
 "nbformat_minor": 0
}
