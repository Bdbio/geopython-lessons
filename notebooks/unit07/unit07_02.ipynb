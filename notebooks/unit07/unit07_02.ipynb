{
 "cells": [
  {
   "cell_type": "markdown",
   "metadata": {},
   "source": [
    "# PyQGIS"
   ]
  },
  {
   "cell_type": "markdown",
   "metadata": {},
   "source": [
    "## PyQGIS example 2: functions in Python QGIS shell"
   ]
  },
  {
   "cell_type": "markdown",
   "metadata": {},
   "source": [
    "Same example as in \"unit07_01\" but now like a function:\n",
    "\n",
    "\n",
    "```python\n",
    "def bboxBuild(llx_pt, lly_pt, urx_pt, ury_pt, lyr_name, epsg=4326):\n",
    "    \"\"\"\n",
    "    Building a bounding box polygon layer \n",
    "        urx_pt, ury_pt: upper right corners\n",
    "        llx_pt, lly_pt: lower left corners\n",
    "    \"\"\"\n",
    "    try:\n",
    "        fields_def=\"field=llx:double&field=lly:double&field=urx:double&field=ury:double\"\n",
    "        uri_lyr = \"Polygon?crs=epsg:{0}&{1}\".format(epsg, fields_def)\n",
    "        \n",
    "        lyr = QgsVectorLayer(uri_lyr, lyr_name, \"memory\")\n",
    "        prv = lyr.dataProvider()\n",
    "\n",
    "        ft = QgsFeature()\n",
    "        ft_gm = [[QgsPoint(llx_pt, lly_pt), \n",
    "                  QgsPoint(llx_pt, ury_pt), \n",
    "                  QgsPoint(urx_pt, ury_pt), \n",
    "                  QgsPoint(urx_pt, lly_pt)]]\n",
    "\n",
    "        geom_poly = QgsGeometry.fromPolygon(ft_gm)\n",
    "        ft.setGeometry(geom_poly)\n",
    "\n",
    "        ft.setAttributes([llx_pt, lly_pt, urx_pt, ury_pt])\n",
    "        prv.addFeatures([ft])\n",
    "        lyr.updateExtents()\n",
    "\n",
    "        QgsMapLayerRegistry.instance().addMapLayer(ly)\n",
    "\n",
    "    except Exception as error:\n",
    "        print(\"Error creating bbox: {0}\".format(error))\n",
    "```"
   ]
  },
  {
   "cell_type": "markdown",
   "metadata": {},
   "source": [
    "Creating variables and executing function:\n",
    "\n",
    "```python\n",
    ">>> llx_pt = -6\n",
    ">>> lly_pt = 35\n",
    ">>> urx_pt = 0\n",
    ">>> ury_pt = 40\n",
    "\n",
    ">>> bboxBuild(llx_pt, lly_pt, urx_pt, ury_pt, \"my_bbox\")\n",
    "```\n",
    "\n",
    "![QGIS Python shell editor](img/qgis_shell_editor.png)"
   ]
  }
 ],
 "metadata": {
  "kernelspec": {
   "display_name": "Python 2",
   "language": "python",
   "name": "python2"
  },
  "language_info": {
   "codemirror_mode": {
    "name": "ipython",
    "version": 2
   },
   "file_extension": ".py",
   "mimetype": "text/x-python",
   "name": "python",
   "nbconvert_exporter": "python",
   "pygments_lexer": "ipython2",
   "version": "2.7.6"
  }
 },
 "nbformat": 4,
 "nbformat_minor": 0
}
