{
 "cells": [
  {
   "cell_type": "markdown",
   "metadata": {},
   "source": [
    "# PyQGIS"
   ]
  },
  {
   "cell_type": "markdown",
   "metadata": {},
   "source": [
    "## PyQGIS example 3: Python in geoprocessing toolbox\n",
    "\n",
    "Same example as in \"unit07_02\" but now in geoprocessing toolbox:"
   ]
  },
  {
   "cell_type": "markdown",
   "metadata": {},
   "source": [
    "\n",
    "```python\n",
    "##Polygons=group\n",
    "##BBox builder=name\n",
    "##llx_pt=number -6.0\n",
    "##lly_pt=number 35.0\n",
    "##urx_pt=number 0.0\n",
    "##ury_pt=number 40.0\n",
    "##lyr_name=string my_bbox\n",
    "\n",
    "from qgis.core import *\n",
    "\n",
    "\n",
    "def bboxBuild(llx_pt, lly_pt, urx_pt, ury_pt, lyr_name, epsg=4326):\n",
    "    \"\"\"\n",
    "    Building a bounding box polygon layer \n",
    "        urx_pt, ury_pt: upper right corners\n",
    "        llx_pt, lly_pt: lower left corners\n",
    "    \"\"\"\n",
    "    try:\n",
    "        progress.setText(\"BBox corners: {0},{1},{2},{3}\".format(llx_pt, lly_pt, urx_pt, ury_pt))\n",
    "        \n",
    "        fields_def=\"field=llx:double&field=lly:double&field=urx:double&field=ury:double\"\n",
    "        uri_lyr = \"Polygon?crs=epsg:{0}&{1}\".format(epsg, fields_def)\n",
    "\n",
    "        lyr = QgsVectorLayer(uri_lyr, lyr_name, \"memory\")\n",
    "        prv = lyr.dataProvider()\n",
    "\n",
    "        ft = QgsFeature()\n",
    "        ft_gm = [[QgsPoint(llx_pt, lly_pt), \n",
    "                  QgsPoint(llx_pt, ury_pt), \n",
    "                  QgsPoint(urx_pt, ury_pt), \n",
    "                  QgsPoint(urx_pt, lly_pt)]]\n",
    "\n",
    "        geom_poly = QgsGeometry.fromPolygon(ft_gm)\n",
    "        ft.setGeometry(geom_poly)\n",
    "\n",
    "        ft.setAttributes([llx_pt, lly_pt, urx_pt, ury_pt])\n",
    "        prv.addFeatures([ft])\n",
    "        lyr.updateExtents()\n",
    "\n",
    "        QgsMapLayerRegistry.instance().addMapLayer(lyr)\n",
    "        \n",
    "        progress.setText(\"Successfully builded bounding box!!\")\n",
    "\n",
    "    except Exception as error:\n",
    "        progress.setText(\"Error creating bbox: {0}\".format(error))\n",
    "\n",
    "bboxBuild(llx_pt, lly_pt, urx_pt, ury_pt, lyr_name)\n",
    "```"
   ]
  },
  {
   "cell_type": "markdown",
   "metadata": {},
   "source": [
    "Below a screenshot from created tool GUI:"
   ]
  },
  {
   "cell_type": "markdown",
   "metadata": {},
   "source": [
    "![BBox builder](img/bbox_builder.png)"
   ]
  }
 ],
 "metadata": {
  "kernelspec": {
   "display_name": "Python 2",
   "language": "python",
   "name": "python2"
  },
  "language_info": {
   "codemirror_mode": {
    "name": "ipython",
    "version": 2
   },
   "file_extension": ".py",
   "mimetype": "text/x-python",
   "name": "python",
   "nbconvert_exporter": "python",
   "pygments_lexer": "ipython2",
   "version": "2.7.6"
  }
 },
 "nbformat": 4,
 "nbformat_minor": 0
}
