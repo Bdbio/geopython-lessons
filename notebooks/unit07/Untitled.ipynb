{
 "cells": [
  {
   "cell_type": "code",
   "execution_count": null,
   "metadata": {
    "collapsed": false
   },
   "outputs": [],
   "source": [
    "from qgis.core import *\n",
    "QgsApplication.initQgis()"
   ]
  },
  {
   "cell_type": "code",
   "execution_count": 6,
   "metadata": {
    "collapsed": false
   },
   "outputs": [],
   "source": [
    "fields_def=\"field=llx:double&field=lly:double&field=urx:double&field=ury:double\"\n",
    "epsg=4326\n",
    "uri_lyr = \"Polygon?crs=epsg:{0}&{1}\".format(epsg, fields_def)\n",
    "\n"
   ]
  },
  {
   "cell_type": "code",
   "execution_count": 7,
   "metadata": {
    "collapsed": false
   },
   "outputs": [
    {
     "ename": "NameError",
     "evalue": "name 'QgsVectorLayer' is not defined",
     "output_type": "error",
     "traceback": [
      "\u001b[1;31m---------------------------------------------------------------------------\u001b[0m",
      "\u001b[1;31mNameError\u001b[0m                                 Traceback (most recent call last)",
      "\u001b[1;32m<ipython-input-7-72a273308e12>\u001b[0m in \u001b[0;36m<module>\u001b[1;34m()\u001b[0m\n\u001b[1;32m----> 1\u001b[1;33m \u001b[0mlyr\u001b[0m \u001b[1;33m=\u001b[0m \u001b[0mQgsVectorLayer\u001b[0m\u001b[1;33m(\u001b[0m\u001b[0muri_lyr\u001b[0m\u001b[1;33m,\u001b[0m \u001b[0mlyr_name\u001b[0m\u001b[1;33m,\u001b[0m \u001b[1;34m\"memory\"\u001b[0m\u001b[1;33m)\u001b[0m\u001b[1;33m\u001b[0m\u001b[0m\n\u001b[0m",
      "\u001b[1;31mNameError\u001b[0m: name 'QgsVectorLayer' is not defined"
     ]
    }
   ],
   "source": [
    "lyr = QgsVectorLayer(uri_lyr, lyr_name, \"memory\")"
   ]
  },
  {
   "cell_type": "code",
   "execution_count": 2,
   "metadata": {
    "collapsed": false
   },
   "outputs": [],
   "source": [
    "def bboxBuild(llx_pt, lly_pt, urx_pt, ury_pt, lyr_name, epsg=4326):\n",
    "    \"\"\"\n",
    "    Building a bounding box polygon layer\n",
    "        urx_pt, ury_pt: upper right corners\n",
    "        llx_pt, lly_pt: lower left corners\n",
    "    \"\"\"\n",
    "    fields_def=\"field=llx:double&field=lly:double&field=urx:double&field=ury:double\"\n",
    "    uri_lyr = \"Polygon?crs=epsg:{0}&{1}\".format(epsg, fields_def)\n",
    "\n",
    "    lyr = QgsVectorLayer(uri_lyr, lyr_name, \"memory\")\n",
    "    prv = lyr.dataProvider()\n",
    "\n",
    "    ft = QgsFeature()\n",
    "    ft_gm = [[QgsPoint(llx_pt, lly_pt),\n",
    "              QgsPoint(llx_pt, ury_pt),\n",
    "              QgsPoint(urx_pt, ury_pt),\n",
    "              QgsPoint(urx_pt, lly_pt)]]\n",
    "\n",
    "    geom_poly = QgsGeometry.fromPolygon(ft_gm)\n",
    "    ft.setGeometry(geom_poly)\n",
    "\n",
    "    ft.setAttributes([llx_pt, lly_pt, urx_pt, ury_pt])\n",
    "    prv.addFeatures([ft])\n",
    "\n",
    "    lyr.updateExtents()\n",
    "\n",
    "    error = QgsVectorFileWriter.writeAsVectorFormat(lyr, \"/tmp/testlayer.shp\", \"CP1250\", None, \"ESRI Shapefile\")\n",
    "    if error == QgsVectorFileWriter.NoError:\n",
    "        print(\"Successfully builded bounding box!!\")\n"
   ]
  },
  {
   "cell_type": "code",
   "execution_count": 3,
   "metadata": {
    "collapsed": true
   },
   "outputs": [],
   "source": [
    "llx_pt = -6\n",
    "lly_pt = 35\n",
    "urx_pt = 0\n",
    "ury_pt = 40"
   ]
  },
  {
   "cell_type": "code",
   "execution_count": 4,
   "metadata": {
    "collapsed": false
   },
   "outputs": [
    {
     "ename": "NameError",
     "evalue": "global name 'QgsVectorLayer' is not defined",
     "output_type": "error",
     "traceback": [
      "\u001b[1;31m---------------------------------------------------------------------------\u001b[0m",
      "\u001b[1;31mNameError\u001b[0m                                 Traceback (most recent call last)",
      "\u001b[1;32m<ipython-input-4-0f111c79586d>\u001b[0m in \u001b[0;36m<module>\u001b[1;34m()\u001b[0m\n\u001b[1;32m----> 1\u001b[1;33m \u001b[0mbboxBuild\u001b[0m\u001b[1;33m(\u001b[0m\u001b[0mllx_pt\u001b[0m\u001b[1;33m,\u001b[0m \u001b[0mlly_pt\u001b[0m\u001b[1;33m,\u001b[0m \u001b[0murx_pt\u001b[0m\u001b[1;33m,\u001b[0m \u001b[0mury_pt\u001b[0m\u001b[1;33m,\u001b[0m \u001b[1;34m\"my_bbox\"\u001b[0m\u001b[1;33m)\u001b[0m\u001b[1;33m\u001b[0m\u001b[0m\n\u001b[0m",
      "\u001b[1;32m<ipython-input-2-0b99eeef870c>\u001b[0m in \u001b[0;36mbboxBuild\u001b[1;34m(llx_pt, lly_pt, urx_pt, ury_pt, lyr_name, epsg)\u001b[0m\n\u001b[0;32m      8\u001b[0m     \u001b[0muri_lyr\u001b[0m \u001b[1;33m=\u001b[0m \u001b[1;34m\"Polygon?crs=epsg:{0}&{1}\"\u001b[0m\u001b[1;33m.\u001b[0m\u001b[0mformat\u001b[0m\u001b[1;33m(\u001b[0m\u001b[0mepsg\u001b[0m\u001b[1;33m,\u001b[0m \u001b[0mfields_def\u001b[0m\u001b[1;33m)\u001b[0m\u001b[1;33m\u001b[0m\u001b[0m\n\u001b[0;32m      9\u001b[0m \u001b[1;33m\u001b[0m\u001b[0m\n\u001b[1;32m---> 10\u001b[1;33m     \u001b[0mlyr\u001b[0m \u001b[1;33m=\u001b[0m \u001b[0mQgsVectorLayer\u001b[0m\u001b[1;33m(\u001b[0m\u001b[0muri_lyr\u001b[0m\u001b[1;33m,\u001b[0m \u001b[0mlyr_name\u001b[0m\u001b[1;33m,\u001b[0m \u001b[1;34m\"memory\"\u001b[0m\u001b[1;33m)\u001b[0m\u001b[1;33m\u001b[0m\u001b[0m\n\u001b[0m\u001b[0;32m     11\u001b[0m     \u001b[0mprv\u001b[0m \u001b[1;33m=\u001b[0m \u001b[0mlyr\u001b[0m\u001b[1;33m.\u001b[0m\u001b[0mdataProvider\u001b[0m\u001b[1;33m(\u001b[0m\u001b[1;33m)\u001b[0m\u001b[1;33m\u001b[0m\u001b[0m\n\u001b[0;32m     12\u001b[0m \u001b[1;33m\u001b[0m\u001b[0m\n",
      "\u001b[1;31mNameError\u001b[0m: global name 'QgsVectorLayer' is not defined"
     ]
    }
   ],
   "source": [
    "bboxBuild(llx_pt, lly_pt, urx_pt, ury_pt, \"my_bbox\")"
   ]
  },
  {
   "cell_type": "code",
   "execution_count": null,
   "metadata": {
    "collapsed": true
   },
   "outputs": [],
   "source": []
  }
 ],
 "metadata": {
  "kernelspec": {
   "display_name": "Python 2",
   "language": "python",
   "name": "python2"
  },
  "language_info": {
   "codemirror_mode": {
    "name": "ipython",
    "version": 2
   },
   "file_extension": ".py",
   "mimetype": "text/x-python",
   "name": "python",
   "nbconvert_exporter": "python",
   "pygments_lexer": "ipython2",
   "version": "2.7.6"
  }
 },
 "nbformat": 4,
 "nbformat_minor": 0
}
