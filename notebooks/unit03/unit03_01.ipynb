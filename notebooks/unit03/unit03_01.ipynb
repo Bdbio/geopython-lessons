{
 "cells": [
  {
   "cell_type": "markdown",
   "metadata": {},
   "source": [
    "This notebook was prepared by Cayetano Benavent, 2016."
   ]
  },
  {
   "cell_type": "markdown",
   "metadata": {},
   "source": [
    "# Modules"
   ]
  },
  {
   "cell_type": "markdown",
   "metadata": {
    "collapsed": true
   },
   "source": [
    "First we create a module to import after from another module.\n",
    "\n",
    "Open a text editor and put all this code in a file with name: \n",
    "\n",
    "    circle.py"
   ]
  },
  {
   "cell_type": "markdown",
   "metadata": {},
   "source": [
    "```python\n",
    "import math\n",
    "\n",
    "PI = math.pi\n",
    "\n",
    "def getPerim(rad):\n",
    "    return 2 * PI * rad\n",
    "\n",
    "def getArea(rad):\n",
    "    return PI * (rad**2)\n",
    "```"
   ]
  },
  {
   "cell_type": "markdown",
   "metadata": {},
   "source": [
    "We create a module to import previous module.\n",
    "\n",
    "Open a text editor and put this code ina file with this name:\n",
    "    \n",
    "    testcircle.py"
   ]
  },
  {
   "cell_type": "markdown",
   "metadata": {},
   "source": [
    "```python\n",
    "import circle\n",
    "    \n",
    "radious = 12\n",
    "   \n",
    "perim = circle.getPerim(radious)\n",
    "    \n",
    "area = circle.getArea(radious)\n",
    "    \n",
    "print(\"With circle radious {0}, perimeter is {1} and area is {2}\".format(radious, perim, area))\n",
    "```"
   ]
  },
  {
   "cell_type": "markdown",
   "metadata": {},
   "source": [
    "Execute file from command line:\n",
    "\n",
    "```\n",
    "$ python3 testcircle.py\n",
    "```"
   ]
  },
  {
   "cell_type": "markdown",
   "metadata": {},
   "source": [
    "We can use circle module from interpreter:"
   ]
  },
  {
   "cell_type": "code",
   "execution_count": 5,
   "metadata": {
    "collapsed": true
   },
   "outputs": [],
   "source": [
    "import circle"
   ]
  },
  {
   "cell_type": "code",
   "execution_count": 7,
   "metadata": {
    "collapsed": false
   },
   "outputs": [
    {
     "data": {
      "text/plain": [
       "125.66370614359172"
      ]
     },
     "execution_count": 7,
     "metadata": {},
     "output_type": "execute_result"
    }
   ],
   "source": [
    "circle.getPerim(20)"
   ]
  },
  {
   "cell_type": "code",
   "execution_count": 8,
   "metadata": {
    "collapsed": false
   },
   "outputs": [
    {
     "data": {
      "text/plain": [
       "1256.6370614359173"
      ]
     },
     "execution_count": 8,
     "metadata": {},
     "output_type": "execute_result"
    }
   ],
   "source": [
    "circle.getArea(20)"
   ]
  },
  {
   "cell_type": "code",
   "execution_count": 9,
   "metadata": {
    "collapsed": false
   },
   "outputs": [
    {
     "data": {
      "text/plain": [
       "3.141592653589793"
      ]
     },
     "execution_count": 9,
     "metadata": {},
     "output_type": "execute_result"
    }
   ],
   "source": [
    "circle.PI"
   ]
  },
  {
   "cell_type": "markdown",
   "metadata": {},
   "source": [
    "Now we add documentation to each function in circle module:\n",
    "\n",
    "```python\n",
    "import math\n",
    "\n",
    "PI = math.pi\n",
    "\n",
    "def getPerim(rad):\n",
    "    \"\"\"\n",
    "    Compute circle perimeter\n",
    "    \"\"\"\n",
    "    return 2 * PI * rad\n",
    "\n",
    "def getArea(rad):\n",
    "    \"\"\"\n",
    "    Compute circle perimeter\n",
    "    \"\"\"\n",
    "    return PI * (rad**2)\n",
    "```"
   ]
  },
  {
   "cell_type": "markdown",
   "metadata": {},
   "source": [
    "Import module again and see docs (in IPython interpreter):"
   ]
  },
  {
   "cell_type": "code",
   "execution_count": 10,
   "metadata": {
    "collapsed": true
   },
   "outputs": [],
   "source": [
    "import circle"
   ]
  },
  {
   "cell_type": "code",
   "execution_count": 25,
   "metadata": {
    "collapsed": false
   },
   "outputs": [],
   "source": [
    "circle.getArea?"
   ]
  },
  {
   "cell_type": "code",
   "execution_count": 26,
   "metadata": {
    "collapsed": true
   },
   "outputs": [],
   "source": [
    "circle.getPerim?"
   ]
  },
  {
   "cell_type": "markdown",
   "metadata": {},
   "source": [
    "Another way to do a module import:"
   ]
  },
  {
   "cell_type": "code",
   "execution_count": 28,
   "metadata": {
    "collapsed": true
   },
   "outputs": [],
   "source": [
    "from circle import getArea, getPerim"
   ]
  },
  {
   "cell_type": "code",
   "execution_count": 29,
   "metadata": {
    "collapsed": false,
    "scrolled": true
   },
   "outputs": [
    {
     "data": {
      "text/plain": [
       "314.1592653589793"
      ]
     },
     "execution_count": 29,
     "metadata": {},
     "output_type": "execute_result"
    }
   ],
   "source": [
    "getArea(10)"
   ]
  },
  {
   "cell_type": "code",
   "execution_count": 30,
   "metadata": {
    "collapsed": false
   },
   "outputs": [
    {
     "data": {
      "text/plain": [
       "62.83185307179586"
      ]
     },
     "execution_count": 30,
     "metadata": {},
     "output_type": "execute_result"
    }
   ],
   "source": [
    "getPerim(10)"
   ]
  },
  {
   "cell_type": "markdown",
   "metadata": {
    "collapsed": true
   },
   "source": [
    "## Execute module as script"
   ]
  },
  {
   "cell_type": "markdown",
   "metadata": {},
   "source": [
    "You can execute modules as scripts. \n",
    "\n",
    "You must add this code to circle module to execute as script properly:"
   ]
  },
  {
   "cell_type": "markdown",
   "metadata": {},
   "source": [
    "```python\n",
    "import sys\n",
    "import math\n",
    "\n",
    "PI = math.pi\n",
    "\n",
    "def getPerim(rad):\n",
    "    \"\"\"\n",
    "    Compute circle perimeter\n",
    "    \"\"\"\n",
    "    return 2 * PI * rad\n",
    "\n",
    "def getArea(rad):\n",
    "    \"\"\"\n",
    "    Compute circle perimeter\n",
    "    \"\"\"\n",
    "    return PI * (rad**2)\n",
    "\n",
    "def main():\n",
    "    print(\"Started circle module...\")\n",
    "\n",
    "    radious = float(sys.argv[1])\n",
    "\n",
    "    perim = getPerim(radious)\n",
    "\n",
    "    area = getArea(radious)\n",
    "\n",
    "    print(\"With circle radious {0}, perimeter is {1} and area is {2}\".format(radious, perim, area))\n",
    "\n",
    "\n",
    "if __name__ == \"__main__\":\n",
    "    main()\n",
    "```"
   ]
  },
  {
   "cell_type": "markdown",
   "metadata": {},
   "source": [
    "Remarks: \n",
    "- ```main()``` is executed only if run as a script.\n",
    "- With sys.argv we pass an argument (radious) from command line."
   ]
  }
 ],
 "metadata": {
  "kernelspec": {
   "display_name": "Python 3",
   "language": "python",
   "name": "python3"
  },
  "language_info": {
   "codemirror_mode": {
    "name": "ipython",
    "version": 3
   },
   "file_extension": ".py",
   "mimetype": "text/x-python",
   "name": "python",
   "nbconvert_exporter": "python",
   "pygments_lexer": "ipython3",
   "version": "3.4.3"
  }
 },
 "nbformat": 4,
 "nbformat_minor": 0
}
