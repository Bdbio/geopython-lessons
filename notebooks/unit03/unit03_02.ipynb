{
 "cells": [
  {
   "cell_type": "markdown",
   "metadata": {},
   "source": [
    "# Comprehension dicts"
   ]
  },
  {
   "cell_type": "code",
   "execution_count": 8,
   "metadata": {
    "collapsed": false
   },
   "outputs": [],
   "source": [
    "my_dict = {\"Item_{0}\".format(idx): it**3 for idx,it in enumerate(range(20))}"
   ]
  },
  {
   "cell_type": "code",
   "execution_count": 9,
   "metadata": {
    "collapsed": false
   },
   "outputs": [
    {
     "name": "stdout",
     "output_type": "stream",
     "text": [
      "{'Item_0': 0, 'Item_9': 729, 'Item_19': 6859, 'Item_14': 2744, 'Item_17': 4913, 'Item_18': 5832, 'Item_11': 1331, 'Item_16': 4096, 'Item_4': 64, 'Item_2': 8, 'Item_7': 343, 'Item_3': 27, 'Item_5': 125, 'Item_6': 216, 'Item_10': 1000, 'Item_15': 3375, 'Item_12': 1728, 'Item_8': 512, 'Item_1': 1, 'Item_13': 2197}\n"
     ]
    }
   ],
   "source": [
    "print(my_dict)"
   ]
  },
  {
   "cell_type": "markdown",
   "metadata": {},
   "source": [
    "Previous comprehension dict in the form of a FOR loop:"
   ]
  },
  {
   "cell_type": "code",
   "execution_count": 12,
   "metadata": {
    "collapsed": true
   },
   "outputs": [],
   "source": [
    "my_dict = {}\n",
    "for idx,it in enumerate(range(20)):\n",
    "    my_dict[\"Item_{0}\".format(idx)] = it**3"
   ]
  },
  {
   "cell_type": "code",
   "execution_count": 13,
   "metadata": {
    "collapsed": false
   },
   "outputs": [
    {
     "name": "stdout",
     "output_type": "stream",
     "text": [
      "{'Item_0': 0, 'Item_9': 729, 'Item_19': 6859, 'Item_14': 2744, 'Item_17': 4913, 'Item_18': 5832, 'Item_11': 1331, 'Item_16': 4096, 'Item_4': 64, 'Item_2': 8, 'Item_7': 343, 'Item_3': 27, 'Item_5': 125, 'Item_6': 216, 'Item_10': 1000, 'Item_15': 3375, 'Item_12': 1728, 'Item_8': 512, 'Item_1': 1, 'Item_13': 2197}\n"
     ]
    }
   ],
   "source": [
    "print(my_dict)"
   ]
  },
  {
   "cell_type": "code",
   "execution_count": null,
   "metadata": {
    "collapsed": true
   },
   "outputs": [],
   "source": []
  }
 ],
 "metadata": {
  "kernelspec": {
   "display_name": "Python 3",
   "language": "python",
   "name": "python3"
  },
  "language_info": {
   "codemirror_mode": {
    "name": "ipython",
    "version": 3
   },
   "file_extension": ".py",
   "mimetype": "text/x-python",
   "name": "python",
   "nbconvert_exporter": "python",
   "pygments_lexer": "ipython3",
   "version": "3.4.4"
  }
 },
 "nbformat": 4,
 "nbformat_minor": 0
}
