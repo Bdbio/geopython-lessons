{
 "cells": [
  {
   "cell_type": "markdown",
   "metadata": {},
   "source": [
    "This notebook was prepared by Cayetano Benavent, 2016."
   ]
  },
  {
   "cell_type": "markdown",
   "metadata": {},
   "source": [
    "# Pyproj Geod examples (with GeodesicLinesToGIS library)"
   ]
  },
  {
   "cell_type": "markdown",
   "metadata": {},
   "source": [
    "Example: creating geodesic lines with library GeodesicLinesToGIS which is using Pyproj Geod module to do computations:"
   ]
  },
  {
   "cell_type": "markdown",
   "metadata": {},
   "source": [
    "https://github.com/GeographicaGS/GeodesicLinesToGIS"
   ]
  },
  {
   "cell_type": "code",
   "execution_count": 1,
   "metadata": {
    "collapsed": true
   },
   "outputs": [],
   "source": [
    "import os\n",
    "import numpy as np\n",
    "from geodesiclinestogis.geodesicline2gisfile import GeodesicLine2Gisfile"
   ]
  },
  {
   "cell_type": "markdown",
   "metadata": {},
   "source": [
    "Coordinates list to compute geodesic lines between origins and destinies:\n",
    "\n",
    "lons_lats: input coordinates. (start longitude, start latitude, end longitude, end latitude)\n"
   ]
  },
  {
   "cell_type": "code",
   "execution_count": null,
   "metadata": {
    "collapsed": true
   },
   "outputs": [],
   "source": [
    "coord = [(-6.,37.,-145.,11.),\n",
    "         (-150.,37.,140.,11.),\n",
    "         (-6.,37.,120.,50.),\n",
    "         (-3.6,40.5,-118.4,33.9),\n",
    "         (-118.4,33.9,139.8,35.5),\n",
    "         (-118.4,33.9,104.,1.35),\n",
    "         (-118.4,33.9,151.,-33.9),\n",
    "         (-20.4,33.9,178.,-33.9)\n",
    "        ]"
   ]
  },
  {
   "cell_type": "markdown",
   "metadata": {},
   "source": [
    "For faster computations, coordinates list is converted in a NumPy array:"
   ]
  },
  {
   "cell_type": "code",
   "execution_count": 3,
   "metadata": {
    "collapsed": true
   },
   "outputs": [],
   "source": [
    "coord_np = np.array(coord)"
   ]
  },
  {
   "cell_type": "markdown",
   "metadata": {},
   "source": [
    "Create folder to store layers:"
   ]
  },
  {
   "cell_type": "code",
   "execution_count": null,
   "metadata": {
    "collapsed": true
   },
   "outputs": [],
   "source": [
    "folderpath = \"/tmp/geod_line\"\n",
    "\n",
    "if not os.path.exists(folderpath):\n",
    "    os.makedirs(folderpath)\n",
    "\n",
    "layername = \"geodesicline\""
   ]
  },
  {
   "cell_type": "markdown",
   "metadata": {},
   "source": [
    "Run computations:"
   ]
  },
  {
   "cell_type": "code",
   "execution_count": 5,
   "metadata": {
    "collapsed": true
   },
   "outputs": [],
   "source": [
    "gtg = GeodesicLine2Gisfile()"
   ]
  },
  {
   "cell_type": "code",
   "execution_count": 6,
   "metadata": {
    "collapsed": true
   },
   "outputs": [],
   "source": [
    "props = [\"prop01\",\"prop02\"]"
   ]
  },
  {
   "cell_type": "code",
   "execution_count": 7,
   "metadata": {
    "collapsed": false
   },
   "outputs": [],
   "source": [
    "gtg.gdlToGisFileMulti(coord_np, folderpath, layername, prop=props)"
   ]
  }
 ],
 "metadata": {
  "kernelspec": {
   "display_name": "Python 2",
   "language": "python",
   "name": "python2"
  },
  "language_info": {
   "codemirror_mode": {
    "name": "ipython",
    "version": 2
   },
   "file_extension": ".py",
   "mimetype": "text/x-python",
   "name": "python",
   "nbconvert_exporter": "python",
   "pygments_lexer": "ipython2",
   "version": "2.7.6"
  }
 },
 "nbformat": 4,
 "nbformat_minor": 0
}
