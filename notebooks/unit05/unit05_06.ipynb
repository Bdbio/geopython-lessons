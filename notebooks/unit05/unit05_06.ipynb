{
 "cells": [
  {
   "cell_type": "markdown",
   "metadata": {},
   "source": [
    "This notebook was prepared by Cayetano Benavent, 2016."
   ]
  },
  {
   "cell_type": "markdown",
   "metadata": {},
   "source": [
    "# Writing raster data with GDAL"
   ]
  },
  {
   "cell_type": "code",
   "execution_count": 6,
   "metadata": {
    "collapsed": true
   },
   "outputs": [],
   "source": [
    "from osgeo import gdal"
   ]
  },
  {
   "cell_type": "markdown",
   "metadata": {},
   "source": [
    "## Translate datasets in GDAL\n",
    "Translate example: NetCDF datset to GeoTiff."
   ]
  },
  {
   "cell_type": "code",
   "execution_count": 10,
   "metadata": {
    "collapsed": true
   },
   "outputs": [],
   "source": [
    "input_filename = \"../../data/mslp_gfs/mslp_europe.nc\"\n",
    "src_ds = gdal.Open(input_filename)"
   ]
  },
  {
   "cell_type": "markdown",
   "metadata": {},
   "source": [
    "Run translate:"
   ]
  },
  {
   "cell_type": "code",
   "execution_count": 11,
   "metadata": {
    "collapsed": true
   },
   "outputs": [],
   "source": [
    "out_format_r = \"GTiff\"\n",
    "driver_r = gdal.GetDriverByName(out_format_r)"
   ]
  },
  {
   "cell_type": "code",
   "execution_count": 12,
   "metadata": {
    "collapsed": true
   },
   "outputs": [],
   "source": [
    "out_rasterfile = \"/tmp/mslp_europe_gdal.tif\"\n",
    "dst_ds = driver_r.CreateCopy(out_rasterfile, src_ds)"
   ]
  },
  {
   "cell_type": "code",
   "execution_count": 13,
   "metadata": {
    "collapsed": true
   },
   "outputs": [],
   "source": [
    "dst_ds = None\n",
    "src_ds = None"
   ]
  },
  {
   "cell_type": "markdown",
   "metadata": {},
   "source": [
    "### Translate dataset with creation options"
   ]
  },
  {
   "cell_type": "markdown",
   "metadata": {},
   "source": [
    "A complex translation adding LZW compression to GeoTiff:"
   ]
  },
  {
   "cell_type": "code",
   "execution_count": 14,
   "metadata": {
    "collapsed": false
   },
   "outputs": [],
   "source": [
    "input_filename = \"../../data/mslp_gfs/mslp_europe.nc\"\n",
    "src_ds = gdal.Open(input_filename)\n",
    "\n",
    "out_format_r = \"GTiff\"\n",
    "driver_r = gdal.GetDriverByName(out_format_r)\n",
    "\n",
    "out_rasterfile = \"/tmp/mslp_europe_gdal_compress.tif\"\n",
    "dst_ds = driver_r.CreateCopy(out_rasterfile, src_ds, 0, ['COMPRESS=LZW'])\n",
    "\n",
    "dst_ds = None\n",
    "src_ds = None"
   ]
  },
  {
   "cell_type": "markdown",
   "metadata": {},
   "source": [
    "More creation options for GeoTiff:\n",
    "\n",
    "http://www.gdal.org/frmt_gtiff.html"
   ]
  }
 ],
 "metadata": {
  "kernelspec": {
   "display_name": "Python 2",
   "language": "python",
   "name": "python2"
  },
  "language_info": {
   "codemirror_mode": {
    "name": "ipython",
    "version": 2
   },
   "file_extension": ".py",
   "mimetype": "text/x-python",
   "name": "python",
   "nbconvert_exporter": "python",
   "pygments_lexer": "ipython2",
   "version": "2.7.6"
  }
 },
 "nbformat": 4,
 "nbformat_minor": 0
}
