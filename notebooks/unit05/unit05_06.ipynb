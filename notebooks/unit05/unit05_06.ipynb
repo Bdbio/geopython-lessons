{
 "cells": [
  {
   "cell_type": "markdown",
   "metadata": {},
   "source": [
    "# Writing vector data with Fiona"
   ]
  },
  {
   "cell_type": "code",
   "execution_count": 1,
   "metadata": {
    "collapsed": true
   },
   "outputs": [],
   "source": [
    "import fiona"
   ]
  },
  {
   "cell_type": "markdown",
   "metadata": {},
   "source": [
    "## Create a new dataset from an existing file"
   ]
  },
  {
   "cell_type": "markdown",
   "metadata": {},
   "source": [
    "Creating dataset filtering attribute:"
   ]
  },
  {
   "cell_type": "code",
   "execution_count": 2,
   "metadata": {
    "collapsed": false
   },
   "outputs": [],
   "source": [
    "with fiona.open(\"../../data/clima/mf06_clima.shp\", 'r') as in_ds:\n",
    "    in_drv = in_ds.driver\n",
    "    in_crs = in_ds.crs\n",
    "    in_sch = in_ds.schema\n",
    "    \n",
    "    with fiona.open(\"/tmp/clima_continental.shp\", 'w', \n",
    "                driver=in_drv,\n",
    "                crs=in_crs,\n",
    "                schema=in_sch) as out_ds:\n",
    "        for ft in in_ds:\n",
    "            if ft['properties'].get('TIPO_CLIM') == 'Mediterráneo Continental':\n",
    "                out_ds.write(ft)"
   ]
  },
  {
   "cell_type": "markdown",
   "metadata": {
    "collapsed": false
   },
   "source": [
    "Converting dataset to another file format (GeoJSON):"
   ]
  },
  {
   "cell_type": "code",
   "execution_count": 13,
   "metadata": {
    "collapsed": false
   },
   "outputs": [],
   "source": [
    "with fiona.open(\"../../data/clima/mf06_clima.shp\", 'r') as in_ds:\n",
    "    in_crs = in_ds.crs\n",
    "    in_sch = in_ds.schema\n",
    "    \n",
    "    with fiona.open(\"/tmp/clima_continental.geojson\", 'w', \n",
    "                driver=\"GeoJSON\",\n",
    "                crs=in_crs,\n",
    "                schema=in_sch) as out_ds:\n",
    "        for ft in in_ds:\n",
    "            if ft['properties'].get('TIPO_CLIM') == 'Mediterráneo Continental':\n",
    "                out_ds.write(ft)"
   ]
  }
 ],
 "metadata": {
  "kernelspec": {
   "display_name": "Python 3",
   "language": "python",
   "name": "python3"
  },
  "language_info": {
   "codemirror_mode": {
    "name": "ipython",
    "version": 3
   },
   "file_extension": ".py",
   "mimetype": "text/x-python",
   "name": "python",
   "nbconvert_exporter": "python",
   "pygments_lexer": "ipython3",
   "version": "3.4.3"
  }
 },
 "nbformat": 4,
 "nbformat_minor": 0
}
