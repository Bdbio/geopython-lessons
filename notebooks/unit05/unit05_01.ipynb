{
 "cells": [
  {
   "cell_type": "markdown",
   "metadata": {},
   "source": [
    "This notebook was prepared by Cayetano Benavent, 2016."
   ]
  },
  {
   "cell_type": "markdown",
   "metadata": {},
   "source": [
    "# Pyproj (Proj.4 Python binding)"
   ]
  },
  {
   "cell_type": "markdown",
   "metadata": {},
   "source": [
    "## Working with Pyproj"
   ]
  },
  {
   "cell_type": "markdown",
   "metadata": {},
   "source": [
    "Importing library:"
   ]
  },
  {
   "cell_type": "code",
   "execution_count": 2,
   "metadata": {
    "collapsed": false
   },
   "outputs": [],
   "source": [
    "import pyproj"
   ]
  },
  {
   "cell_type": "markdown",
   "metadata": {},
   "source": [
    "First example (function reprojecting coordinates using EPSG codes):"
   ]
  },
  {
   "cell_type": "code",
   "execution_count": 3,
   "metadata": {
    "collapsed": true
   },
   "outputs": [],
   "source": [
    "def runTest01(x1, y1):\n",
    "    p1 = pyproj.Proj(init='epsg:25830')\n",
    "    p2 = pyproj.Proj(init='epsg:25829')\n",
    "\n",
    "    x2, y2 = pyproj.transform(p1,p2,x1,y1)\n",
    "    return(x2,y2)"
   ]
  },
  {
   "cell_type": "markdown",
   "metadata": {},
   "source": [
    "Second example (function reprojecting coordinates using Proj4 definitions):"
   ]
  },
  {
   "cell_type": "code",
   "execution_count": 4,
   "metadata": {
    "collapsed": true
   },
   "outputs": [],
   "source": [
    "def runTest02(x1, y1):\n",
    "    p1 = pyproj.Proj(proj='utm',zone=30,ellps='GRS80',towgs84='0,0,0,0,0,0,0',units='m')\n",
    "    p2 = pyproj.Proj(proj='utm',zone=29,ellps='GRS80',towgs84='0,0,0,0,0,0,0',units='m')\n",
    "\n",
    "    x2, y2 = pyproj.transform(p1,p2,x1,y1)\n",
    "\n",
    "    return(x2,y2)"
   ]
  },
  {
   "cell_type": "markdown",
   "metadata": {},
   "source": [
    "Run examples (No differences in results):"
   ]
  },
  {
   "cell_type": "code",
   "execution_count": 5,
   "metadata": {
    "collapsed": true
   },
   "outputs": [],
   "source": [
    "x1, y1 = (209105,4138693)"
   ]
  },
  {
   "cell_type": "code",
   "execution_count": 6,
   "metadata": {
    "collapsed": true
   },
   "outputs": [],
   "source": [
    "res01 = runTest01(x1, y1)\n",
    "res02 = runTest02(x1, y1)"
   ]
  },
  {
   "cell_type": "code",
   "execution_count": 7,
   "metadata": {
    "collapsed": false
   },
   "outputs": [
    {
     "name": "stdout",
     "output_type": "stream",
     "text": [
      "x1, y1: 209105,4138693\n",
      "Test01: (740575.202318952, 4137093.0821367116)\n",
      "Test02: (740575.202318952, 4137093.0821367116)\n",
      "True\n"
     ]
    }
   ],
   "source": [
    "print(\"x1, y1: {0},{1}\\nTest01: {2}\\nTest02: {3}\".format(x1, y1, res01, res02))\n",
    "print(res01 == res02)"
   ]
  }
 ],
 "metadata": {
  "kernelspec": {
   "display_name": "Python 3",
   "language": "python",
   "name": "python3"
  },
  "language_info": {
   "codemirror_mode": {
    "name": "ipython",
    "version": 3
   },
   "file_extension": ".py",
   "mimetype": "text/x-python",
   "name": "python",
   "nbconvert_exporter": "python",
   "pygments_lexer": "ipython3",
   "version": "3.4.3"
  }
 },
 "nbformat": 4,
 "nbformat_minor": 0
}
