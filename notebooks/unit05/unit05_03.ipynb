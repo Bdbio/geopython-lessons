{
 "cells": [
  {
   "cell_type": "markdown",
   "metadata": {},
   "source": [
    "This notebook was prepared by Cayetano Benavent, 2016."
   ]
  },
  {
   "cell_type": "markdown",
   "metadata": {},
   "source": [
    "# Reading vector data with GDAL (OGR)"
   ]
  },
  {
   "cell_type": "markdown",
   "metadata": {},
   "source": [
    "## Importing library"
   ]
  },
  {
   "cell_type": "markdown",
   "metadata": {},
   "source": [
    "Import convention for OGR :"
   ]
  },
  {
   "cell_type": "code",
   "execution_count": 95,
   "metadata": {
    "collapsed": true
   },
   "outputs": [],
   "source": [
    "from osgeo import ogr"
   ]
  },
  {
   "cell_type": "markdown",
   "metadata": {},
   "source": [
    "## Drivers"
   ]
  },
  {
   "cell_type": "markdown",
   "metadata": {},
   "source": [
    "Get a driver (ESRI Shapefile):"
   ]
  },
  {
   "cell_type": "code",
   "execution_count": 96,
   "metadata": {
    "collapsed": true
   },
   "outputs": [],
   "source": [
    "driver = ogr.GetDriverByName('ESRI shapefile')"
   ]
  },
  {
   "cell_type": "code",
   "execution_count": 97,
   "metadata": {
    "collapsed": false
   },
   "outputs": [
    {
     "data": {
      "text/plain": [
       "<osgeo.ogr.Driver; proxy of <Swig Object of type 'OGRDriverShadow *' at 0x7f165c06a720> >"
      ]
     },
     "execution_count": 97,
     "metadata": {},
     "output_type": "execute_result"
    }
   ],
   "source": [
    "driver"
   ]
  },
  {
   "cell_type": "code",
   "execution_count": 98,
   "metadata": {
    "collapsed": false
   },
   "outputs": [
    {
     "data": {
      "text/plain": [
       "'ESRI Shapefile'"
      ]
     },
     "execution_count": 98,
     "metadata": {},
     "output_type": "execute_result"
    }
   ],
   "source": [
    "driver.name"
   ]
  },
  {
   "cell_type": "markdown",
   "metadata": {},
   "source": [
    "Get total number of drivers available:"
   ]
  },
  {
   "cell_type": "code",
   "execution_count": 99,
   "metadata": {
    "collapsed": false
   },
   "outputs": [
    {
     "data": {
      "text/plain": [
       "68"
      ]
     },
     "execution_count": 99,
     "metadata": {},
     "output_type": "execute_result"
    }
   ],
   "source": [
    "ogr.GetDriverCount()"
   ]
  },
  {
   "cell_type": "markdown",
   "metadata": {},
   "source": [
    "Get a list containing all drivers name:"
   ]
  },
  {
   "cell_type": "code",
   "execution_count": 100,
   "metadata": {
    "collapsed": false
   },
   "outputs": [
    {
     "data": {
      "text/plain": [
       "'ESRI Shapefile'"
      ]
     },
     "execution_count": 100,
     "metadata": {},
     "output_type": "execute_result"
    }
   ],
   "source": [
    "ogr.GetDriver(0).name"
   ]
  },
  {
   "cell_type": "code",
   "execution_count": 101,
   "metadata": {
    "collapsed": false
   },
   "outputs": [
    {
     "data": {
      "text/plain": [
       "['ESRI Shapefile',\n",
       " 'MapInfo File',\n",
       " 'UK .NTF',\n",
       " 'SDTS',\n",
       " 'TIGER',\n",
       " 'S57',\n",
       " 'DGN',\n",
       " 'VRT',\n",
       " 'REC',\n",
       " 'Memory',\n",
       " 'BNA',\n",
       " 'CSV',\n",
       " 'NAS',\n",
       " 'GML',\n",
       " 'GPX',\n",
       " 'LIBKML',\n",
       " 'KML',\n",
       " 'GeoJSON',\n",
       " 'Interlis 1',\n",
       " 'Interlis 2',\n",
       " 'GMT',\n",
       " 'GPKG',\n",
       " 'SQLite',\n",
       " 'DODS',\n",
       " 'ODBC',\n",
       " 'WAsP',\n",
       " 'PGeo',\n",
       " 'MSSQLSpatial',\n",
       " 'OGDI',\n",
       " 'PostgreSQL',\n",
       " 'MySQL',\n",
       " 'PCIDSK',\n",
       " 'OpenFileGDB',\n",
       " 'XPlane',\n",
       " 'AVCBin',\n",
       " 'AVCE00',\n",
       " 'DXF',\n",
       " 'Geoconcept',\n",
       " 'GeoRSS',\n",
       " 'GPSTrackMaker',\n",
       " 'VFK',\n",
       " 'PGDump',\n",
       " 'OSM',\n",
       " 'GPSBabel',\n",
       " 'SUA',\n",
       " 'OpenAir',\n",
       " 'PDS',\n",
       " 'WFS',\n",
       " 'HTF',\n",
       " 'AeronavFAA',\n",
       " 'Geomedia',\n",
       " 'EDIGEO',\n",
       " 'GFT',\n",
       " 'GME',\n",
       " 'SVG',\n",
       " 'CouchDB',\n",
       " 'Idrisi',\n",
       " 'ARCGEN',\n",
       " 'SEGUKOOA',\n",
       " 'SEGY',\n",
       " 'XLS',\n",
       " 'ODS',\n",
       " 'XLSX',\n",
       " 'ElasticSearch',\n",
       " 'PDF',\n",
       " 'Walk',\n",
       " 'CartoDB',\n",
       " 'SXF']"
      ]
     },
     "execution_count": 101,
     "metadata": {},
     "output_type": "execute_result"
    }
   ],
   "source": [
    "[ogr.GetDriver(i).name for i in range(ogr.GetDriverCount())]"
   ]
  },
  {
   "cell_type": "markdown",
   "metadata": {},
   "source": [
    "## Open a vector dataset"
   ]
  },
  {
   "cell_type": "code",
   "execution_count": 102,
   "metadata": {
    "collapsed": true
   },
   "outputs": [],
   "source": [
    "geol_fl = \"../../data/geologia_marina/mm01_geologia.shp\""
   ]
  },
  {
   "cell_type": "markdown",
   "metadata": {},
   "source": [
    "Open a file in read only mode:"
   ]
  },
  {
   "cell_type": "code",
   "execution_count": 103,
   "metadata": {
    "collapsed": true
   },
   "outputs": [],
   "source": [
    "ds = ogr.Open(geol_fl, 0)\n",
    "if ds is None:\n",
    "    sys.exit('Error opening file')"
   ]
  },
  {
   "cell_type": "code",
   "execution_count": 104,
   "metadata": {
    "collapsed": false
   },
   "outputs": [
    {
     "data": {
      "text/plain": [
       "<osgeo.ogr.DataSource; proxy of <Swig Object of type 'OGRDataSourceShadow *' at 0x7f165c06a6c0> >"
      ]
     },
     "execution_count": 104,
     "metadata": {},
     "output_type": "execute_result"
    }
   ],
   "source": [
    "ds"
   ]
  },
  {
   "cell_type": "markdown",
   "metadata": {},
   "source": [
    "## Get a layer form dataset"
   ]
  },
  {
   "cell_type": "code",
   "execution_count": 105,
   "metadata": {
    "collapsed": false
   },
   "outputs": [
    {
     "data": {
      "text/plain": [
       "1"
      ]
     },
     "execution_count": 105,
     "metadata": {},
     "output_type": "execute_result"
    }
   ],
   "source": [
    "ds.GetLayerCount()"
   ]
  },
  {
   "cell_type": "code",
   "execution_count": 106,
   "metadata": {
    "collapsed": true
   },
   "outputs": [],
   "source": [
    "lyr = ds.GetLayer(0)"
   ]
  },
  {
   "cell_type": "code",
   "execution_count": 107,
   "metadata": {
    "collapsed": false
   },
   "outputs": [
    {
     "data": {
      "text/plain": [
       "<osgeo.ogr.Layer; proxy of <Swig Object of type 'OGRLayerShadow *' at 0x7f165c06a810> >"
      ]
     },
     "execution_count": 107,
     "metadata": {},
     "output_type": "execute_result"
    }
   ],
   "source": [
    "lyr"
   ]
  },
  {
   "cell_type": "code",
   "execution_count": 108,
   "metadata": {
    "collapsed": false
   },
   "outputs": [
    {
     "data": {
      "text/plain": [
       "'mm01_geologia'"
      ]
     },
     "execution_count": 108,
     "metadata": {},
     "output_type": "execute_result"
    }
   ],
   "source": [
    "lyr.GetName()"
   ]
  },
  {
   "cell_type": "code",
   "execution_count": 109,
   "metadata": {
    "collapsed": false
   },
   "outputs": [
    {
     "data": {
      "text/plain": [
       "141"
      ]
     },
     "execution_count": 109,
     "metadata": {},
     "output_type": "execute_result"
    }
   ],
   "source": [
    "lyr.GetFeatureCount()"
   ]
  },
  {
   "cell_type": "markdown",
   "metadata": {},
   "source": [
    "Get layer geometry extent:"
   ]
  },
  {
   "cell_type": "code",
   "execution_count": 110,
   "metadata": {
    "collapsed": false
   },
   "outputs": [
    {
     "name": "stdout",
     "output_type": "stream",
     "text": [
      "(85365.327337589, 629627.2718706478, 3954856.80850382, 4141104.527231427)\n",
      "Upper-Left x:85365.327337589, y:4141104.527231427\n",
      "Lower-Right x:629627.2718706478, y:3954856.80850382\n"
     ]
    }
   ],
   "source": [
    "ext = lyr.GetExtent()\n",
    "print(ext)\n",
    "print('Upper-Left x:{}, y:{}'.format(ext[0], ext[3]))\n",
    "print('Lower-Right x:{}, y:{}'.format(ext[1], ext[2]))"
   ]
  },
  {
   "cell_type": "markdown",
   "metadata": {},
   "source": [
    "Get geometry type:"
   ]
  },
  {
   "cell_type": "code",
   "execution_count": 111,
   "metadata": {
    "collapsed": false
   },
   "outputs": [
    {
     "data": {
      "text/plain": [
       "3"
      ]
     },
     "execution_count": 111,
     "metadata": {},
     "output_type": "execute_result"
    }
   ],
   "source": [
    "lyr.GetGeomType()"
   ]
  },
  {
   "cell_type": "code",
   "execution_count": 112,
   "metadata": {
    "collapsed": false
   },
   "outputs": [
    {
     "name": "stdout",
     "output_type": "stream",
     "text": [
      "Points: 1, Lines: 2, Polygons: 3\n"
     ]
    }
   ],
   "source": [
    "print(\"Points: {0}, Lines: {1}, Polygons: {2}\".format(ogr.wkbPoint, ogr.wkbLineString, ogr.wkbPolygon))"
   ]
  },
  {
   "cell_type": "markdown",
   "metadata": {},
   "source": [
    "Get attribute names (and field properties) for a layer:"
   ]
  },
  {
   "cell_type": "code",
   "execution_count": 113,
   "metadata": {
    "collapsed": false
   },
   "outputs": [
    {
     "data": {
      "text/plain": [
       "[('DESCRIPCIO', 'String', 50), ('COD_ENT', 'String', 10)]"
      ]
     },
     "execution_count": 113,
     "metadata": {},
     "output_type": "execute_result"
    }
   ],
   "source": [
    "[(fld.GetName(), ogr.GetFieldTypeName(fld.GetType()), fld.GetWidth()) for fld in lyr.schema]"
   ]
  },
  {
   "cell_type": "markdown",
   "metadata": {},
   "source": [
    "Get a feature from a layer:"
   ]
  },
  {
   "cell_type": "code",
   "execution_count": 114,
   "metadata": {
    "collapsed": false
   },
   "outputs": [],
   "source": [
    "feat = lyr.GetFeature(0)"
   ]
  },
  {
   "cell_type": "markdown",
   "metadata": {},
   "source": [
    "Get value (database and geometry) from first feature:"
   ]
  },
  {
   "cell_type": "code",
   "execution_count": 115,
   "metadata": {
    "collapsed": false
   },
   "outputs": [
    {
     "data": {
      "text/plain": [
       "'Abanico deltaico'"
      ]
     },
     "execution_count": 115,
     "metadata": {},
     "output_type": "execute_result"
    }
   ],
   "source": [
    "feat.GetField('DESCRIPCIO')"
   ]
  },
  {
   "cell_type": "code",
   "execution_count": 116,
   "metadata": {
    "collapsed": false
   },
   "outputs": [
    {
     "data": {
      "text/plain": [
       "'m01'"
      ]
     },
     "execution_count": 116,
     "metadata": {},
     "output_type": "execute_result"
    }
   ],
   "source": [
    "feat.GetField('COD_ENT')"
   ]
  },
  {
   "cell_type": "code",
   "execution_count": 117,
   "metadata": {
    "collapsed": false
   },
   "outputs": [
    {
     "data": {
      "text/plain": [
       "{'COD_ENT': 'm01', 'DESCRIPCIO': 'Abanico deltaico'}"
      ]
     },
     "execution_count": 117,
     "metadata": {},
     "output_type": "execute_result"
    }
   ],
   "source": [
    "feat.items()"
   ]
  },
  {
   "cell_type": "code",
   "execution_count": 118,
   "metadata": {
    "collapsed": false
   },
   "outputs": [
    {
     "data": {
      "text/plain": [
       "['DESCRIPCIO', 'COD_ENT']"
      ]
     },
     "execution_count": 118,
     "metadata": {},
     "output_type": "execute_result"
    }
   ],
   "source": [
    "feat.keys()"
   ]
  },
  {
   "cell_type": "code",
   "execution_count": 119,
   "metadata": {
    "collapsed": false
   },
   "outputs": [],
   "source": [
    "geom = feat.geometry()"
   ]
  },
  {
   "cell_type": "code",
   "execution_count": 120,
   "metadata": {
    "collapsed": false
   },
   "outputs": [
    {
     "data": {
      "text/plain": [
       "3144407.583156267"
      ]
     },
     "execution_count": 120,
     "metadata": {},
     "output_type": "execute_result"
    }
   ],
   "source": [
    "geom.Area()"
   ]
  },
  {
   "cell_type": "code",
   "execution_count": 121,
   "metadata": {
    "collapsed": false
   },
   "outputs": [
    {
     "data": {
      "text/plain": [
       "'POLYGON ((567254.032220158609562 4070819.703356473241001,567066.027517820475623 4070784.703918096609414,566908.523573090322316 4070755.704370033927262,566777.520383623195812 4070732.705026592127979,566669.017446592450142 4070715.705301819369197,566579.015369430184364 4070702.705511461943388,566503.51334315049462 4070694.705768123734742,566438.261767981224693 4070689.706087985541672,566379.697651266353205 4070687.706282938830554,566324.071095415740274 4070688.70636547030881,566270.694782679202035 4070692.706537948455662,566219.193313801777549 4070697.706803479231894,566169.504576872102916 4070705.706960550043732,566121.253172550350428 4070714.707012208178639,566074.377094121067785 4070725.707257832866162,566028.563138626515865 4070737.70739934919402,565983.561894499929622 4070751.707536775618792,565939.24816873727832 4070765.707572218496352,565895.559554630424827 4070780.707805067766458,565852.370748955174349 4070796.707935762125999,565809.682256800937466 4070812.708065115381032,565767.368364838301204 4070830.708191971760243,565725.492184812086634 4070848.70821772236377,565683.866211835294962 4070866.708342987112701,565642.489835927728564 4070886.708466253243387,565601.363667117781006 4070906.708789063151926,565560.487600449472666 4070927.708710675127804,565519.673936017556116 4070948.708932471927255,565479.047872151946649 4070970.709053311962634,565438.671610506251454 4070993.709273008164018,565398.358051155577414 4071016.709192919079214,565358.231692448374815 4071040.709311926271766,565318.230632816324942 4071065.709530265536159,565278.541977152926847 4071091.709547323640436,565239.228327112621628 4071118.709762905724347,565200.977100540185347 4071146.709874687250704,565163.851199071854353 4071175.710082456003875,565128.474938878789544 4071205.710084076039493,565095.1616232622182 4071237.710177821107209,565064.348168299417011 4071270.710362813435495,565036.472285252646543 4071304.71033750846982,565011.658877270645462 4071339.710501420777291,564990.03304275078699 4071376.710353443864733,564971.532384739839472 4071414.710594351403415,564955.969498298829421 4071453.710424727294594,564943.218789541628212 4071491.710646152030677,564933.468553741462529 4071530.710456675849855,564926.218187334714457 4071568.710659188218415,564921.655190319288522 4071606.710652359295636,564919.530065608676523 4071642.710538201965392,564919.342290785629302 4071678.710517223924398,564920.654754538554698 4071714.710390923544765,564922.842245466425084 4071749.710462086834013,564925.46714757673908 4071784.710431647952646,564927.841938478173688 4071820.710401443764567,564929.52921640558634 4071855.710474249441177,564929.966552787227556 4071892.71025028033182,564928.716541182249784 4071930.71043173968792,564926.028692780411802 4071968.710318379104137,564921.840906047611497 4072006.71031045820564,564916.340581120806746 4072045.71030673570931,564909.840235489537008 4072083.710307320114225,564902.464872383163311 4072120.710311780683696,564894.339595024473965 4072156.710319682024419,564885.651608214480802 4072191.710430352948606,564876.651323064230382 4072224.710243484470993,564867.46323803672567 4072256.710458022542298,564858.212861031061038 4072286.710374098271132,564849.150084311375394 4072317.710289007984102,564840.524618936469778 4072348.710402423515916,564832.461968089337461 4072379.710413874592632,564825.024023952777497 4072412.710521942935884,564818.523699168814346 4072446.710526052396744,564813.523498652502894 4072483.710322922561318,564811.960743511095643 4072529.71050179656595,564816.210461131995544 4072591.710349585395306,564828.71038477239199 4072675.710353273898363,564851.647931245621294 4072789.709999116603285,564887.523133497335948 4072939.709872582927346,564938.711114889476448 4073132.709557869005948,565007.461597971734591 4073374.70903866738081,565026.462256106431596 4073357.709175264462829,565048.712719969451427 4073335.709102554246783,565186.154548205668107 4073195.708661053795367,565310.845792790176347 4073050.708080577664077,565375.472582354443148 4072997.708070671185851,565395.160652881022543 4072982.707906205207109,565411.348644983605482 4072965.707756679970771,565429.974242997705005 4072939.707804535049945,565448.537434872239828 4072914.707852109801024,565465.663051405106671 4072897.707699465565383,565486.226050173514523 4072881.707633164245635,565510.164359226939268 4072860.707457933109254,565532.727453586645424 4072835.707591134123504,565552.665686835185625 4072809.707335265353322,565575.228786941850558 4072783.707269717939198,565584.899984409683384 4072773.117041279561818,565591.66669258417096 4072765.707321410533041,565600.174851576215588 4072756.956496026366949,565609.167425373219885 4072747.707269231788814,565626.980371275451034 4072728.707116791512817,565645.730836212984286 4072710.70706020668149,565663.856595518067479 4072690.707007670775056,565681.482042389572598 4072670.707057171501219,565682.691880300058983 4072669.261553768999875,565700.732645752490498 4072647.706903103273362,565721.170679576811381 4072624.706944794859737,565741.23389920592308 4072602.706987298559397,565759.671867826837115 4072582.706934458110482,565775.172557052923366 4072563.706791916396469,565798.048169160610996 4072537.706827726680785,565818.673709359602071 4072514.706669719424099,565838.736930547165684 4072492.706613191403449,565854.737428472260945 4072474.70656862296164,565873.487906703026965 4072454.706615658476949,565893.551133821485564 4072431.706460494548082,565914.864382950006984 4072410.706499262247235,565936.739856886910275 4072387.706337834708393,565959.99076113733463 4072365.706370732747018,565982.678851410397328 4072343.70630592526868,566004.492114629712887 4072322.706143698189408,566023.242684728116728 4072304.706090328749269,566039.868200862198137 4072286.706044883932918,566059.181111411890015 4072263.705994063988328,566078.056900854222476 4072242.706043301615864,566094.682322848238982 4072223.705899175256491,566112.182867416529916 4072204.705752005800605,566130.746054823044688 4072182.705803751479834,566148.559013034682721 4072162.705756640993059,566166.684489819570445 4072140.705710324458778,566186.49781521758996 4072117.705558965913951,566205.37331177550368 4072095.705610305070877,566222.186350678908639 4072074.705668374430388,566239.499307821504772 4072052.705425700172782,566255.249925239942968 4072030.705388815607876,566365.0521129994886 4071901.440513588953763,566373.218372798757628 4071891.826793371234089,566471.006788180209696 4071776.705053976736963,566518.508357210783288 4071729.704830934759229,566536.00882364588324 4071707.704790364950895,566552.884268976165913 4071686.704651199746877,566576.76003186381422 4071658.704694392625242,566591.510707151377574 4071640.704660127870739,566608.198643152252771 4071620.704621151089668,566627.261661878437735 4071596.704677940811962,566643.512292467872612 4071575.704541797284037,566659.700432374025695 4071552.704408002085984,566681.263632507412694 4071525.70455962466076,566701.701704041683115 4071498.704415414948016,566720.514923323062249 4071473.704275083262473,566740.765390774235129 4071446.704331992659718,566759.578605376998894 4071422.704391079954803,566780.704274641233496 4071399.704241371247917,566802.767579261562787 4071374.704090684186667,566822.268112645135261 4071350.704048037528992,566840.081097330199555 4071327.704210369382054,566859.206827083020471 4071302.704070441890508,566876.707304295734502 4071279.703934220597148,566893.707974286749959 4071255.704000924248248,566910.895943987183273 4071232.704066127538681,566925.584027493256144 4071213.703935843892395,566942.272168441326357 4071193.70389992184937,566962.585219887783751 4071170.703854980878532,566985.523456077324226 4071144.703804512973875,567007.77406393410638 4071120.703754510730505,567029.21232921036426 4071100.703803225886077,567053.275590298813768 4071075.703648627270013,567073.02632892539259 4071052.703506684396416,567091.58935353346169 4071026.703472186345607,567108.777320769615471 4071004.703538183588535,567125.090576571645215 4070980.703509459272027,567142.278555383556522 4070956.703477975912392,567159.904051384306513 4070931.703346305061132,567177.90484640316572 4070908.703511378262192,567196.217949843616225 4070885.703375592827797,567215.530879599740729 4070862.703236668370664,567233.531458876794204 4070842.703198968432844,567254.032220158609562 4070819.703356473241001))'"
      ]
     },
     "execution_count": 121,
     "metadata": {},
     "output_type": "execute_result"
    }
   ],
   "source": [
    "geom.ExportToWkt()"
   ]
  },
  {
   "cell_type": "markdown",
   "metadata": {},
   "source": [
    "Iterating through all layer features:\n",
    "\n",
    "```python\n",
    "for ft in lyr:\n",
    "    geom = ft.geometry()\n",
    "    print(geom.ExportToWkt())\n",
    "```\n",
    "\n",
    "If you try to iterate againnothing are printed. You need to reset iterator:\n",
    "```python\n",
    "lyr.ResetReading()\n",
    "```"
   ]
  },
  {
   "cell_type": "markdown",
   "metadata": {},
   "source": [
    "## Closing datasets"
   ]
  },
  {
   "cell_type": "markdown",
   "metadata": {},
   "source": [
    "Close dataset after use:"
   ]
  },
  {
   "cell_type": "code",
   "execution_count": 123,
   "metadata": {
    "collapsed": true
   },
   "outputs": [],
   "source": [
    "ds = None"
   ]
  }
 ],
 "metadata": {
  "kernelspec": {
   "display_name": "Python 3",
   "language": "python",
   "name": "python3"
  },
  "language_info": {
   "codemirror_mode": {
    "name": "ipython",
    "version": 3
   },
   "file_extension": ".py",
   "mimetype": "text/x-python",
   "name": "python",
   "nbconvert_exporter": "python",
   "pygments_lexer": "ipython3",
   "version": "3.4.3"
  }
 },
 "nbformat": 4,
 "nbformat_minor": 0
}
