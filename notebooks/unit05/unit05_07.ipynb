{
 "cells": [
  {
   "cell_type": "markdown",
   "metadata": {},
   "source": [
    "This notebook was prepared by Cayetano Benavent, 2016."
   ]
  },
  {
   "cell_type": "markdown",
   "metadata": {},
   "source": [
    "# Reading vector data with Fiona"
   ]
  },
  {
   "cell_type": "code",
   "execution_count": 1,
   "metadata": {
    "collapsed": false
   },
   "outputs": [],
   "source": [
    "import fiona"
   ]
  },
  {
   "cell_type": "markdown",
   "metadata": {},
   "source": [
    "## Open and read a dataset"
   ]
  },
  {
   "cell_type": "markdown",
   "metadata": {},
   "source": [
    "Opening a dataset (the recommended way is with the \"with\" statement - see below):"
   ]
  },
  {
   "cell_type": "code",
   "execution_count": 2,
   "metadata": {
    "collapsed": true
   },
   "outputs": [],
   "source": [
    "dt = fiona.open(\"../../data/clima/mf06_clima.shp\", 'r')"
   ]
  },
  {
   "cell_type": "markdown",
   "metadata": {},
   "source": [
    "Read dataset driver:"
   ]
  },
  {
   "cell_type": "code",
   "execution_count": 3,
   "metadata": {
    "collapsed": false
   },
   "outputs": [
    {
     "data": {
      "text/plain": [
       "'ESRI Shapefile'"
      ]
     },
     "execution_count": 3,
     "metadata": {},
     "output_type": "execute_result"
    }
   ],
   "source": [
    "dt.driver"
   ]
  },
  {
   "cell_type": "markdown",
   "metadata": {},
   "source": [
    "Coordinate reference system:"
   ]
  },
  {
   "cell_type": "code",
   "execution_count": 4,
   "metadata": {
    "collapsed": false
   },
   "outputs": [
    {
     "data": {
      "text/plain": [
       "{'init': 'epsg:25830'}"
      ]
     },
     "execution_count": 4,
     "metadata": {},
     "output_type": "execute_result"
    }
   ],
   "source": [
    "dt.crs"
   ]
  },
  {
   "cell_type": "markdown",
   "metadata": {},
   "source": [
    "Minimum bounding rectangle (minx, miny, maxx, maxy):"
   ]
  },
  {
   "cell_type": "code",
   "execution_count": 5,
   "metadata": {
    "collapsed": false
   },
   "outputs": [
    {
     "data": {
      "text/plain": [
       "(100401.20774803031, 3987099.516633557, 621272.5608119881, 4288702.721620187)"
      ]
     },
     "execution_count": 5,
     "metadata": {},
     "output_type": "execute_result"
    }
   ],
   "source": [
    "dt.bounds"
   ]
  },
  {
   "cell_type": "markdown",
   "metadata": {},
   "source": [
    "Dataset schema:"
   ]
  },
  {
   "cell_type": "code",
   "execution_count": 6,
   "metadata": {
    "collapsed": false
   },
   "outputs": [
    {
     "data": {
      "text/plain": [
       "{'geometry': 'Polygon',\n",
       " 'properties': OrderedDict([('TIPO_CLIM', 'str:40'), ('COD_ENT', 'str:4')])}"
      ]
     },
     "execution_count": 6,
     "metadata": {},
     "output_type": "execute_result"
    }
   ],
   "source": [
    "dt.schema"
   ]
  },
  {
   "cell_type": "markdown",
   "metadata": {},
   "source": [
    "\n",
    "Iterating through all layer features:\n",
    "```python\n",
    "for i in dt:\n",
    "    print(i)\n",
    "```"
   ]
  },
  {
   "cell_type": "markdown",
   "metadata": {},
   "source": [
    "Iterating element by element:"
   ]
  },
  {
   "cell_type": "code",
   "execution_count": 7,
   "metadata": {
    "collapsed": false
   },
   "outputs": [],
   "source": [
    "ft = next(dt)"
   ]
  },
  {
   "cell_type": "code",
   "execution_count": 8,
   "metadata": {
    "collapsed": false
   },
   "outputs": [
    {
     "data": {
      "text/plain": [
       "dict"
      ]
     },
     "execution_count": 8,
     "metadata": {},
     "output_type": "execute_result"
    }
   ],
   "source": [
    "type(ft)"
   ]
  },
  {
   "cell_type": "code",
   "execution_count": 9,
   "metadata": {
    "collapsed": false
   },
   "outputs": [
    {
     "data": {
      "text/plain": [
       "dict_keys(['type', 'properties', 'geometry', 'id'])"
      ]
     },
     "execution_count": 9,
     "metadata": {},
     "output_type": "execute_result"
    }
   ],
   "source": [
    "ft.keys()"
   ]
  },
  {
   "cell_type": "code",
   "execution_count": 10,
   "metadata": {
    "collapsed": false
   },
   "outputs": [
    {
     "data": {
      "text/plain": [
       "OrderedDict([('TIPO_CLIM', 'Mediterráneo Continental'), ('COD_ENT', 'f10')])"
      ]
     },
     "execution_count": 10,
     "metadata": {},
     "output_type": "execute_result"
    }
   ],
   "source": [
    "ft.get('properties')"
   ]
  },
  {
   "cell_type": "code",
   "execution_count": 11,
   "metadata": {
    "collapsed": false
   },
   "outputs": [
    {
     "data": {
      "text/plain": [
       "'0'"
      ]
     },
     "execution_count": 11,
     "metadata": {},
     "output_type": "execute_result"
    }
   ],
   "source": [
    "ft.get('id')"
   ]
  },
  {
   "cell_type": "code",
   "execution_count": 12,
   "metadata": {
    "collapsed": false
   },
   "outputs": [
    {
     "data": {
      "text/plain": [
       "'Feature'"
      ]
     },
     "execution_count": 12,
     "metadata": {},
     "output_type": "execute_result"
    }
   ],
   "source": [
    "ft.get('type')"
   ]
  },
  {
   "cell_type": "code",
   "execution_count": 13,
   "metadata": {
    "collapsed": false
   },
   "outputs": [
    {
     "data": {
      "text/plain": [
       "{'coordinates': [[(259847.80117593426, 4048354.8106294423),\n",
       "   (255129.01120000053, 4050692.185700001),\n",
       "   (253578.2961000027, 4061413.767500004),\n",
       "   (244620.17640000116, 4071119.332200002),\n",
       "   (236918.8450429095, 4079607.4005027767),\n",
       "   (236918.8450429095, 4092290.4266840573),\n",
       "   (235455.41894506942, 4103997.8354667835),\n",
       "   (236431.0363436304, 4120095.522543026),\n",
       "   (229093.74529999867, 4129225.901300002),\n",
       "   (211070.94689999986, 4129321.7255000025),\n",
       "   (200333.19259690307, 4132290.740025025),\n",
       "   (193145.23890000023, 4133672.8347999994),\n",
       "   (176918.37503146008, 4135217.592220705),\n",
       "   (174234.64540000353, 4140875.3909000065),\n",
       "   (168954.35790000204, 4142679.7830000054),\n",
       "   (160120.34646494314, 4152070.8216915466),\n",
       "   (149485.24830000103, 4155228.6174999997),\n",
       "   (142771.7660818547, 4147900.6184019856),\n",
       "   (140991.6928000031, 4159462.1736000013),\n",
       "   (148399.75730000157, 4167195.5944000036),\n",
       "   (156918.21836097818, 4174730.0968623925),\n",
       "   (164104.82120000385, 4177721.6915000044),\n",
       "   (162615.1901000021, 4171296.0336000025),\n",
       "   (170578.77333079092, 4167649.964078024),\n",
       "   (175942.7576328991, 4164973.922876792),\n",
       "   (186621.3776000049, 4166053.6099999975),\n",
       "   (195455.10560410377, 4165461.7315760683),\n",
       "   (204085.28710000124, 4170554.2744999994),\n",
       "   (209020.22610000055, 4178297.331599999),\n",
       "   (218894.1283000037, 4175838.279300006),\n",
       "   (232401.8721000012, 4174219.070000004),\n",
       "   (239845.69723858964, 4180095.992554471),\n",
       "   (235123.8090778077, 4189645.4662155434),\n",
       "   (240582.87560000177, 4196084.351500006),\n",
       "   (253246.8520000009, 4194172.2975999992),\n",
       "   (262675.67330000084, 4185064.1536),\n",
       "   (271553.2626917958, 4184974.079547273),\n",
       "   (288522.21270000003, 4191984.812999999),\n",
       "   (290937.4590999996, 4191743.774500001),\n",
       "   (295116.6127195461, 4204188.176916642),\n",
       "   (291342.124499999, 4212480.586200003),\n",
       "   (302632.4324000012, 4210562.014100002),\n",
       "   (316847.2794000013, 4203726.480699999),\n",
       "   (321267.2810000004, 4203422.018100005),\n",
       "   (331500.5125641525, 4204606.829123795),\n",
       "   (333775.7652000021, 4213161.716699999),\n",
       "   (345212.37628308684, 4211315.749308398),\n",
       "   (343042.5533000007, 4217517.134099999),\n",
       "   (348291.40460000094, 4222989.400200004),\n",
       "   (352232.5370000005, 4214796.780500002),\n",
       "   (361721.03880000487, 4219130.002300004),\n",
       "   (373424.23530000076, 4219482.324800001),\n",
       "   (379148.15059999935, 4217508.286200002),\n",
       "   (392609.67260000017, 4216703.180800004),\n",
       "   (399232.54550000094, 4213440.096600004),\n",
       "   (404653.0008000005, 4215329.406200001),\n",
       "   (418871.4898743788, 4217169.453699758),\n",
       "   (427487.10070000123, 4217486.218600001),\n",
       "   (433993.55955206044, 4212779.175406238),\n",
       "   (443114.45830000006, 4208130.6969000045),\n",
       "   (440423.2488999991, 4200866.5571),\n",
       "   (432383.20120000094, 4196031.240000002),\n",
       "   (421028.3755414123, 4188207.0574952457),\n",
       "   (414213.42729999963, 4190622.145799998),\n",
       "   (399871.8792000003, 4186154.641400004),\n",
       "   (399602.02969999984, 4181271.9963000026),\n",
       "   (390090.7766168555, 4177656.9490580726),\n",
       "   (390452.4385000011, 4170886.2426000014),\n",
       "   (382039.2753603235, 4164327.43611552),\n",
       "   (378246.0266474029, 4161450.89558105),\n",
       "   (370578.42864565086, 4164973.922876792),\n",
       "   (365992.87399804126, 4160943.7724792436),\n",
       "   (354480.7415694082, 4162047.070681112),\n",
       "   (355098.7009000005, 4155956.6974),\n",
       "   (355118.50362669025, 4143983.391127201),\n",
       "   (350919.4158528587, 4140983.988125462),\n",
       "   (342753.0565000009, 4140793.1008),\n",
       "   (336436.8810000019, 4141950.1864),\n",
       "   (335329.73400000297, 4141558.6959000006),\n",
       "   (329114.6892068442, 4141559.105311347),\n",
       "   (321180.4513000008, 4141421.3600999992),\n",
       "   (319757.6226000013, 4129959.425300002),\n",
       "   (311065.76733348053, 4124973.6095358226),\n",
       "   (304228.81769999955, 4119252.2433),\n",
       "   (291275.39869999886, 4106749.1456000004),\n",
       "   (286419.441300001, 4095570.2480000015),\n",
       "   (273802.17833996564, 4085899.233708333),\n",
       "   (268138.6017968338, 4074729.3135099746),\n",
       "   (264723.94090187363, 4065460.948223656),\n",
       "   (267524.92229999974, 4059249.782300003),\n",
       "   (266515.4950000001, 4058506.272099998),\n",
       "   (259847.80117593426, 4048354.8106294423)]],\n",
       " 'type': 'Polygon'}"
      ]
     },
     "execution_count": 13,
     "metadata": {},
     "output_type": "execute_result"
    }
   ],
   "source": [
    "ft.get('geometry')"
   ]
  },
  {
   "cell_type": "code",
   "execution_count": 14,
   "metadata": {
    "collapsed": true
   },
   "outputs": [],
   "source": [
    "dt.close()"
   ]
  },
  {
   "cell_type": "code",
   "execution_count": 15,
   "metadata": {
    "collapsed": false
   },
   "outputs": [
    {
     "data": {
      "text/plain": [
       "<closed Collection '../../data/clima/mf06_clima.shp:mf06_clima', mode 'r' at 0x7f67ec597ba8>"
      ]
     },
     "execution_count": 15,
     "metadata": {},
     "output_type": "execute_result"
    }
   ],
   "source": [
    "dt"
   ]
  },
  {
   "cell_type": "markdown",
   "metadata": {},
   "source": [
    "A better way to open datasets:"
   ]
  },
  {
   "cell_type": "code",
   "execution_count": 16,
   "metadata": {
    "collapsed": false
   },
   "outputs": [
    {
     "name": "stdout",
     "output_type": "stream",
     "text": [
      "0 OrderedDict([('TIPO_CLIM', 'Mediterráneo Continental'), ('COD_ENT', 'f10')])\n",
      "1 OrderedDict([('TIPO_CLIM', 'Continental Mediterráneo'), ('COD_ENT', 'f10')])\n",
      "2 OrderedDict([('TIPO_CLIM', 'Mediterráneo Subdesértico'), ('COD_ENT', 'f10')])\n",
      "3 OrderedDict([('TIPO_CLIM', 'Mediterráneo Subtropical'), ('COD_ENT', 'f10')])\n",
      "4 OrderedDict([('TIPO_CLIM', 'Mediterráneo Oceánico'), ('COD_ENT', 'f10')])\n",
      "5 OrderedDict([('TIPO_CLIM', 'Alta montaña'), ('COD_ENT', 'f10')])\n"
     ]
    }
   ],
   "source": [
    "with fiona.open(\"../../data/clima/mf06_clima.shp\", 'r') as dt:\n",
    "    for ft in dt:\n",
    "        print(ft.get('id'), ft.get('properties'))"
   ]
  },
  {
   "cell_type": "markdown",
   "metadata": {},
   "source": [
    "The dataset is closed:"
   ]
  },
  {
   "cell_type": "code",
   "execution_count": 17,
   "metadata": {
    "collapsed": false
   },
   "outputs": [
    {
     "data": {
      "text/plain": [
       "<closed Collection '../../data/clima/mf06_clima.shp:mf06_clima', mode 'r' at 0x7f67ec5c83c8>"
      ]
     },
     "execution_count": 17,
     "metadata": {},
     "output_type": "execute_result"
    }
   ],
   "source": [
    "dt"
   ]
  }
 ],
 "metadata": {
  "kernelspec": {
   "display_name": "Python 3",
   "language": "python",
   "name": "python3"
  },
  "language_info": {
   "codemirror_mode": {
    "name": "ipython",
    "version": 3
   },
   "file_extension": ".py",
   "mimetype": "text/x-python",
   "name": "python",
   "nbconvert_exporter": "python",
   "pygments_lexer": "ipython3",
   "version": "3.4.3"
  }
 },
 "nbformat": 4,
 "nbformat_minor": 0
}
